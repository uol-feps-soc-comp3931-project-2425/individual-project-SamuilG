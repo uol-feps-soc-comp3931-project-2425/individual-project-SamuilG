{
 "cells": [
  {
   "cell_type": "code",
   "execution_count": 1,
   "id": "8e99945f-a37e-411c-89bf-6ab6b225c089",
   "metadata": {},
   "outputs": [],
   "source": [
    "# import core libraries and modules\n",
    "import torch\n",
    "import numpy as np\n",
    "import os\n",
    "import time\n",
    "from tqdm import tqdm\n",
    "import gc\n",
    "\n",
    "# import file and dataset utilities\n",
    "from glob import glob\n",
    "from torch.utils.data import Dataset, DataLoader\n",
    "\n",
    "# import model components and plotting tools\n",
    "import torch.nn as nn\n",
    "import torch.nn.functional as F\n",
    "import matplotlib.pyplot as plt"
   ]
  },
  {
   "cell_type": "code",
   "execution_count": 2,
   "id": "40d43952",
   "metadata": {},
   "outputs": [
    {
     "name": "stdout",
     "output_type": "stream",
     "text": [
      "Using: cuda\n",
      "CUDA is available. GPU: NVIDIA GeForce RTX 4070\n"
     ]
    }
   ],
   "source": [
    "device = torch.device(\"cuda\" if torch.cuda.is_available() else \"cpu\")\n",
    "print(\"Using:\", device)\n",
    "if device.type == 'cuda':\n",
    "    print(\"CUDA is available. GPU:\", torch.cuda.get_device_name(0))\n",
    "else:\n",
    "    print(\"CUDA not available. Using CPU.\")"
   ]
  },
  {
   "cell_type": "code",
   "execution_count": 3,
   "id": "cdd6a6fa",
   "metadata": {},
   "outputs": [
    {
     "name": "stdout",
     "output_type": "stream",
     "text": [
      "Found 137 cubes in chunked format.\n"
     ]
    }
   ],
   "source": [
    "# load cube split lists and paths\n",
    "\n",
    "# paths\n",
    "data_dir = '../results/stacked_k8_dataset'\n",
    "split_dir = '../results/split_k8_cube_lists'\n",
    "\n",
    "# load train, val, and test cube name lists\n",
    "train_cubes = np.load(os.path.join(split_dir, 'train_cubes.npy'))\n",
    "val_cubes   = np.load(os.path.join(split_dir, 'val_cubes.npy'))\n",
    "test_cubes  = np.load(os.path.join(split_dir, 'test_cubes.npy'))\n",
    "\n",
    "# find all chunked X, y, and id files\n",
    "X_paths = sorted(glob(os.path.join(data_dir, '*_X.npy')))\n",
    "y_paths = sorted(glob(os.path.join(data_dir, '*_y.npy')))\n",
    "id_paths = sorted(glob(os.path.join(data_dir, '*_ids.npy')))\n",
    "\n",
    "# group by cube\n",
    "cube_to_paths = {}\n",
    "for x_path, y_path, id_path in zip(X_paths, y_paths, id_paths):\n",
    "    cube = os.path.basename(x_path).replace('_X.npy', '')\n",
    "    cube_to_paths[cube] = (x_path, y_path, id_path)\n",
    "\n",
    "print(f\"Found {len(cube_to_paths)} cubes in chunked format.\")"
   ]
  },
  {
   "cell_type": "code",
   "execution_count": 4,
   "id": "c2119125-f934-4421-8ac0-e79b1c0f77eb",
   "metadata": {},
   "outputs": [],
   "source": [
    "# RAM-safe dataset class\n",
    "\n",
    "# dataset class that loads a fixed number of cubes fully into ram\n",
    "class CRISMDatasetSubsetRAM(Dataset):\n",
    "    def __init__(self, cube_names, cube_to_paths, max_cubes=None):\n",
    "        self.X_arrays = []\n",
    "        self.y_arrays = []\n",
    "        self.starts = []\n",
    "        count = 0\n",
    "\n",
    "        # load only the first max_cubes cubes fully into memory\n",
    "        selected_cubes = cube_names if max_cubes is None else cube_names[:max_cubes]\n",
    "        print(f\"[info] Loading {len(selected_cubes)} cubes into RAM...\")\n",
    "        \n",
    "        for i, cube in enumerate(selected_cubes, start=1):\n",
    "            x_path, y_path, _ = cube_to_paths[cube]\n",
    "            X = np.load(x_path)  # fully into memory\n",
    "            y = np.load(y_path)\n",
    "            print(f\"[{i}/{len(selected_cubes)}] [loaded] {cube}: {X.shape[0]} pixels\")\n",
    "\n",
    "            self.X_arrays.append(X)\n",
    "            self.y_arrays.append(y)\n",
    "            self.starts.append((count, count + len(y)))\n",
    "            count += len(y)\n",
    "\n",
    "        # total number of samples\n",
    "        self.total_len = count\n",
    "        print(f\"[OK] Total loaded samples: {self.total_len}\")\n",
    "\n",
    "    def __len__(self):\n",
    "        return self.total_len\n",
    "\n",
    "    def __getitem__(self, idx):\n",
    "        # locate which cube this index belongs to\n",
    "        for i, (start, end) in enumerate(self.starts):\n",
    "            if start <= idx < end:\n",
    "                local_idx = idx - start\n",
    "                X = self.X_arrays[i][local_idx]\n",
    "                y = self.y_arrays[i][local_idx]\n",
    "                return torch.tensor(X, dtype=torch.float32), torch.tensor(y, dtype=torch.long)\n",
    "        raise IndexError(\"[ERROR] Index out of bounds.\")"
   ]
  },
  {
   "cell_type": "code",
   "execution_count": 5,
   "id": "5b28021c-0adf-4f1a-b64a-0e53f1dc5980",
   "metadata": {},
   "outputs": [],
   "source": [
    "# model definition\n",
    "\n",
    "# simple 1d cnn for hyperspectral pixel classification\n",
    "class SpectralCNN(nn.Module):\n",
    "    def __init__(self, input_dim=469, num_classes=8):\n",
    "        super().__init__()\n",
    "        self.conv1 = nn.Conv1d(1, 16, kernel_size=5, padding=2)\n",
    "        self.conv2 = nn.Conv1d(16, 32, kernel_size=5, padding=2)\n",
    "        self.pool = nn.AdaptiveMaxPool1d(1)\n",
    "        self.fc = nn.Linear(32, num_classes)\n",
    "\n",
    "    def forward(self, x):\n",
    "        x = x.unsqueeze(1)        # reshape to [batch, 1, features]\n",
    "        x = F.relu(self.conv1(x)) # apply first conv layer\n",
    "        x = F.relu(self.conv2(x)) # apply second conv layer\n",
    "        x = self.pool(x)          # global max pool\n",
    "        x = x.squeeze(-1)         # flatten to [batch, 32]\n",
    "        return self.fc(x)         # final prediction logits"
   ]
  },
  {
   "cell_type": "code",
   "execution_count": 6,
   "id": "7cb26bc0-cac0-41d0-8037-a4fabe95e727",
   "metadata": {},
   "outputs": [
    {
     "name": "stdout",
     "output_type": "stream",
     "text": [
      "[info] Loading 28 cubes into RAM...\n",
      "[1/28] [loaded] frt0000a09c_07_if166j_mtr3: 239494 pixels\n",
      "[2/28] [loaded] hrl0001d976_07_if183j_mtr3: 97491 pixels\n",
      "[3/28] [loaded] hrl0000bdda_07_if183j_mtr3: 50921 pixels\n",
      "[4/28] [loaded] frt0001c558_07_if165j_mtr3: 88720 pixels\n",
      "[5/28] [loaded] frt00017b1b_07_if166j_mtr3: 34470 pixels\n",
      "[6/28] [loaded] frt000165f7_07_if166j_mtr3: 20378 pixels\n",
      "[7/28] [loaded] frt00020c77_07_if166j_mtr3: 78947 pixels\n",
      "[8/28] [loaded] frt0000bc1c_07_if166j_mtr3: 121553 pixels\n",
      "[9/28] [loaded] frt00017d42_07_if166j_mtr3: 11358 pixels\n",
      "[10/28] [loaded] frt000097e2_07_if166j_mtr3: 277231 pixels\n",
      "[11/28] [loaded] hrl00013fd3_07_if183j_mtr3: 83462 pixels\n",
      "[12/28] [loaded] frt000251c0_07_if165j_mtr3: 75669 pixels\n",
      "[13/28] [loaded] frt0001821c_07_if166j_mtr3: 27598 pixels\n",
      "[14/28] [loaded] frt0000805f_07_if166j_mtr3: 435657 pixels\n",
      "[15/28] [loaded] frt00005c5e_07_if166j_mtr3: 460247 pixels\n",
      "[16/28] [loaded] frt00003e12_07_if166j_mtr3: 444615 pixels\n",
      "[17/28] [loaded] frt0000a9be_07_if165j_mtr3: 197416 pixels\n",
      "[18/28] [loaded] hrl0001e20d_07_if183j_mtr3: 76532 pixels\n",
      "[19/28] [loaded] frt0001182a_07_if165j_mtr3: 293956 pixels\n",
      "[20/28] [loaded] hrl000040ff_07_if183j_mtr3: 127925 pixels\n",
      "[21/28] [loaded] frt0000b573_07_if166j_mtr3: 97557 pixels\n",
      "[22/28] [loaded] frt000091b2_07_if165j_mtr3: 329819 pixels\n",
      "[23/28] [loaded] hrs00011a2f_07_if175j_mtr3: 57085 pixels\n",
      "[24/28] [loaded] frt0000cbe5_07_if166j_mtr3: 147798 pixels\n",
      "[25/28] [loaded] hrl0000b8c2_07_if183j_mtr3: 55389 pixels\n",
      "[26/28] [loaded] frt0000871c_07_if166j_mtr3: 356291 pixels\n",
      "[27/28] [loaded] frt0000c256_07_if165j_mtr3: 195008 pixels\n",
      "[28/28] [loaded] frt000047a3_07_if166j_mtr3: 423865 pixels\n",
      "[OK] Total loaded samples: 4906452\n"
     ]
    }
   ],
   "source": [
    "# validation DataLoader\n",
    "\n",
    "val_ds = CRISMDatasetSubsetRAM(val_cubes, cube_to_paths, max_cubes=len(val_cubes))\n",
    "val_loader = DataLoader(val_ds, batch_size=40960, num_workers=18, pin_memory=True)"
   ]
  },
  {
   "cell_type": "code",
   "execution_count": 7,
   "id": "062e0d86-37c0-44e3-9a3a-48f2b4adccc9",
   "metadata": {
    "scrolled": true
   },
   "outputs": [
    {
     "name": "stdout",
     "output_type": "stream",
     "text": [
      "\n",
      " Training on cubes 0 to 11\n",
      "[info] Loading 12 cubes into RAM...\n",
      "[1/12] [loaded] frt00003584_07_if166j_mtr3: 427754 pixels\n",
      "[2/12] [loaded] hrl0000d0c7_07_if183j_mtr3: 152370 pixels\n",
      "[3/12] [loaded] frt0000a4b5_07_if167j_mtr3: 247912 pixels\n",
      "[4/12] [loaded] frt00023565_07_if166j_mtr3: 41770 pixels\n",
      "[5/12] [loaded] hrs0000b6a2_07_if176j_mtr3: 30724 pixels\n",
      "[6/12] [loaded] hrl000141d5_07_if183j_mtr3: 70534 pixels\n",
      "[7/12] [loaded] hrl00010eea_07_if183j_mtr3: 67812 pixels\n",
      "[8/12] [loaded] frt00018781_07_if165j_mtr3: 33302 pixels\n",
      "[9/12] [loaded] frt0001ecba_07_if166j_mtr3: 103203 pixels\n",
      "[10/12] [loaded] frt00018524_07_if166j_mtr3: 100869 pixels\n",
      "[11/12] [loaded] hrl00010d72_07_if183j_mtr3: 83983 pixels\n",
      "[12/12] [loaded] frt000066a4_07_if166j_mtr3: 269502 pixels\n",
      "[OK] Total loaded samples: 1629735\n"
     ]
    },
    {
     "name": "stderr",
     "output_type": "stream",
     "text": [
      "epoch 1 [train block 0]: 100%|███████████████████████████████████████████████████████████████████████████████████████████████████████| 40/40 [00:15<00:00,  2.63it/s]\n"
     ]
    },
    {
     "name": "stdout",
     "output_type": "stream",
     "text": [
      "[OK] Block 0 | Epoch 1 | Loss: 80.03 | Val Acc: 0.1667 | Time: 28.4s\n",
      "[BEST] Epoch 1 | Val Acc: 0.1667\n"
     ]
    },
    {
     "name": "stderr",
     "output_type": "stream",
     "text": [
      "epoch 2 [train block 0]: 100%|███████████████████████████████████████████████████████████████████████████████████████████████████████| 40/40 [00:09<00:00,  4.07it/s]\n"
     ]
    },
    {
     "name": "stdout",
     "output_type": "stream",
     "text": [
      "[OK] Block 0 | Epoch 2 | Loss: 77.22 | Val Acc: 0.2092 | Time: 22.7s\n",
      "[BEST] Epoch 2 | Val Acc: 0.2092\n"
     ]
    },
    {
     "name": "stderr",
     "output_type": "stream",
     "text": [
      "epoch 3 [train block 0]: 100%|███████████████████████████████████████████████████████████████████████████████████████████████████████| 40/40 [00:09<00:00,  4.02it/s]\n"
     ]
    },
    {
     "name": "stdout",
     "output_type": "stream",
     "text": [
      "[OK] Block 0 | Epoch 3 | Loss: 76.82 | Val Acc: 0.2151 | Time: 22.8s\n",
      "[BEST] Epoch 3 | Val Acc: 0.2151\n"
     ]
    },
    {
     "name": "stderr",
     "output_type": "stream",
     "text": [
      "epoch 4 [train block 0]: 100%|███████████████████████████████████████████████████████████████████████████████████████████████████████| 40/40 [00:10<00:00,  4.00it/s]\n"
     ]
    },
    {
     "name": "stdout",
     "output_type": "stream",
     "text": [
      "[OK] Block 0 | Epoch 4 | Loss: 75.99 | Val Acc: 0.2619 | Time: 23.1s\n",
      "[BEST] Epoch 4 | Val Acc: 0.2619\n"
     ]
    },
    {
     "name": "stderr",
     "output_type": "stream",
     "text": [
      "epoch 5 [train block 0]: 100%|███████████████████████████████████████████████████████████████████████████████████████████████████████| 40/40 [00:09<00:00,  4.13it/s]\n"
     ]
    },
    {
     "name": "stdout",
     "output_type": "stream",
     "text": [
      "[OK] Block 0 | Epoch 5 | Loss: 73.87 | Val Acc: 0.2827 | Time: 22.9s\n",
      "[BEST] Epoch 5 | Val Acc: 0.2827\n"
     ]
    },
    {
     "name": "stderr",
     "output_type": "stream",
     "text": [
      "epoch 6 [train block 0]: 100%|███████████████████████████████████████████████████████████████████████████████████████████████████████| 40/40 [00:09<00:00,  4.12it/s]\n"
     ]
    },
    {
     "name": "stdout",
     "output_type": "stream",
     "text": [
      "[OK] Block 0 | Epoch 6 | Loss: 69.35 | Val Acc: 0.2892 | Time: 22.8s\n",
      "[BEST] Epoch 6 | Val Acc: 0.2892\n"
     ]
    },
    {
     "name": "stderr",
     "output_type": "stream",
     "text": [
      "epoch 7 [train block 0]: 100%|███████████████████████████████████████████████████████████████████████████████████████████████████████| 40/40 [00:09<00:00,  4.15it/s]\n"
     ]
    },
    {
     "name": "stdout",
     "output_type": "stream",
     "text": [
      "[OK] Block 0 | Epoch 7 | Loss: 63.21 | Val Acc: 0.3270 | Time: 22.7s\n",
      "[BEST] Epoch 7 | Val Acc: 0.3270\n"
     ]
    },
    {
     "name": "stderr",
     "output_type": "stream",
     "text": [
      "epoch 8 [train block 0]: 100%|███████████████████████████████████████████████████████████████████████████████████████████████████████| 40/40 [00:09<00:00,  4.09it/s]\n"
     ]
    },
    {
     "name": "stdout",
     "output_type": "stream",
     "text": [
      "[OK] Block 0 | Epoch 8 | Loss: 57.16 | Val Acc: 0.4091 | Time: 22.9s\n",
      "[BEST] Epoch 8 | Val Acc: 0.4091\n"
     ]
    },
    {
     "name": "stderr",
     "output_type": "stream",
     "text": [
      "epoch 9 [train block 0]: 100%|███████████████████████████████████████████████████████████████████████████████████████████████████████| 40/40 [00:09<00:00,  4.08it/s]\n"
     ]
    },
    {
     "name": "stdout",
     "output_type": "stream",
     "text": [
      "[OK] Block 0 | Epoch 9 | Loss: 51.61 | Val Acc: 0.4739 | Time: 22.8s\n",
      "[BEST] Epoch 9 | Val Acc: 0.4739\n"
     ]
    },
    {
     "name": "stderr",
     "output_type": "stream",
     "text": [
      "epoch 10 [train block 0]: 100%|██████████████████████████████████████████████████████████████████████████████████████████████████████| 40/40 [00:09<00:00,  4.11it/s]\n"
     ]
    },
    {
     "name": "stdout",
     "output_type": "stream",
     "text": [
      "[OK] Block 0 | Epoch 10 | Loss: 46.42 | Val Acc: 0.4981 | Time: 22.9s\n",
      "[BEST] Epoch 10 | Val Acc: 0.4981\n"
     ]
    },
    {
     "name": "stderr",
     "output_type": "stream",
     "text": [
      "epoch 11 [train block 0]: 100%|██████████████████████████████████████████████████████████████████████████████████████████████████████| 40/40 [00:10<00:00,  3.83it/s]\n"
     ]
    },
    {
     "name": "stdout",
     "output_type": "stream",
     "text": [
      "[OK] Block 0 | Epoch 11 | Loss: 41.91 | Val Acc: 0.5075 | Time: 23.2s\n",
      "[BEST] Epoch 11 | Val Acc: 0.5075\n"
     ]
    },
    {
     "name": "stderr",
     "output_type": "stream",
     "text": [
      "epoch 12 [train block 0]: 100%|██████████████████████████████████████████████████████████████████████████████████████████████████████| 40/40 [00:09<00:00,  4.06it/s]\n"
     ]
    },
    {
     "name": "stdout",
     "output_type": "stream",
     "text": [
      "[OK] Block 0 | Epoch 12 | Loss: 38.28 | Val Acc: 0.5188 | Time: 23.0s\n",
      "[BEST] Epoch 12 | Val Acc: 0.5188\n"
     ]
    },
    {
     "name": "stderr",
     "output_type": "stream",
     "text": [
      "epoch 13 [train block 0]: 100%|██████████████████████████████████████████████████████████████████████████████████████████████████████| 40/40 [00:09<00:00,  4.02it/s]\n"
     ]
    },
    {
     "name": "stdout",
     "output_type": "stream",
     "text": [
      "[OK] Block 0 | Epoch 13 | Loss: 35.45 | Val Acc: 0.5372 | Time: 22.8s\n",
      "[BEST] Epoch 13 | Val Acc: 0.5372\n"
     ]
    },
    {
     "name": "stderr",
     "output_type": "stream",
     "text": [
      "epoch 14 [train block 0]: 100%|██████████████████████████████████████████████████████████████████████████████████████████████████████| 40/40 [00:09<00:00,  4.10it/s]\n"
     ]
    },
    {
     "name": "stdout",
     "output_type": "stream",
     "text": [
      "[OK] Block 0 | Epoch 14 | Loss: 33.20 | Val Acc: 0.5565 | Time: 22.4s\n",
      "[BEST] Epoch 14 | Val Acc: 0.5565\n"
     ]
    },
    {
     "name": "stderr",
     "output_type": "stream",
     "text": [
      "epoch 15 [train block 0]: 100%|██████████████████████████████████████████████████████████████████████████████████████████████████████| 40/40 [00:09<00:00,  4.13it/s]\n"
     ]
    },
    {
     "name": "stdout",
     "output_type": "stream",
     "text": [
      "[OK] Block 0 | Epoch 15 | Loss: 31.35 | Val Acc: 0.5703 | Time: 22.6s\n",
      "[BEST] Epoch 15 | Val Acc: 0.5703\n"
     ]
    },
    {
     "name": "stderr",
     "output_type": "stream",
     "text": [
      "epoch 16 [train block 0]: 100%|██████████████████████████████████████████████████████████████████████████████████████████████████████| 40/40 [00:09<00:00,  4.19it/s]\n"
     ]
    },
    {
     "name": "stdout",
     "output_type": "stream",
     "text": [
      "[OK] Block 0 | Epoch 16 | Loss: 29.75 | Val Acc: 0.5815 | Time: 22.6s\n",
      "[BEST] Epoch 16 | Val Acc: 0.5815\n"
     ]
    },
    {
     "name": "stderr",
     "output_type": "stream",
     "text": [
      "epoch 17 [train block 0]: 100%|██████████████████████████████████████████████████████████████████████████████████████████████████████| 40/40 [00:09<00:00,  4.28it/s]\n"
     ]
    },
    {
     "name": "stdout",
     "output_type": "stream",
     "text": [
      "[OK] Block 0 | Epoch 17 | Loss: 28.35 | Val Acc: 0.5933 | Time: 22.3s\n",
      "[BEST] Epoch 17 | Val Acc: 0.5933\n"
     ]
    },
    {
     "name": "stderr",
     "output_type": "stream",
     "text": [
      "epoch 18 [train block 0]: 100%|██████████████████████████████████████████████████████████████████████████████████████████████████████| 40/40 [00:09<00:00,  4.21it/s]\n"
     ]
    },
    {
     "name": "stdout",
     "output_type": "stream",
     "text": [
      "[OK] Block 0 | Epoch 18 | Loss: 27.08 | Val Acc: 0.6009 | Time: 22.3s\n",
      "[BEST] Epoch 18 | Val Acc: 0.6009\n"
     ]
    },
    {
     "name": "stderr",
     "output_type": "stream",
     "text": [
      "epoch 19 [train block 0]: 100%|██████████████████████████████████████████████████████████████████████████████████████████████████████| 40/40 [00:09<00:00,  4.21it/s]\n"
     ]
    },
    {
     "name": "stdout",
     "output_type": "stream",
     "text": [
      "[OK] Block 0 | Epoch 19 | Loss: 25.96 | Val Acc: 0.6110 | Time: 22.2s\n",
      "[BEST] Epoch 19 | Val Acc: 0.6110\n"
     ]
    },
    {
     "name": "stderr",
     "output_type": "stream",
     "text": [
      "epoch 20 [train block 0]: 100%|██████████████████████████████████████████████████████████████████████████████████████████████████████| 40/40 [00:09<00:00,  4.17it/s]\n"
     ]
    },
    {
     "name": "stdout",
     "output_type": "stream",
     "text": [
      "[OK] Block 0 | Epoch 20 | Loss: 24.97 | Val Acc: 0.6181 | Time: 22.5s\n",
      "[BEST] Epoch 20 | Val Acc: 0.6181\n",
      "[OK] Best model for block 0 reached Val Acc: 0.6181\n",
      "[GLOBAL BEST] Block 0 | Val Acc: 0.6181\n",
      "[OK] Block 0 completed in 459.9s\n",
      "\n",
      " Training on cubes 12 to 23\n",
      "[info] Loading 12 cubes into RAM...\n",
      "[1/12] [loaded] frt0000857f_07_if166j_mtr3: 375967 pixels\n",
      "[2/12] [loaded] frt00004f75_07_if166j_mtr3: 1824202 pixels\n",
      "[3/12] [loaded] frt0000b012_07_if166j_mtr3: 128257 pixels\n",
      "[4/12] [loaded] frt00009971_07_if166j_mtr3: 286107 pixels\n",
      "[5/12] [loaded] frt000199c7_07_if166j_mtr3: 80692 pixels\n",
      "[6/12] [loaded] frt000064d9_07_if166j_mtr3: 442443 pixels\n",
      "[7/12] [loaded] hrl00011a72_07_if183j_mtr3: 192873 pixels\n",
      "[8/12] [loaded] frt00019daa_07_if165j_mtr3: 68573 pixels\n",
      "[9/12] [loaded] frt0000b072_07_if166j_mtr3: 144528 pixels\n",
      "[10/12] [loaded] frt000203de_07_if165j_mtr3: 163778 pixels\n",
      "[11/12] [loaded] frt000128d0_07_if165j_mtr3: 217017 pixels\n",
      "[12/12] [loaded] hrl0001fc92_07_if182j_mtr3: 78785 pixels\n",
      "[OK] Total loaded samples: 4003222\n"
     ]
    },
    {
     "name": "stderr",
     "output_type": "stream",
     "text": [
      "epoch 1 [train block 12]: 100%|██████████████████████████████████████████████████████████████████████████████████████████████████████| 98/98 [00:21<00:00,  4.46it/s]\n"
     ]
    },
    {
     "name": "stdout",
     "output_type": "stream",
     "text": [
      "[OK] Block 12 | Epoch 1 | Loss: 56.38 | Val Acc: 0.7134 | Time: 35.3s\n",
      "[BEST] Epoch 1 | Val Acc: 0.7134\n"
     ]
    },
    {
     "name": "stderr",
     "output_type": "stream",
     "text": [
      "epoch 2 [train block 12]: 100%|██████████████████████████████████████████████████████████████████████████████████████████████████████| 98/98 [00:21<00:00,  4.64it/s]\n"
     ]
    },
    {
     "name": "stdout",
     "output_type": "stream",
     "text": [
      "[OK] Block 12 | Epoch 2 | Loss: 49.10 | Val Acc: 0.7227 | Time: 34.5s\n",
      "[BEST] Epoch 2 | Val Acc: 0.7227\n"
     ]
    },
    {
     "name": "stderr",
     "output_type": "stream",
     "text": [
      "epoch 3 [train block 12]: 100%|██████████████████████████████████████████████████████████████████████████████████████████████████████| 98/98 [00:21<00:00,  4.63it/s]\n"
     ]
    },
    {
     "name": "stdout",
     "output_type": "stream",
     "text": [
      "[OK] Block 12 | Epoch 3 | Loss: 45.56 | Val Acc: 0.7242 | Time: 34.7s\n",
      "[BEST] Epoch 3 | Val Acc: 0.7242\n"
     ]
    },
    {
     "name": "stderr",
     "output_type": "stream",
     "text": [
      "epoch 4 [train block 12]: 100%|██████████████████████████████████████████████████████████████████████████████████████████████████████| 98/98 [00:21<00:00,  4.57it/s]\n"
     ]
    },
    {
     "name": "stdout",
     "output_type": "stream",
     "text": [
      "[OK] Block 12 | Epoch 4 | Loss: 42.33 | Val Acc: 0.7304 | Time: 35.2s\n",
      "[BEST] Epoch 4 | Val Acc: 0.7304\n"
     ]
    },
    {
     "name": "stderr",
     "output_type": "stream",
     "text": [
      "epoch 5 [train block 12]: 100%|██████████████████████████████████████████████████████████████████████████████████████████████████████| 98/98 [00:21<00:00,  4.55it/s]\n"
     ]
    },
    {
     "name": "stdout",
     "output_type": "stream",
     "text": [
      "[OK] Block 12 | Epoch 5 | Loss: 39.40 | Val Acc: 0.7389 | Time: 34.7s\n",
      "[BEST] Epoch 5 | Val Acc: 0.7389\n"
     ]
    },
    {
     "name": "stderr",
     "output_type": "stream",
     "text": [
      "epoch 6 [train block 12]: 100%|██████████████████████████████████████████████████████████████████████████████████████████████████████| 98/98 [00:21<00:00,  4.62it/s]\n"
     ]
    },
    {
     "name": "stdout",
     "output_type": "stream",
     "text": [
      "[OK] Block 12 | Epoch 6 | Loss: 36.61 | Val Acc: 0.7512 | Time: 35.0s\n",
      "[BEST] Epoch 6 | Val Acc: 0.7512\n"
     ]
    },
    {
     "name": "stderr",
     "output_type": "stream",
     "text": [
      "epoch 7 [train block 12]: 100%|██████████████████████████████████████████████████████████████████████████████████████████████████████| 98/98 [00:21<00:00,  4.54it/s]\n"
     ]
    },
    {
     "name": "stdout",
     "output_type": "stream",
     "text": [
      "[OK] Block 12 | Epoch 7 | Loss: 34.23 | Val Acc: 0.7581 | Time: 35.2s\n",
      "[BEST] Epoch 7 | Val Acc: 0.7581\n"
     ]
    },
    {
     "name": "stderr",
     "output_type": "stream",
     "text": [
      "epoch 8 [train block 12]: 100%|██████████████████████████████████████████████████████████████████████████████████████████████████████| 98/98 [00:21<00:00,  4.58it/s]\n"
     ]
    },
    {
     "name": "stdout",
     "output_type": "stream",
     "text": [
      "[OK] Block 12 | Epoch 8 | Loss: 32.19 | Val Acc: 0.7663 | Time: 34.9s\n",
      "[BEST] Epoch 8 | Val Acc: 0.7663\n"
     ]
    },
    {
     "name": "stderr",
     "output_type": "stream",
     "text": [
      "epoch 9 [train block 12]: 100%|██████████████████████████████████████████████████████████████████████████████████████████████████████| 98/98 [00:21<00:00,  4.62it/s]\n"
     ]
    },
    {
     "name": "stdout",
     "output_type": "stream",
     "text": [
      "[OK] Block 12 | Epoch 9 | Loss: 30.37 | Val Acc: 0.7751 | Time: 34.5s\n",
      "[BEST] Epoch 9 | Val Acc: 0.7751\n"
     ]
    },
    {
     "name": "stderr",
     "output_type": "stream",
     "text": [
      "epoch 10 [train block 12]: 100%|█████████████████████████████████████████████████████████████████████████████████████████████████████| 98/98 [00:21<00:00,  4.53it/s]\n"
     ]
    },
    {
     "name": "stdout",
     "output_type": "stream",
     "text": [
      "[OK] Block 12 | Epoch 10 | Loss: 28.82 | Val Acc: 0.7816 | Time: 35.3s\n",
      "[BEST] Epoch 10 | Val Acc: 0.7816\n"
     ]
    },
    {
     "name": "stderr",
     "output_type": "stream",
     "text": [
      "epoch 11 [train block 12]: 100%|█████████████████████████████████████████████████████████████████████████████████████████████████████| 98/98 [00:21<00:00,  4.49it/s]\n"
     ]
    },
    {
     "name": "stdout",
     "output_type": "stream",
     "text": [
      "[OK] Block 12 | Epoch 11 | Loss: 27.47 | Val Acc: 0.7873 | Time: 35.4s\n",
      "[BEST] Epoch 11 | Val Acc: 0.7873\n"
     ]
    },
    {
     "name": "stderr",
     "output_type": "stream",
     "text": [
      "epoch 12 [train block 12]: 100%|█████████████████████████████████████████████████████████████████████████████████████████████████████| 98/98 [00:22<00:00,  4.40it/s]\n"
     ]
    },
    {
     "name": "stdout",
     "output_type": "stream",
     "text": [
      "[OK] Block 12 | Epoch 12 | Loss: 26.30 | Val Acc: 0.7926 | Time: 35.9s\n",
      "[BEST] Epoch 12 | Val Acc: 0.7926\n"
     ]
    },
    {
     "name": "stderr",
     "output_type": "stream",
     "text": [
      "epoch 13 [train block 12]: 100%|█████████████████████████████████████████████████████████████████████████████████████████████████████| 98/98 [00:21<00:00,  4.49it/s]\n"
     ]
    },
    {
     "name": "stdout",
     "output_type": "stream",
     "text": [
      "[OK] Block 12 | Epoch 13 | Loss: 25.26 | Val Acc: 0.7994 | Time: 35.4s\n",
      "[BEST] Epoch 13 | Val Acc: 0.7994\n"
     ]
    },
    {
     "name": "stderr",
     "output_type": "stream",
     "text": [
      "epoch 14 [train block 12]: 100%|█████████████████████████████████████████████████████████████████████████████████████████████████████| 98/98 [00:21<00:00,  4.51it/s]\n"
     ]
    },
    {
     "name": "stdout",
     "output_type": "stream",
     "text": [
      "[OK] Block 12 | Epoch 14 | Loss: 24.35 | Val Acc: 0.8036 | Time: 35.5s\n",
      "[BEST] Epoch 14 | Val Acc: 0.8036\n"
     ]
    },
    {
     "name": "stderr",
     "output_type": "stream",
     "text": [
      "epoch 15 [train block 12]: 100%|█████████████████████████████████████████████████████████████████████████████████████████████████████| 98/98 [00:21<00:00,  4.54it/s]\n"
     ]
    },
    {
     "name": "stdout",
     "output_type": "stream",
     "text": [
      "[OK] Block 12 | Epoch 15 | Loss: 23.55 | Val Acc: 0.8102 | Time: 35.1s\n",
      "[BEST] Epoch 15 | Val Acc: 0.8102\n"
     ]
    },
    {
     "name": "stderr",
     "output_type": "stream",
     "text": [
      "epoch 16 [train block 12]: 100%|█████████████████████████████████████████████████████████████████████████████████████████████████████| 98/98 [00:21<00:00,  4.59it/s]\n"
     ]
    },
    {
     "name": "stdout",
     "output_type": "stream",
     "text": [
      "[OK] Block 12 | Epoch 16 | Loss: 22.83 | Val Acc: 0.8161 | Time: 34.9s\n",
      "[BEST] Epoch 16 | Val Acc: 0.8161\n"
     ]
    },
    {
     "name": "stderr",
     "output_type": "stream",
     "text": [
      "epoch 17 [train block 12]: 100%|█████████████████████████████████████████████████████████████████████████████████████████████████████| 98/98 [00:22<00:00,  4.45it/s]\n"
     ]
    },
    {
     "name": "stdout",
     "output_type": "stream",
     "text": [
      "[OK] Block 12 | Epoch 17 | Loss: 22.17 | Val Acc: 0.8176 | Time: 35.5s\n",
      "[BEST] Epoch 17 | Val Acc: 0.8176\n"
     ]
    },
    {
     "name": "stderr",
     "output_type": "stream",
     "text": [
      "epoch 18 [train block 12]: 100%|█████████████████████████████████████████████████████████████████████████████████████████████████████| 98/98 [00:21<00:00,  4.52it/s]\n"
     ]
    },
    {
     "name": "stdout",
     "output_type": "stream",
     "text": [
      "[OK] Block 12 | Epoch 18 | Loss: 21.56 | Val Acc: 0.8222 | Time: 35.2s\n",
      "[BEST] Epoch 18 | Val Acc: 0.8222\n"
     ]
    },
    {
     "name": "stderr",
     "output_type": "stream",
     "text": [
      "epoch 19 [train block 12]: 100%|█████████████████████████████████████████████████████████████████████████████████████████████████████| 98/98 [00:21<00:00,  4.47it/s]\n"
     ]
    },
    {
     "name": "stdout",
     "output_type": "stream",
     "text": [
      "[OK] Block 12 | Epoch 19 | Loss: 21.00 | Val Acc: 0.8231 | Time: 35.4s\n",
      "[BEST] Epoch 19 | Val Acc: 0.8231\n"
     ]
    },
    {
     "name": "stderr",
     "output_type": "stream",
     "text": [
      "epoch 20 [train block 12]: 100%|█████████████████████████████████████████████████████████████████████████████████████████████████████| 98/98 [00:21<00:00,  4.54it/s]\n"
     ]
    },
    {
     "name": "stdout",
     "output_type": "stream",
     "text": [
      "[OK] Block 12 | Epoch 20 | Loss: 20.49 | Val Acc: 0.8280 | Time: 34.9s\n",
      "[BEST] Epoch 20 | Val Acc: 0.8280\n",
      "[OK] Best model for block 12 reached Val Acc: 0.8280\n",
      "[GLOBAL BEST] Block 12 | Val Acc: 0.8280\n",
      "[OK] Block 12 completed in 702.5s\n",
      "\n",
      " Training on cubes 24 to 35\n",
      "[info] Loading 12 cubes into RAM...\n",
      "[1/12] [loaded] frt00005443_07_if166j_mtr3: 394890 pixels\n",
      "[2/12] [loaded] hrl0002422e_07_if182j_mtr3: 23342 pixels\n",
      "[3/12] [loaded] frt0000beeb_07_if166j_mtr3: 197296 pixels\n",
      "[4/12] [loaded] frt0000652e_07_if166j_mtr3: 396546 pixels\n",
      "[5/12] [loaded] frt000088d0_07_if166j_mtr3: 283023 pixels\n",
      "[6/12] [loaded] hrl00011336_07_if183j_mtr3: 76043 pixels\n",
      "[7/12] [loaded] frt0001792c_07_if166j_mtr3: 104453 pixels\n",
      "[8/12] [loaded] frt00005850_07_if167j_mtr3: 601925 pixels\n",
      "[9/12] [loaded] hrl0001d93d_07_if182j_mtr3: 112556 pixels\n",
      "[10/12] [loaded] frt00008fc1_07_if166j_mtr3: 289352 pixels\n",
      "[11/12] [loaded] frt00017736_07_if166j_mtr3: 17036 pixels\n",
      "[12/12] [loaded] frt0000a053_07_if166j_mtr3: 220363 pixels\n",
      "[OK] Total loaded samples: 2716825\n"
     ]
    },
    {
     "name": "stderr",
     "output_type": "stream",
     "text": [
      "epoch 1 [train block 24]: 100%|██████████████████████████████████████████████████████████████████████████████████████████████████████| 67/67 [00:14<00:00,  4.49it/s]\n"
     ]
    },
    {
     "name": "stdout",
     "output_type": "stream",
     "text": [
      "[OK] Block 24 | Epoch 1 | Loss: 18.48 | Val Acc: 0.7783 | Time: 28.3s\n",
      "[BEST] Epoch 1 | Val Acc: 0.7783\n"
     ]
    },
    {
     "name": "stderr",
     "output_type": "stream",
     "text": [
      "epoch 2 [train block 24]: 100%|██████████████████████████████████████████████████████████████████████████████████████████████████████| 67/67 [00:14<00:00,  4.56it/s]\n"
     ]
    },
    {
     "name": "stdout",
     "output_type": "stream",
     "text": [
      "[OK] Block 24 | Epoch 2 | Loss: 12.56 | Val Acc: 0.7804 | Time: 27.9s\n",
      "[BEST] Epoch 2 | Val Acc: 0.7804\n"
     ]
    },
    {
     "name": "stderr",
     "output_type": "stream",
     "text": [
      "epoch 3 [train block 24]: 100%|██████████████████████████████████████████████████████████████████████████████████████████████████████| 67/67 [00:15<00:00,  4.34it/s]\n"
     ]
    },
    {
     "name": "stdout",
     "output_type": "stream",
     "text": [
      "[OK] Block 24 | Epoch 3 | Loss: 12.24 | Val Acc: 0.7844 | Time: 28.9s\n",
      "[BEST] Epoch 3 | Val Acc: 0.7844\n"
     ]
    },
    {
     "name": "stderr",
     "output_type": "stream",
     "text": [
      "epoch 4 [train block 24]: 100%|██████████████████████████████████████████████████████████████████████████████████████████████████████| 67/67 [00:15<00:00,  4.36it/s]\n"
     ]
    },
    {
     "name": "stdout",
     "output_type": "stream",
     "text": [
      "[OK] Block 24 | Epoch 4 | Loss: 11.98 | Val Acc: 0.7860 | Time: 28.6s\n",
      "[BEST] Epoch 4 | Val Acc: 0.7860\n"
     ]
    },
    {
     "name": "stderr",
     "output_type": "stream",
     "text": [
      "epoch 5 [train block 24]: 100%|██████████████████████████████████████████████████████████████████████████████████████████████████████| 67/67 [00:15<00:00,  4.42it/s]\n"
     ]
    },
    {
     "name": "stdout",
     "output_type": "stream",
     "text": [
      "[OK] Block 24 | Epoch 5 | Loss: 11.74 | Val Acc: 0.7887 | Time: 28.6s\n",
      "[BEST] Epoch 5 | Val Acc: 0.7887\n"
     ]
    },
    {
     "name": "stderr",
     "output_type": "stream",
     "text": [
      "epoch 6 [train block 24]: 100%|██████████████████████████████████████████████████████████████████████████████████████████████████████| 67/67 [00:15<00:00,  4.46it/s]\n"
     ]
    },
    {
     "name": "stdout",
     "output_type": "stream",
     "text": [
      "[OK] Block 24 | Epoch 6 | Loss: 11.54 | Val Acc: 0.7885 | Time: 28.4s\n"
     ]
    },
    {
     "name": "stderr",
     "output_type": "stream",
     "text": [
      "epoch 7 [train block 24]: 100%|██████████████████████████████████████████████████████████████████████████████████████████████████████| 67/67 [00:15<00:00,  4.45it/s]\n"
     ]
    },
    {
     "name": "stdout",
     "output_type": "stream",
     "text": [
      "[OK] Block 24 | Epoch 7 | Loss: 11.33 | Val Acc: 0.7926 | Time: 28.2s\n",
      "[BEST] Epoch 7 | Val Acc: 0.7926\n"
     ]
    },
    {
     "name": "stderr",
     "output_type": "stream",
     "text": [
      "epoch 8 [train block 24]: 100%|██████████████████████████████████████████████████████████████████████████████████████████████████████| 67/67 [00:15<00:00,  4.35it/s]\n"
     ]
    },
    {
     "name": "stdout",
     "output_type": "stream",
     "text": [
      "[OK] Block 24 | Epoch 8 | Loss: 11.15 | Val Acc: 0.7946 | Time: 29.0s\n",
      "[BEST] Epoch 8 | Val Acc: 0.7946\n"
     ]
    },
    {
     "name": "stderr",
     "output_type": "stream",
     "text": [
      "epoch 9 [train block 24]: 100%|██████████████████████████████████████████████████████████████████████████████████████████████████████| 67/67 [00:15<00:00,  4.41it/s]\n"
     ]
    },
    {
     "name": "stdout",
     "output_type": "stream",
     "text": [
      "[OK] Block 24 | Epoch 9 | Loss: 10.97 | Val Acc: 0.7928 | Time: 28.6s\n"
     ]
    },
    {
     "name": "stderr",
     "output_type": "stream",
     "text": [
      "epoch 10 [train block 24]: 100%|█████████████████████████████████████████████████████████████████████████████████████████████████████| 67/67 [00:15<00:00,  4.34it/s]\n"
     ]
    },
    {
     "name": "stdout",
     "output_type": "stream",
     "text": [
      "[OK] Block 24 | Epoch 10 | Loss: 10.80 | Val Acc: 0.7948 | Time: 28.8s\n",
      "[BEST] Epoch 10 | Val Acc: 0.7948\n"
     ]
    },
    {
     "name": "stderr",
     "output_type": "stream",
     "text": [
      "epoch 11 [train block 24]: 100%|█████████████████████████████████████████████████████████████████████████████████████████████████████| 67/67 [00:15<00:00,  4.45it/s]\n"
     ]
    },
    {
     "name": "stdout",
     "output_type": "stream",
     "text": [
      "[OK] Block 24 | Epoch 11 | Loss: 10.65 | Val Acc: 0.7968 | Time: 28.5s\n",
      "[BEST] Epoch 11 | Val Acc: 0.7968\n"
     ]
    },
    {
     "name": "stderr",
     "output_type": "stream",
     "text": [
      "epoch 12 [train block 24]: 100%|█████████████████████████████████████████████████████████████████████████████████████████████████████| 67/67 [00:15<00:00,  4.33it/s]\n"
     ]
    },
    {
     "name": "stdout",
     "output_type": "stream",
     "text": [
      "[OK] Block 24 | Epoch 12 | Loss: 10.50 | Val Acc: 0.7964 | Time: 28.9s\n"
     ]
    },
    {
     "name": "stderr",
     "output_type": "stream",
     "text": [
      "epoch 13 [train block 24]: 100%|█████████████████████████████████████████████████████████████████████████████████████████████████████| 67/67 [00:15<00:00,  4.43it/s]\n"
     ]
    },
    {
     "name": "stdout",
     "output_type": "stream",
     "text": [
      "[OK] Block 24 | Epoch 13 | Loss: 10.37 | Val Acc: 0.7988 | Time: 28.5s\n",
      "[BEST] Epoch 13 | Val Acc: 0.7988\n"
     ]
    },
    {
     "name": "stderr",
     "output_type": "stream",
     "text": [
      "epoch 14 [train block 24]: 100%|█████████████████████████████████████████████████████████████████████████████████████████████████████| 67/67 [00:15<00:00,  4.34it/s]\n"
     ]
    },
    {
     "name": "stdout",
     "output_type": "stream",
     "text": [
      "[OK] Block 24 | Epoch 14 | Loss: 10.23 | Val Acc: 0.7996 | Time: 28.6s\n",
      "[BEST] Epoch 14 | Val Acc: 0.7996\n"
     ]
    },
    {
     "name": "stderr",
     "output_type": "stream",
     "text": [
      "epoch 15 [train block 24]: 100%|█████████████████████████████████████████████████████████████████████████████████████████████████████| 67/67 [00:14<00:00,  4.59it/s]\n"
     ]
    },
    {
     "name": "stdout",
     "output_type": "stream",
     "text": [
      "[OK] Block 24 | Epoch 15 | Loss: 10.09 | Val Acc: 0.8006 | Time: 27.7s\n",
      "[BEST] Epoch 15 | Val Acc: 0.8006\n"
     ]
    },
    {
     "name": "stderr",
     "output_type": "stream",
     "text": [
      "epoch 16 [train block 24]: 100%|█████████████████████████████████████████████████████████████████████████████████████████████████████| 67/67 [00:14<00:00,  4.49it/s]\n"
     ]
    },
    {
     "name": "stdout",
     "output_type": "stream",
     "text": [
      "[OK] Block 24 | Epoch 16 | Loss: 9.95 | Val Acc: 0.8012 | Time: 27.9s\n",
      "[BEST] Epoch 16 | Val Acc: 0.8012\n"
     ]
    },
    {
     "name": "stderr",
     "output_type": "stream",
     "text": [
      "epoch 17 [train block 24]: 100%|█████████████████████████████████████████████████████████████████████████████████████████████████████| 67/67 [00:14<00:00,  4.58it/s]\n"
     ]
    },
    {
     "name": "stdout",
     "output_type": "stream",
     "text": [
      "[OK] Block 24 | Epoch 17 | Loss: 9.83 | Val Acc: 0.8006 | Time: 27.7s\n"
     ]
    },
    {
     "name": "stderr",
     "output_type": "stream",
     "text": [
      "epoch 18 [train block 24]: 100%|█████████████████████████████████████████████████████████████████████████████████████████████████████| 67/67 [00:14<00:00,  4.55it/s]\n"
     ]
    },
    {
     "name": "stdout",
     "output_type": "stream",
     "text": [
      "[OK] Block 24 | Epoch 18 | Loss: 9.70 | Val Acc: 0.8018 | Time: 27.9s\n",
      "[BEST] Epoch 18 | Val Acc: 0.8018\n"
     ]
    },
    {
     "name": "stderr",
     "output_type": "stream",
     "text": [
      "epoch 19 [train block 24]: 100%|█████████████████████████████████████████████████████████████████████████████████████████████████████| 67/67 [00:15<00:00,  4.42it/s]\n"
     ]
    },
    {
     "name": "stdout",
     "output_type": "stream",
     "text": [
      "[OK] Block 24 | Epoch 19 | Loss: 9.57 | Val Acc: 0.8020 | Time: 28.8s\n",
      "[BEST] Epoch 19 | Val Acc: 0.8020\n"
     ]
    },
    {
     "name": "stderr",
     "output_type": "stream",
     "text": [
      "epoch 20 [train block 24]: 100%|█████████████████████████████████████████████████████████████████████████████████████████████████████| 67/67 [00:15<00:00,  4.37it/s]\n"
     ]
    },
    {
     "name": "stdout",
     "output_type": "stream",
     "text": [
      "[OK] Block 24 | Epoch 20 | Loss: 9.45 | Val Acc: 0.8032 | Time: 28.5s\n",
      "[BEST] Epoch 20 | Val Acc: 0.8032\n",
      "[OK] Best model for block 24 reached Val Acc: 0.8032\n",
      "[OK] Block 24 completed in 568.2s\n",
      "\n",
      " Training on cubes 36 to 47\n",
      "[info] Loading 12 cubes into RAM...\n",
      "[1/12] [loaded] frt00009d96_07_if166j_mtr3: 227394 pixels\n",
      "[2/12] [loaded] frt00021c5a_07_if166j_mtr3: 100142 pixels\n",
      "[3/12] [loaded] hrl0000c4d8_07_if183j_mtr3: 83718 pixels\n",
      "[4/12] [loaded] frt0000a4fc_07_if166j_mtr3: 275308 pixels\n",
      "[5/12] [loaded] hrs0001e23e_07_if175j_mtr3: 10296 pixels\n",
      "[6/12] [loaded] frt00011188_07_if166j_mtr3: 134236 pixels\n",
      "[7/12] [loaded] frt0001b615_07_if166j_mtr3: 189465 pixels\n",
      "[8/12] [loaded] frt0000bbcb_07_if166j_mtr3: 139523 pixels\n",
      "[9/12] [loaded] hrl00009abe_07_if183j_mtr3: 101282 pixels\n",
      "[10/12] [loaded] hrl00020ba3_07_if183j_mtr3: 58573 pixels\n",
      "[11/12] [loaded] frt0000bda8_07_if165j_mtr3: 81401 pixels\n",
      "[12/12] [loaded] frt0000b438_07_if166j_mtr3: 163311 pixels\n",
      "[OK] Total loaded samples: 1564649\n"
     ]
    },
    {
     "name": "stderr",
     "output_type": "stream",
     "text": [
      "epoch 1 [train block 36]: 100%|██████████████████████████████████████████████████████████████████████████████████████████████████████| 39/39 [00:09<00:00,  4.21it/s]\n"
     ]
    },
    {
     "name": "stdout",
     "output_type": "stream",
     "text": [
      "[OK] Block 36 | Epoch 1 | Loss: 8.72 | Val Acc: 0.8066 | Time: 22.3s\n",
      "[BEST] Epoch 1 | Val Acc: 0.8066\n"
     ]
    },
    {
     "name": "stderr",
     "output_type": "stream",
     "text": [
      "epoch 2 [train block 36]: 100%|██████████████████████████████████████████████████████████████████████████████████████████████████████| 39/39 [00:09<00:00,  4.07it/s]\n"
     ]
    },
    {
     "name": "stdout",
     "output_type": "stream",
     "text": [
      "[OK] Block 36 | Epoch 2 | Loss: 7.92 | Val Acc: 0.8077 | Time: 22.5s\n",
      "[BEST] Epoch 2 | Val Acc: 0.8077\n"
     ]
    },
    {
     "name": "stderr",
     "output_type": "stream",
     "text": [
      "epoch 3 [train block 36]: 100%|██████████████████████████████████████████████████████████████████████████████████████████████████████| 39/39 [00:09<00:00,  4.05it/s]\n"
     ]
    },
    {
     "name": "stdout",
     "output_type": "stream",
     "text": [
      "[OK] Block 36 | Epoch 3 | Loss: 7.61 | Val Acc: 0.8126 | Time: 22.8s\n",
      "[BEST] Epoch 3 | Val Acc: 0.8126\n"
     ]
    },
    {
     "name": "stderr",
     "output_type": "stream",
     "text": [
      "epoch 4 [train block 36]: 100%|██████████████████████████████████████████████████████████████████████████████████████████████████████| 39/39 [00:09<00:00,  4.24it/s]\n"
     ]
    },
    {
     "name": "stdout",
     "output_type": "stream",
     "text": [
      "[OK] Block 36 | Epoch 4 | Loss: 7.38 | Val Acc: 0.8150 | Time: 22.3s\n",
      "[BEST] Epoch 4 | Val Acc: 0.8150\n"
     ]
    },
    {
     "name": "stderr",
     "output_type": "stream",
     "text": [
      "epoch 5 [train block 36]: 100%|██████████████████████████████████████████████████████████████████████████████████████████████████████| 39/39 [00:09<00:00,  4.06it/s]\n"
     ]
    },
    {
     "name": "stdout",
     "output_type": "stream",
     "text": [
      "[OK] Block 36 | Epoch 5 | Loss: 7.20 | Val Acc: 0.8182 | Time: 22.8s\n",
      "[BEST] Epoch 5 | Val Acc: 0.8182\n"
     ]
    },
    {
     "name": "stderr",
     "output_type": "stream",
     "text": [
      "epoch 6 [train block 36]: 100%|██████████████████████████████████████████████████████████████████████████████████████████████████████| 39/39 [00:09<00:00,  4.11it/s]\n"
     ]
    },
    {
     "name": "stdout",
     "output_type": "stream",
     "text": [
      "[OK] Block 36 | Epoch 6 | Loss: 7.04 | Val Acc: 0.8175 | Time: 22.4s\n"
     ]
    },
    {
     "name": "stderr",
     "output_type": "stream",
     "text": [
      "epoch 7 [train block 36]: 100%|██████████████████████████████████████████████████████████████████████████████████████████████████████| 39/39 [00:09<00:00,  4.08it/s]\n"
     ]
    },
    {
     "name": "stdout",
     "output_type": "stream",
     "text": [
      "[OK] Block 36 | Epoch 7 | Loss: 6.90 | Val Acc: 0.8207 | Time: 22.6s\n",
      "[BEST] Epoch 7 | Val Acc: 0.8207\n"
     ]
    },
    {
     "name": "stderr",
     "output_type": "stream",
     "text": [
      "epoch 8 [train block 36]: 100%|██████████████████████████████████████████████████████████████████████████████████████████████████████| 39/39 [00:09<00:00,  4.12it/s]\n"
     ]
    },
    {
     "name": "stdout",
     "output_type": "stream",
     "text": [
      "[OK] Block 36 | Epoch 8 | Loss: 6.77 | Val Acc: 0.8229 | Time: 23.0s\n",
      "[BEST] Epoch 8 | Val Acc: 0.8229\n"
     ]
    },
    {
     "name": "stderr",
     "output_type": "stream",
     "text": [
      "epoch 9 [train block 36]: 100%|██████████████████████████████████████████████████████████████████████████████████████████████████████| 39/39 [00:09<00:00,  4.05it/s]\n"
     ]
    },
    {
     "name": "stdout",
     "output_type": "stream",
     "text": [
      "[OK] Block 36 | Epoch 9 | Loss: 6.66 | Val Acc: 0.8298 | Time: 22.5s\n",
      "[BEST] Epoch 9 | Val Acc: 0.8298\n"
     ]
    },
    {
     "name": "stderr",
     "output_type": "stream",
     "text": [
      "epoch 10 [train block 36]: 100%|█████████████████████████████████████████████████████████████████████████████████████████████████████| 39/39 [00:09<00:00,  4.20it/s]\n"
     ]
    },
    {
     "name": "stdout",
     "output_type": "stream",
     "text": [
      "[OK] Block 36 | Epoch 10 | Loss: 6.57 | Val Acc: 0.8266 | Time: 22.4s\n"
     ]
    },
    {
     "name": "stderr",
     "output_type": "stream",
     "text": [
      "epoch 11 [train block 36]: 100%|█████████████████████████████████████████████████████████████████████████████████████████████████████| 39/39 [00:09<00:00,  4.10it/s]\n"
     ]
    },
    {
     "name": "stdout",
     "output_type": "stream",
     "text": [
      "[OK] Block 36 | Epoch 11 | Loss: 6.50 | Val Acc: 0.8265 | Time: 22.5s\n"
     ]
    },
    {
     "name": "stderr",
     "output_type": "stream",
     "text": [
      "epoch 12 [train block 36]: 100%|█████████████████████████████████████████████████████████████████████████████████████████████████████| 39/39 [00:09<00:00,  3.99it/s]\n"
     ]
    },
    {
     "name": "stdout",
     "output_type": "stream",
     "text": [
      "[OK] Block 36 | Epoch 12 | Loss: 6.41 | Val Acc: 0.8267 | Time: 22.9s\n"
     ]
    },
    {
     "name": "stderr",
     "output_type": "stream",
     "text": [
      "epoch 13 [train block 36]: 100%|█████████████████████████████████████████████████████████████████████████████████████████████████████| 39/39 [00:10<00:00,  3.86it/s]\n"
     ]
    },
    {
     "name": "stdout",
     "output_type": "stream",
     "text": [
      "[OK] Block 36 | Epoch 13 | Loss: 6.34 | Val Acc: 0.8251 | Time: 23.5s\n"
     ]
    },
    {
     "name": "stderr",
     "output_type": "stream",
     "text": [
      "epoch 14 [train block 36]: 100%|█████████████████████████████████████████████████████████████████████████████████████████████████████| 39/39 [00:09<00:00,  3.91it/s]\n"
     ]
    },
    {
     "name": "stdout",
     "output_type": "stream",
     "text": [
      "[OK] Block 36 | Epoch 14 | Loss: 6.27 | Val Acc: 0.8260 | Time: 23.8s\n"
     ]
    },
    {
     "name": "stderr",
     "output_type": "stream",
     "text": [
      "epoch 15 [train block 36]: 100%|█████████████████████████████████████████████████████████████████████████████████████████████████████| 39/39 [00:09<00:00,  3.99it/s]\n"
     ]
    },
    {
     "name": "stdout",
     "output_type": "stream",
     "text": [
      "[OK] Block 36 | Epoch 15 | Loss: 6.20 | Val Acc: 0.8317 | Time: 23.0s\n",
      "[BEST] Epoch 15 | Val Acc: 0.8317\n"
     ]
    },
    {
     "name": "stderr",
     "output_type": "stream",
     "text": [
      "epoch 16 [train block 36]: 100%|█████████████████████████████████████████████████████████████████████████████████████████████████████| 39/39 [00:09<00:00,  4.10it/s]\n"
     ]
    },
    {
     "name": "stdout",
     "output_type": "stream",
     "text": [
      "[OK] Block 36 | Epoch 16 | Loss: 6.16 | Val Acc: 0.8353 | Time: 22.6s\n",
      "[BEST] Epoch 16 | Val Acc: 0.8353\n"
     ]
    },
    {
     "name": "stderr",
     "output_type": "stream",
     "text": [
      "epoch 17 [train block 36]: 100%|█████████████████████████████████████████████████████████████████████████████████████████████████████| 39/39 [00:09<00:00,  4.14it/s]\n"
     ]
    },
    {
     "name": "stdout",
     "output_type": "stream",
     "text": [
      "[OK] Block 36 | Epoch 17 | Loss: 6.09 | Val Acc: 0.8319 | Time: 22.3s\n"
     ]
    },
    {
     "name": "stderr",
     "output_type": "stream",
     "text": [
      "epoch 18 [train block 36]: 100%|█████████████████████████████████████████████████████████████████████████████████████████████████████| 39/39 [00:09<00:00,  4.21it/s]\n"
     ]
    },
    {
     "name": "stdout",
     "output_type": "stream",
     "text": [
      "[OK] Block 36 | Epoch 18 | Loss: 6.04 | Val Acc: 0.8359 | Time: 22.3s\n",
      "[BEST] Epoch 18 | Val Acc: 0.8359\n"
     ]
    },
    {
     "name": "stderr",
     "output_type": "stream",
     "text": [
      "epoch 19 [train block 36]: 100%|█████████████████████████████████████████████████████████████████████████████████████████████████████| 39/39 [00:09<00:00,  4.19it/s]\n"
     ]
    },
    {
     "name": "stdout",
     "output_type": "stream",
     "text": [
      "[OK] Block 36 | Epoch 19 | Loss: 6.00 | Val Acc: 0.8354 | Time: 22.6s\n"
     ]
    },
    {
     "name": "stderr",
     "output_type": "stream",
     "text": [
      "epoch 20 [train block 36]: 100%|█████████████████████████████████████████████████████████████████████████████████████████████████████| 39/39 [00:09<00:00,  3.97it/s]\n"
     ]
    },
    {
     "name": "stdout",
     "output_type": "stream",
     "text": [
      "[OK] Block 36 | Epoch 20 | Loss: 5.96 | Val Acc: 0.8363 | Time: 22.7s\n",
      "[BEST] Epoch 20 | Val Acc: 0.8363\n",
      "[OK] Best model for block 36 reached Val Acc: 0.8363\n",
      "[GLOBAL BEST] Block 36 | Val Acc: 0.8363\n",
      "[OK] Block 36 completed in 453.8s\n",
      "\n",
      " Training on cubes 48 to 59\n",
      "[info] Loading 12 cubes into RAM...\n",
      "[1/12] [loaded] frt0000b2f8_07_if165j_mtr3: 112789 pixels\n",
      "[2/12] [loaded] frt00005a3e_07_if165j_mtr3: 394241 pixels\n",
      "[3/12] [loaded] frt00009d44_07_if165j_mtr3: 260147 pixels\n",
      "[4/12] [loaded] hrl000095a2_07_if183j_mtr3: 153698 pixels\n",
      "[5/12] [loaded] hrl0000d08f_07_if183j_mtr3: 165568 pixels\n",
      "[6/12] [loaded] frt00019538_07_if166j_mtr3: 40059 pixels\n",
      "[7/12] [loaded] hrl0000b404_07_if183j_mtr3: 75260 pixels\n",
      "[8/12] [loaded] hrl00017fa7_07_if183j_mtr3: 34890 pixels\n",
      "[9/12] [loaded] frt0001642e_07_if166j_mtr3: 41359 pixels\n",
      "[10/12] [loaded] frt00016f2c_07_if166j_mtr3: 100101 pixels\n",
      "[11/12] [loaded] hrl0000c0ba_07_if183j_mtr3: 64098 pixels\n",
      "[12/12] [loaded] hrl0000ab0a_07_if183j_mtr3: 86814 pixels\n",
      "[OK] Total loaded samples: 1529024\n"
     ]
    },
    {
     "name": "stderr",
     "output_type": "stream",
     "text": [
      "epoch 1 [train block 48]: 100%|██████████████████████████████████████████████████████████████████████████████████████████████████████| 38/38 [00:09<00:00,  3.83it/s]\n"
     ]
    },
    {
     "name": "stdout",
     "output_type": "stream",
     "text": [
      "[OK] Block 48 | Epoch 1 | Loss: 15.54 | Val Acc: 0.8665 | Time: 23.1s\n",
      "[BEST] Epoch 1 | Val Acc: 0.8665\n"
     ]
    },
    {
     "name": "stderr",
     "output_type": "stream",
     "text": [
      "epoch 2 [train block 48]: 100%|██████████████████████████████████████████████████████████████████████████████████████████████████████| 38/38 [00:09<00:00,  4.11it/s]\n"
     ]
    },
    {
     "name": "stdout",
     "output_type": "stream",
     "text": [
      "[OK] Block 48 | Epoch 2 | Loss: 13.16 | Val Acc: 0.8695 | Time: 22.3s\n",
      "[BEST] Epoch 2 | Val Acc: 0.8695\n"
     ]
    },
    {
     "name": "stderr",
     "output_type": "stream",
     "text": [
      "epoch 3 [train block 48]: 100%|██████████████████████████████████████████████████████████████████████████████████████████████████████| 38/38 [00:09<00:00,  4.16it/s]\n"
     ]
    },
    {
     "name": "stdout",
     "output_type": "stream",
     "text": [
      "[OK] Block 48 | Epoch 3 | Loss: 12.80 | Val Acc: 0.8694 | Time: 22.1s\n"
     ]
    },
    {
     "name": "stderr",
     "output_type": "stream",
     "text": [
      "epoch 4 [train block 48]: 100%|██████████████████████████████████████████████████████████████████████████████████████████████████████| 38/38 [00:09<00:00,  4.08it/s]\n"
     ]
    },
    {
     "name": "stdout",
     "output_type": "stream",
     "text": [
      "[OK] Block 48 | Epoch 4 | Loss: 12.57 | Val Acc: 0.8722 | Time: 22.3s\n",
      "[BEST] Epoch 4 | Val Acc: 0.8722\n"
     ]
    },
    {
     "name": "stderr",
     "output_type": "stream",
     "text": [
      "epoch 5 [train block 48]: 100%|██████████████████████████████████████████████████████████████████████████████████████████████████████| 38/38 [00:09<00:00,  3.96it/s]\n"
     ]
    },
    {
     "name": "stdout",
     "output_type": "stream",
     "text": [
      "[OK] Block 48 | Epoch 5 | Loss: 12.41 | Val Acc: 0.8741 | Time: 22.9s\n",
      "[BEST] Epoch 5 | Val Acc: 0.8741\n"
     ]
    },
    {
     "name": "stderr",
     "output_type": "stream",
     "text": [
      "epoch 6 [train block 48]: 100%|██████████████████████████████████████████████████████████████████████████████████████████████████████| 38/38 [00:08<00:00,  4.25it/s]\n"
     ]
    },
    {
     "name": "stdout",
     "output_type": "stream",
     "text": [
      "[OK] Block 48 | Epoch 6 | Loss: 12.27 | Val Acc: 0.8747 | Time: 21.8s\n",
      "[BEST] Epoch 6 | Val Acc: 0.8747\n"
     ]
    },
    {
     "name": "stderr",
     "output_type": "stream",
     "text": [
      "epoch 7 [train block 48]: 100%|██████████████████████████████████████████████████████████████████████████████████████████████████████| 38/38 [00:09<00:00,  4.10it/s]\n"
     ]
    },
    {
     "name": "stdout",
     "output_type": "stream",
     "text": [
      "[OK] Block 48 | Epoch 7 | Loss: 12.16 | Val Acc: 0.8741 | Time: 22.5s\n"
     ]
    },
    {
     "name": "stderr",
     "output_type": "stream",
     "text": [
      "epoch 8 [train block 48]: 100%|██████████████████████████████████████████████████████████████████████████████████████████████████████| 38/38 [00:09<00:00,  4.13it/s]\n"
     ]
    },
    {
     "name": "stdout",
     "output_type": "stream",
     "text": [
      "[OK] Block 48 | Epoch 8 | Loss: 12.07 | Val Acc: 0.8749 | Time: 22.5s\n",
      "[BEST] Epoch 8 | Val Acc: 0.8749\n"
     ]
    },
    {
     "name": "stderr",
     "output_type": "stream",
     "text": [
      "epoch 9 [train block 48]: 100%|██████████████████████████████████████████████████████████████████████████████████████████████████████| 38/38 [00:09<00:00,  3.92it/s]\n"
     ]
    },
    {
     "name": "stdout",
     "output_type": "stream",
     "text": [
      "[OK] Block 48 | Epoch 9 | Loss: 11.99 | Val Acc: 0.8743 | Time: 22.7s\n"
     ]
    },
    {
     "name": "stderr",
     "output_type": "stream",
     "text": [
      "epoch 10 [train block 48]: 100%|█████████████████████████████████████████████████████████████████████████████████████████████████████| 38/38 [00:09<00:00,  4.11it/s]\n"
     ]
    },
    {
     "name": "stdout",
     "output_type": "stream",
     "text": [
      "[OK] Block 48 | Epoch 10 | Loss: 11.90 | Val Acc: 0.8742 | Time: 22.3s\n"
     ]
    },
    {
     "name": "stderr",
     "output_type": "stream",
     "text": [
      "epoch 11 [train block 48]: 100%|█████████████████████████████████████████████████████████████████████████████████████████████████████| 38/38 [00:08<00:00,  4.24it/s]\n"
     ]
    },
    {
     "name": "stdout",
     "output_type": "stream",
     "text": [
      "[OK] Block 48 | Epoch 11 | Loss: 11.82 | Val Acc: 0.8752 | Time: 22.0s\n",
      "[BEST] Epoch 11 | Val Acc: 0.8752\n"
     ]
    },
    {
     "name": "stderr",
     "output_type": "stream",
     "text": [
      "epoch 12 [train block 48]: 100%|█████████████████████████████████████████████████████████████████████████████████████████████████████| 38/38 [00:09<00:00,  3.98it/s]\n"
     ]
    },
    {
     "name": "stdout",
     "output_type": "stream",
     "text": [
      "[OK] Block 48 | Epoch 12 | Loss: 11.74 | Val Acc: 0.8743 | Time: 22.7s\n"
     ]
    },
    {
     "name": "stderr",
     "output_type": "stream",
     "text": [
      "epoch 13 [train block 48]: 100%|█████████████████████████████████████████████████████████████████████████████████████████████████████| 38/38 [00:09<00:00,  4.14it/s]\n"
     ]
    },
    {
     "name": "stdout",
     "output_type": "stream",
     "text": [
      "[OK] Block 48 | Epoch 13 | Loss: 11.65 | Val Acc: 0.8762 | Time: 22.2s\n",
      "[BEST] Epoch 13 | Val Acc: 0.8762\n"
     ]
    },
    {
     "name": "stderr",
     "output_type": "stream",
     "text": [
      "epoch 14 [train block 48]: 100%|█████████████████████████████████████████████████████████████████████████████████████████████████████| 38/38 [00:09<00:00,  4.14it/s]\n"
     ]
    },
    {
     "name": "stdout",
     "output_type": "stream",
     "text": [
      "[OK] Block 48 | Epoch 14 | Loss: 11.57 | Val Acc: 0.8766 | Time: 22.1s\n",
      "[BEST] Epoch 14 | Val Acc: 0.8766\n"
     ]
    },
    {
     "name": "stderr",
     "output_type": "stream",
     "text": [
      "epoch 15 [train block 48]: 100%|█████████████████████████████████████████████████████████████████████████████████████████████████████| 38/38 [00:09<00:00,  4.13it/s]\n"
     ]
    },
    {
     "name": "stdout",
     "output_type": "stream",
     "text": [
      "[OK] Block 48 | Epoch 15 | Loss: 11.50 | Val Acc: 0.8760 | Time: 22.2s\n"
     ]
    },
    {
     "name": "stderr",
     "output_type": "stream",
     "text": [
      "epoch 16 [train block 48]: 100%|█████████████████████████████████████████████████████████████████████████████████████████████████████| 38/38 [00:09<00:00,  3.98it/s]\n"
     ]
    },
    {
     "name": "stdout",
     "output_type": "stream",
     "text": [
      "[OK] Block 48 | Epoch 16 | Loss: 11.43 | Val Acc: 0.8753 | Time: 22.6s\n"
     ]
    },
    {
     "name": "stderr",
     "output_type": "stream",
     "text": [
      "epoch 17 [train block 48]: 100%|█████████████████████████████████████████████████████████████████████████████████████████████████████| 38/38 [00:09<00:00,  4.14it/s]\n"
     ]
    },
    {
     "name": "stdout",
     "output_type": "stream",
     "text": [
      "[OK] Block 48 | Epoch 17 | Loss: 11.37 | Val Acc: 0.8756 | Time: 22.5s\n"
     ]
    },
    {
     "name": "stderr",
     "output_type": "stream",
     "text": [
      "epoch 18 [train block 48]: 100%|█████████████████████████████████████████████████████████████████████████████████████████████████████| 38/38 [00:09<00:00,  4.12it/s]\n"
     ]
    },
    {
     "name": "stdout",
     "output_type": "stream",
     "text": [
      "[OK] Block 48 | Epoch 18 | Loss: 11.30 | Val Acc: 0.8746 | Time: 22.5s\n"
     ]
    },
    {
     "name": "stderr",
     "output_type": "stream",
     "text": [
      "epoch 19 [train block 48]: 100%|█████████████████████████████████████████████████████████████████████████████████████████████████████| 38/38 [00:09<00:00,  4.04it/s]\n"
     ]
    },
    {
     "name": "stdout",
     "output_type": "stream",
     "text": [
      "[OK] Block 48 | Epoch 19 | Loss: 11.24 | Val Acc: 0.8745 | Time: 22.6s\n"
     ]
    },
    {
     "name": "stderr",
     "output_type": "stream",
     "text": [
      "epoch 20 [train block 48]: 100%|█████████████████████████████████████████████████████████████████████████████████████████████████████| 38/38 [00:09<00:00,  4.16it/s]\n"
     ]
    },
    {
     "name": "stdout",
     "output_type": "stream",
     "text": [
      "[OK] Block 48 | Epoch 20 | Loss: 11.17 | Val Acc: 0.8739 | Time: 22.4s\n",
      "[OK] Best model for block 48 reached Val Acc: 0.8766\n",
      "[GLOBAL BEST] Block 48 | Val Acc: 0.8766\n",
      "[OK] Block 48 completed in 448.4s\n",
      "\n",
      " Training on cubes 60 to 71\n",
      "[info] Loading 12 cubes into RAM...\n",
      "[1/12] [loaded] hrl0000b6ff_07_if183j_mtr3: 68443 pixels\n",
      "[2/12] [loaded] frt00012149_07_if166j_mtr3: 192253 pixels\n",
      "[3/12] [loaded] hrl0001c7c0_07_if183j_mtr3: 60794 pixels\n",
      "[4/12] [loaded] frt000095fe_07_if166j_mtr3: 246161 pixels\n",
      "[5/12] [loaded] hrs00018c35_07_if175j_mtr3: 9551 pixels\n",
      "[6/12] [loaded] frt0000c79d_07_if166j_mtr3: 159798 pixels\n",
      "[7/12] [loaded] frt000037ae_07_if166j_mtr3: 319996 pixels\n",
      "[8/12] [loaded] frt000172dd_07_if166j_mtr3: 103879 pixels\n",
      "[9/12] [loaded] frt0001fb74_07_if166j_mtr3: 175266 pixels\n",
      "[10/12] [loaded] frt00013ebc_07_if166j_mtr3: 127183 pixels\n",
      "[11/12] [loaded] hrl00013d8b_07_if183j_mtr3: 31236 pixels\n",
      "[12/12] [loaded] frt0000abcb_07_if166j_mtr3: 214485 pixels\n",
      "[OK] Total loaded samples: 1709045\n"
     ]
    },
    {
     "name": "stderr",
     "output_type": "stream",
     "text": [
      "epoch 1 [train block 60]: 100%|██████████████████████████████████████████████████████████████████████████████████████████████████████| 42/42 [00:09<00:00,  4.22it/s]\n"
     ]
    },
    {
     "name": "stdout",
     "output_type": "stream",
     "text": [
      "[OK] Block 60 | Epoch 1 | Loss: 7.93 | Val Acc: 0.8679 | Time: 23.1s\n",
      "[BEST] Epoch 1 | Val Acc: 0.8679\n"
     ]
    },
    {
     "name": "stderr",
     "output_type": "stream",
     "text": [
      "epoch 2 [train block 60]: 100%|██████████████████████████████████████████████████████████████████████████████████████████████████████| 42/42 [00:09<00:00,  4.24it/s]\n"
     ]
    },
    {
     "name": "stdout",
     "output_type": "stream",
     "text": [
      "[OK] Block 60 | Epoch 2 | Loss: 7.28 | Val Acc: 0.8710 | Time: 23.7s\n",
      "[BEST] Epoch 2 | Val Acc: 0.8710\n"
     ]
    },
    {
     "name": "stderr",
     "output_type": "stream",
     "text": [
      "epoch 3 [train block 60]: 100%|██████████████████████████████████████████████████████████████████████████████████████████████████████| 42/42 [00:09<00:00,  4.21it/s]\n"
     ]
    },
    {
     "name": "stdout",
     "output_type": "stream",
     "text": [
      "[OK] Block 60 | Epoch 3 | Loss: 7.09 | Val Acc: 0.8715 | Time: 23.2s\n",
      "[BEST] Epoch 3 | Val Acc: 0.8715\n"
     ]
    },
    {
     "name": "stderr",
     "output_type": "stream",
     "text": [
      "epoch 4 [train block 60]: 100%|██████████████████████████████████████████████████████████████████████████████████████████████████████| 42/42 [00:09<00:00,  4.23it/s]\n"
     ]
    },
    {
     "name": "stdout",
     "output_type": "stream",
     "text": [
      "[OK] Block 60 | Epoch 4 | Loss: 6.94 | Val Acc: 0.8697 | Time: 23.3s\n"
     ]
    },
    {
     "name": "stderr",
     "output_type": "stream",
     "text": [
      "epoch 5 [train block 60]: 100%|██████████████████████████████████████████████████████████████████████████████████████████████████████| 42/42 [00:10<00:00,  4.07it/s]\n"
     ]
    },
    {
     "name": "stdout",
     "output_type": "stream",
     "text": [
      "[OK] Block 60 | Epoch 5 | Loss: 6.80 | Val Acc: 0.8719 | Time: 23.1s\n",
      "[BEST] Epoch 5 | Val Acc: 0.8719\n"
     ]
    },
    {
     "name": "stderr",
     "output_type": "stream",
     "text": [
      "epoch 6 [train block 60]: 100%|██████████████████████████████████████████████████████████████████████████████████████████████████████| 42/42 [00:09<00:00,  4.23it/s]\n"
     ]
    },
    {
     "name": "stdout",
     "output_type": "stream",
     "text": [
      "[OK] Block 60 | Epoch 6 | Loss: 6.68 | Val Acc: 0.8715 | Time: 23.0s\n"
     ]
    },
    {
     "name": "stderr",
     "output_type": "stream",
     "text": [
      "epoch 7 [train block 60]: 100%|██████████████████████████████████████████████████████████████████████████████████████████████████████| 42/42 [00:10<00:00,  4.02it/s]\n"
     ]
    },
    {
     "name": "stdout",
     "output_type": "stream",
     "text": [
      "[OK] Block 60 | Epoch 7 | Loss: 6.58 | Val Acc: 0.8720 | Time: 23.4s\n",
      "[BEST] Epoch 7 | Val Acc: 0.8720\n"
     ]
    },
    {
     "name": "stderr",
     "output_type": "stream",
     "text": [
      "epoch 8 [train block 60]: 100%|██████████████████████████████████████████████████████████████████████████████████████████████████████| 42/42 [00:10<00:00,  4.11it/s]\n"
     ]
    },
    {
     "name": "stdout",
     "output_type": "stream",
     "text": [
      "[OK] Block 60 | Epoch 8 | Loss: 6.49 | Val Acc: 0.8735 | Time: 22.9s\n",
      "[BEST] Epoch 8 | Val Acc: 0.8735\n"
     ]
    },
    {
     "name": "stderr",
     "output_type": "stream",
     "text": [
      "epoch 9 [train block 60]: 100%|██████████████████████████████████████████████████████████████████████████████████████████████████████| 42/42 [00:09<00:00,  4.26it/s]\n"
     ]
    },
    {
     "name": "stdout",
     "output_type": "stream",
     "text": [
      "[OK] Block 60 | Epoch 9 | Loss: 6.40 | Val Acc: 0.8745 | Time: 23.4s\n",
      "[BEST] Epoch 9 | Val Acc: 0.8745\n"
     ]
    },
    {
     "name": "stderr",
     "output_type": "stream",
     "text": [
      "epoch 10 [train block 60]: 100%|█████████████████████████████████████████████████████████████████████████████████████████████████████| 42/42 [00:09<00:00,  4.29it/s]\n"
     ]
    },
    {
     "name": "stdout",
     "output_type": "stream",
     "text": [
      "[OK] Block 60 | Epoch 10 | Loss: 6.32 | Val Acc: 0.8729 | Time: 22.5s\n"
     ]
    },
    {
     "name": "stderr",
     "output_type": "stream",
     "text": [
      "epoch 11 [train block 60]: 100%|█████████████████████████████████████████████████████████████████████████████████████████████████████| 42/42 [00:09<00:00,  4.23it/s]\n"
     ]
    },
    {
     "name": "stdout",
     "output_type": "stream",
     "text": [
      "[OK] Block 60 | Epoch 11 | Loss: 6.24 | Val Acc: 0.8737 | Time: 22.8s\n"
     ]
    },
    {
     "name": "stderr",
     "output_type": "stream",
     "text": [
      "epoch 12 [train block 60]: 100%|█████████████████████████████████████████████████████████████████████████████████████████████████████| 42/42 [00:09<00:00,  4.28it/s]\n"
     ]
    },
    {
     "name": "stdout",
     "output_type": "stream",
     "text": [
      "[OK] Block 60 | Epoch 12 | Loss: 6.17 | Val Acc: 0.8737 | Time: 22.8s\n"
     ]
    },
    {
     "name": "stderr",
     "output_type": "stream",
     "text": [
      "epoch 13 [train block 60]: 100%|█████████████████████████████████████████████████████████████████████████████████████████████████████| 42/42 [00:09<00:00,  4.23it/s]\n"
     ]
    },
    {
     "name": "stdout",
     "output_type": "stream",
     "text": [
      "[OK] Block 60 | Epoch 13 | Loss: 6.11 | Val Acc: 0.8757 | Time: 23.0s\n",
      "[BEST] Epoch 13 | Val Acc: 0.8757\n"
     ]
    },
    {
     "name": "stderr",
     "output_type": "stream",
     "text": [
      "epoch 14 [train block 60]: 100%|█████████████████████████████████████████████████████████████████████████████████████████████████████| 42/42 [00:10<00:00,  4.19it/s]\n"
     ]
    },
    {
     "name": "stdout",
     "output_type": "stream",
     "text": [
      "[OK] Block 60 | Epoch 14 | Loss: 6.05 | Val Acc: 0.8754 | Time: 23.1s\n"
     ]
    },
    {
     "name": "stderr",
     "output_type": "stream",
     "text": [
      "epoch 15 [train block 60]: 100%|█████████████████████████████████████████████████████████████████████████████████████████████████████| 42/42 [00:09<00:00,  4.28it/s]\n"
     ]
    },
    {
     "name": "stdout",
     "output_type": "stream",
     "text": [
      "[OK] Block 60 | Epoch 15 | Loss: 5.99 | Val Acc: 0.8770 | Time: 22.5s\n",
      "[BEST] Epoch 15 | Val Acc: 0.8770\n"
     ]
    },
    {
     "name": "stderr",
     "output_type": "stream",
     "text": [
      "epoch 16 [train block 60]: 100%|█████████████████████████████████████████████████████████████████████████████████████████████████████| 42/42 [00:10<00:00,  4.02it/s]\n"
     ]
    },
    {
     "name": "stdout",
     "output_type": "stream",
     "text": [
      "[OK] Block 60 | Epoch 16 | Loss: 5.94 | Val Acc: 0.8742 | Time: 23.6s\n"
     ]
    },
    {
     "name": "stderr",
     "output_type": "stream",
     "text": [
      "epoch 17 [train block 60]: 100%|█████████████████████████████████████████████████████████████████████████████████████████████████████| 42/42 [00:10<00:00,  4.00it/s]\n"
     ]
    },
    {
     "name": "stdout",
     "output_type": "stream",
     "text": [
      "[OK] Block 60 | Epoch 17 | Loss: 5.90 | Val Acc: 0.8765 | Time: 23.6s\n"
     ]
    },
    {
     "name": "stderr",
     "output_type": "stream",
     "text": [
      "epoch 18 [train block 60]: 100%|█████████████████████████████████████████████████████████████████████████████████████████████████████| 42/42 [00:09<00:00,  4.24it/s]\n"
     ]
    },
    {
     "name": "stdout",
     "output_type": "stream",
     "text": [
      "[OK] Block 60 | Epoch 18 | Loss: 5.85 | Val Acc: 0.8779 | Time: 23.1s\n",
      "[BEST] Epoch 18 | Val Acc: 0.8779\n"
     ]
    },
    {
     "name": "stderr",
     "output_type": "stream",
     "text": [
      "epoch 19 [train block 60]: 100%|█████████████████████████████████████████████████████████████████████████████████████████████████████| 42/42 [00:10<00:00,  4.11it/s]\n"
     ]
    },
    {
     "name": "stdout",
     "output_type": "stream",
     "text": [
      "[OK] Block 60 | Epoch 19 | Loss: 5.80 | Val Acc: 0.8759 | Time: 23.3s\n"
     ]
    },
    {
     "name": "stderr",
     "output_type": "stream",
     "text": [
      "epoch 20 [train block 60]: 100%|█████████████████████████████████████████████████████████████████████████████████████████████████████| 42/42 [00:09<00:00,  4.24it/s]\n"
     ]
    },
    {
     "name": "stdout",
     "output_type": "stream",
     "text": [
      "[OK] Block 60 | Epoch 20 | Loss: 5.76 | Val Acc: 0.8765 | Time: 23.0s\n",
      "[OK] Best model for block 60 reached Val Acc: 0.8779\n",
      "[GLOBAL BEST] Block 60 | Val Acc: 0.8779\n",
      "[OK] Block 60 completed in 462.4s\n",
      "\n",
      " Training on cubes 72 to 80\n",
      "[info] Loading 9 cubes into RAM...\n",
      "[1/9] [loaded] frt00013d3b_07_if165j_mtr3: 86138 pixels\n",
      "[2/9] [loaded] frt00018dca_07_if166j_mtr3: 22729 pixels\n",
      "[3/9] [loaded] frt00023728_07_if166j_mtr3: 41447 pixels\n",
      "[4/9] [loaded] frt000186fa_07_if166j_mtr3: 97790 pixels\n",
      "[5/9] [loaded] frt00008530_07_if166j_mtr3: 229492 pixels\n",
      "[6/9] [loaded] hrl00010963_07_if183j_mtr3: 74275 pixels\n",
      "[7/9] [loaded] frt0000c5ea_07_if166j_mtr3: 198224 pixels\n",
      "[8/9] [loaded] frt00003fb9_07_if166j_mtr3: 429990 pixels\n",
      "[9/9] [loaded] frt0000aa03_07_if166j_mtr3: 195109 pixels\n",
      "[OK] Total loaded samples: 1375194\n"
     ]
    },
    {
     "name": "stderr",
     "output_type": "stream",
     "text": [
      "epoch 1 [train block 72]: 100%|██████████████████████████████████████████████████████████████████████████████████████████████████████| 34/34 [00:08<00:00,  4.04it/s]\n"
     ]
    },
    {
     "name": "stdout",
     "output_type": "stream",
     "text": [
      "[OK] Block 72 | Epoch 1 | Loss: 12.51 | Val Acc: 0.8707 | Time: 21.0s\n",
      "[BEST] Epoch 1 | Val Acc: 0.8707\n"
     ]
    },
    {
     "name": "stderr",
     "output_type": "stream",
     "text": [
      "epoch 2 [train block 72]: 100%|██████████████████████████████████████████████████████████████████████████████████████████████████████| 34/34 [00:08<00:00,  3.98it/s]\n"
     ]
    },
    {
     "name": "stdout",
     "output_type": "stream",
     "text": [
      "[OK] Block 72 | Epoch 2 | Loss: 10.74 | Val Acc: 0.8702 | Time: 21.7s\n"
     ]
    },
    {
     "name": "stderr",
     "output_type": "stream",
     "text": [
      "epoch 3 [train block 72]: 100%|██████████████████████████████████████████████████████████████████████████████████████████████████████| 34/34 [00:08<00:00,  3.90it/s]\n"
     ]
    },
    {
     "name": "stdout",
     "output_type": "stream",
     "text": [
      "[OK] Block 72 | Epoch 3 | Loss: 10.29 | Val Acc: 0.8712 | Time: 22.0s\n",
      "[BEST] Epoch 3 | Val Acc: 0.8712\n"
     ]
    },
    {
     "name": "stderr",
     "output_type": "stream",
     "text": [
      "epoch 4 [train block 72]: 100%|██████████████████████████████████████████████████████████████████████████████████████████████████████| 34/34 [00:08<00:00,  4.19it/s]\n"
     ]
    },
    {
     "name": "stdout",
     "output_type": "stream",
     "text": [
      "[OK] Block 72 | Epoch 4 | Loss: 10.00 | Val Acc: 0.8738 | Time: 21.1s\n",
      "[BEST] Epoch 4 | Val Acc: 0.8738\n"
     ]
    },
    {
     "name": "stderr",
     "output_type": "stream",
     "text": [
      "epoch 5 [train block 72]: 100%|██████████████████████████████████████████████████████████████████████████████████████████████████████| 34/34 [00:08<00:00,  3.94it/s]\n"
     ]
    },
    {
     "name": "stdout",
     "output_type": "stream",
     "text": [
      "[OK] Block 72 | Epoch 5 | Loss: 9.79 | Val Acc: 0.8740 | Time: 21.6s\n",
      "[BEST] Epoch 5 | Val Acc: 0.8740\n"
     ]
    },
    {
     "name": "stderr",
     "output_type": "stream",
     "text": [
      "epoch 6 [train block 72]: 100%|██████████████████████████████████████████████████████████████████████████████████████████████████████| 34/34 [00:08<00:00,  4.08it/s]\n"
     ]
    },
    {
     "name": "stdout",
     "output_type": "stream",
     "text": [
      "[OK] Block 72 | Epoch 6 | Loss: 9.63 | Val Acc: 0.8744 | Time: 21.2s\n",
      "[BEST] Epoch 6 | Val Acc: 0.8744\n"
     ]
    },
    {
     "name": "stderr",
     "output_type": "stream",
     "text": [
      "epoch 7 [train block 72]: 100%|██████████████████████████████████████████████████████████████████████████████████████████████████████| 34/34 [00:08<00:00,  4.08it/s]\n"
     ]
    },
    {
     "name": "stdout",
     "output_type": "stream",
     "text": [
      "[OK] Block 72 | Epoch 7 | Loss: 9.50 | Val Acc: 0.8761 | Time: 21.5s\n",
      "[BEST] Epoch 7 | Val Acc: 0.8761\n"
     ]
    },
    {
     "name": "stderr",
     "output_type": "stream",
     "text": [
      "epoch 8 [train block 72]: 100%|██████████████████████████████████████████████████████████████████████████████████████████████████████| 34/34 [00:08<00:00,  4.17it/s]\n"
     ]
    },
    {
     "name": "stdout",
     "output_type": "stream",
     "text": [
      "[OK] Block 72 | Epoch 8 | Loss: 9.38 | Val Acc: 0.8804 | Time: 21.1s\n",
      "[BEST] Epoch 8 | Val Acc: 0.8804\n"
     ]
    },
    {
     "name": "stderr",
     "output_type": "stream",
     "text": [
      "epoch 9 [train block 72]: 100%|██████████████████████████████████████████████████████████████████████████████████████████████████████| 34/34 [00:08<00:00,  4.08it/s]\n"
     ]
    },
    {
     "name": "stdout",
     "output_type": "stream",
     "text": [
      "[OK] Block 72 | Epoch 9 | Loss: 9.29 | Val Acc: 0.8792 | Time: 21.7s\n"
     ]
    },
    {
     "name": "stderr",
     "output_type": "stream",
     "text": [
      "epoch 10 [train block 72]: 100%|█████████████████████████████████████████████████████████████████████████████████████████████████████| 34/34 [00:08<00:00,  4.11it/s]\n"
     ]
    },
    {
     "name": "stdout",
     "output_type": "stream",
     "text": [
      "[OK] Block 72 | Epoch 10 | Loss: 9.20 | Val Acc: 0.8800 | Time: 21.6s\n"
     ]
    },
    {
     "name": "stderr",
     "output_type": "stream",
     "text": [
      "epoch 11 [train block 72]: 100%|█████████████████████████████████████████████████████████████████████████████████████████████████████| 34/34 [00:08<00:00,  4.11it/s]\n"
     ]
    },
    {
     "name": "stdout",
     "output_type": "stream",
     "text": [
      "[OK] Block 72 | Epoch 11 | Loss: 9.13 | Val Acc: 0.8821 | Time: 21.3s\n",
      "[BEST] Epoch 11 | Val Acc: 0.8821\n"
     ]
    },
    {
     "name": "stderr",
     "output_type": "stream",
     "text": [
      "epoch 12 [train block 72]: 100%|█████████████████████████████████████████████████████████████████████████████████████████████████████| 34/34 [00:08<00:00,  4.00it/s]\n"
     ]
    },
    {
     "name": "stdout",
     "output_type": "stream",
     "text": [
      "[OK] Block 72 | Epoch 12 | Loss: 9.05 | Val Acc: 0.8831 | Time: 21.6s\n",
      "[BEST] Epoch 12 | Val Acc: 0.8831\n"
     ]
    },
    {
     "name": "stderr",
     "output_type": "stream",
     "text": [
      "epoch 13 [train block 72]: 100%|█████████████████████████████████████████████████████████████████████████████████████████████████████| 34/34 [00:08<00:00,  4.11it/s]\n"
     ]
    },
    {
     "name": "stdout",
     "output_type": "stream",
     "text": [
      "[OK] Block 72 | Epoch 13 | Loss: 9.00 | Val Acc: 0.8855 | Time: 21.4s\n",
      "[BEST] Epoch 13 | Val Acc: 0.8855\n"
     ]
    },
    {
     "name": "stderr",
     "output_type": "stream",
     "text": [
      "epoch 14 [train block 72]: 100%|█████████████████████████████████████████████████████████████████████████████████████████████████████| 34/34 [00:08<00:00,  3.98it/s]\n"
     ]
    },
    {
     "name": "stdout",
     "output_type": "stream",
     "text": [
      "[OK] Block 72 | Epoch 14 | Loss: 8.93 | Val Acc: 0.8844 | Time: 21.6s\n"
     ]
    },
    {
     "name": "stderr",
     "output_type": "stream",
     "text": [
      "epoch 15 [train block 72]: 100%|█████████████████████████████████████████████████████████████████████████████████████████████████████| 34/34 [00:08<00:00,  4.11it/s]\n"
     ]
    },
    {
     "name": "stdout",
     "output_type": "stream",
     "text": [
      "[OK] Block 72 | Epoch 15 | Loss: 8.87 | Val Acc: 0.8864 | Time: 21.1s\n",
      "[BEST] Epoch 15 | Val Acc: 0.8864\n"
     ]
    },
    {
     "name": "stderr",
     "output_type": "stream",
     "text": [
      "epoch 16 [train block 72]: 100%|█████████████████████████████████████████████████████████████████████████████████████████████████████| 34/34 [00:08<00:00,  3.93it/s]\n"
     ]
    },
    {
     "name": "stdout",
     "output_type": "stream",
     "text": [
      "[OK] Block 72 | Epoch 16 | Loss: 8.82 | Val Acc: 0.8872 | Time: 21.6s\n",
      "[BEST] Epoch 16 | Val Acc: 0.8872\n"
     ]
    },
    {
     "name": "stderr",
     "output_type": "stream",
     "text": [
      "epoch 17 [train block 72]: 100%|█████████████████████████████████████████████████████████████████████████████████████████████████████| 34/34 [00:08<00:00,  4.02it/s]\n"
     ]
    },
    {
     "name": "stdout",
     "output_type": "stream",
     "text": [
      "[OK] Block 72 | Epoch 17 | Loss: 8.77 | Val Acc: 0.8874 | Time: 21.4s\n",
      "[BEST] Epoch 17 | Val Acc: 0.8874\n"
     ]
    },
    {
     "name": "stderr",
     "output_type": "stream",
     "text": [
      "epoch 18 [train block 72]: 100%|█████████████████████████████████████████████████████████████████████████████████████████████████████| 34/34 [00:08<00:00,  3.95it/s]\n"
     ]
    },
    {
     "name": "stdout",
     "output_type": "stream",
     "text": [
      "[OK] Block 72 | Epoch 18 | Loss: 8.72 | Val Acc: 0.8872 | Time: 21.8s\n"
     ]
    },
    {
     "name": "stderr",
     "output_type": "stream",
     "text": [
      "epoch 19 [train block 72]: 100%|█████████████████████████████████████████████████████████████████████████████████████████████████████| 34/34 [00:08<00:00,  4.05it/s]\n"
     ]
    },
    {
     "name": "stdout",
     "output_type": "stream",
     "text": [
      "[OK] Block 72 | Epoch 19 | Loss: 8.67 | Val Acc: 0.8878 | Time: 21.6s\n",
      "[BEST] Epoch 19 | Val Acc: 0.8878\n"
     ]
    },
    {
     "name": "stderr",
     "output_type": "stream",
     "text": [
      "epoch 20 [train block 72]: 100%|█████████████████████████████████████████████████████████████████████████████████████████████████████| 34/34 [00:08<00:00,  4.03it/s]\n"
     ]
    },
    {
     "name": "stdout",
     "output_type": "stream",
     "text": [
      "[OK] Block 72 | Epoch 20 | Loss: 8.63 | Val Acc: 0.8873 | Time: 21.5s\n",
      "[OK] Best model for block 72 reached Val Acc: 0.8878\n",
      "[GLOBAL BEST] Block 72 | Val Acc: 0.8878\n",
      "[OK] Block 72 completed in 429.5s\n",
      "[FINAL] Restored global best model with Val Acc: 0.8878\n",
      "\n",
      "[OK] Total Training Time: 3922.8s\n"
     ]
    }
   ],
   "source": [
    "# training loop over all train cubes\n",
    "\n",
    "# initialize model, optimizer, and loss function\n",
    "model = SpectralCNN().to(device)\n",
    "optimizer = torch.optim.Adam(model.parameters(), lr=1e-3)\n",
    "criterion = nn.CrossEntropyLoss()\n",
    "\n",
    "# training loop\n",
    "epochs_per_block = 20\n",
    "block_size = 12\n",
    "\n",
    "# total training time timer\n",
    "start_total_time = time.time()\n",
    "\n",
    "# global best model tracking (across all blocks)\n",
    "global_best_acc = 0.0\n",
    "global_best_state = None\n",
    "\n",
    "for block_start in range(0, len(train_cubes), block_size):\n",
    "    subset = train_cubes[block_start:block_start + block_size]\n",
    "    print(f\"\\n Training on cubes {block_start} to {block_start + len(subset) - 1}\")\n",
    "    \n",
    "    train_ds = CRISMDatasetSubsetRAM(subset, cube_to_paths)\n",
    "    train_loader = DataLoader(train_ds, batch_size=40960, shuffle=True, num_workers=18, pin_memory=True)\n",
    "\n",
    "    # start block timer\n",
    "    block_start_time = time.time()\n",
    "\n",
    "    # track best epoch\n",
    "    best_val_acc = 0.0\n",
    "    best_model_state = None\n",
    "    \n",
    "    for epoch in range(1, epochs_per_block + 1):\n",
    "        model.train()\n",
    "        total_loss = 0\n",
    "        start_time = time.time()\n",
    "\n",
    "        # tqdm adds a live progress bar with ETA and speed\n",
    "        for X_batch, y_batch in tqdm(train_loader, desc=f\"epoch {epoch} [train block {block_start}]\"):\n",
    "            X_batch = X_batch.to(device)\n",
    "            y_batch = y_batch.to(device)\n",
    "\n",
    "            optimizer.zero_grad()\n",
    "            output = model(X_batch)\n",
    "            loss = criterion(output, y_batch)\n",
    "            loss.backward()\n",
    "            optimizer.step()\n",
    "\n",
    "            total_loss += loss.item()\n",
    "\n",
    "        # run validation\n",
    "        model.eval()\n",
    "        correct = total = 0\n",
    "        with torch.no_grad():\n",
    "            for X_batch, y_batch in val_loader:\n",
    "                X_batch = X_batch.to(device)\n",
    "                y_batch = y_batch.to(device)\n",
    "                preds = model(X_batch).argmax(dim=1)\n",
    "                correct += (preds == y_batch).sum().item()\n",
    "                total += y_batch.size(0)\n",
    "\n",
    "        val_acc = correct / total\n",
    "        duration = time.time() - start_time\n",
    "        print(f\"[OK] Block {block_start} | Epoch {epoch} | Loss: {total_loss:.2f} | Val Acc: {val_acc:.4f} | Time: {duration:.1f}s\")\n",
    "\n",
    "        # update block best model if this epoch is best so far\n",
    "        if val_acc > best_val_acc:\n",
    "            best_val_acc = val_acc\n",
    "            best_model_state = model.state_dict()\n",
    "            print(f\"[BEST] Epoch {epoch} | Val Acc: {val_acc:.4f}\")\n",
    "\n",
    "    # log best accuracy in this block\n",
    "    print(f\"[OK] Best model for block {block_start} reached Val Acc: {best_val_acc:.4f}\")\n",
    "\n",
    "    # update global best model if needed\n",
    "    if best_val_acc > global_best_acc:\n",
    "        global_best_acc = best_val_acc\n",
    "        global_best_state = best_model_state\n",
    "        print(f\"[GLOBAL BEST] Block {block_start} | Val Acc: {best_val_acc:.4f}\")\n",
    "\n",
    "    \n",
    "    # clear memory after block training\n",
    "    # delete dataset and subset references\n",
    "    del train_ds\n",
    "    del subset\n",
    "    # force garbage collection\n",
    "    gc.collect()\n",
    "    \n",
    "    # block timer end\n",
    "    block_end_time = time.time()\n",
    "    block_duration = block_end_time - block_start_time\n",
    "    print(f\"[OK] Block {block_start} completed in {block_duration:.1f}s\")\n",
    "\n",
    "\n",
    "# restore global best model\n",
    "if global_best_state is not None:\n",
    "    model.load_state_dict(global_best_state)\n",
    "    print(f\"[FINAL] Restored global best model with Val Acc: {global_best_acc:.4f}\")\n",
    "\n",
    "# total learning time\n",
    "total_learning_duration = time.time() - start_total_time\n",
    "print(f\"\\n[OK] Total Training Time: {total_learning_duration:.1f}s\")"
   ]
  },
  {
   "cell_type": "code",
   "execution_count": 8,
   "id": "5444119d-d428-4e26-bd2b-10e4e5cda1fb",
   "metadata": {},
   "outputs": [],
   "source": [
    "# clear training and validation data from memory\n",
    "try:\n",
    "    del train_ds\n",
    "    del subset\n",
    "    del train_loader\n",
    "    del val_loader\n",
    "    del val_ds\n",
    "except NameError:\n",
    "    # skip if already deleted or out of scope\n",
    "    pass\n",
    "\n",
    "# force garbage collection\n",
    "import gc\n",
    "gc.collect()\n",
    "# clears cached GPU memory\n",
    "torch.cuda.empty_cache()"
   ]
  },
  {
   "cell_type": "code",
   "execution_count": null,
   "id": "dc42ba17-c75f-4023-a526-590685898c52",
   "metadata": {},
   "outputs": [
    {
     "name": "stdout",
     "output_type": "stream",
     "text": [
      "[info] Loading 28 cubes into RAM...\n",
      "[1/28] [loaded] frt0000c202_07_if165j_mtr3: 201990 pixels\n",
      "[2/28] [loaded] frt0000d6d6_07_if166j_mtr3: 141886 pixels\n",
      "[3/28] [loaded] frt000161ef_07_if167j_mtr3: 93605 pixels\n",
      "[4/28] [loaded] hrs00012aa7_07_if175j_mtr3: 45132 pixels\n",
      "[5/28] [loaded] hrl0001b769_07_if183j_mtr3: 101887 pixels\n",
      "[6/28] [loaded] frt00021da6_07_if166j_mtr3: 43045 pixels\n",
      "[7/28] [loaded] hrl000116c6_07_if183j_mtr3: 118360 pixels\n",
      "[8/28] [loaded] frt00009c31_07_if166j_mtr3: 212648 pixels\n",
      "[9/28] [loaded] frt0000bfd1_07_if166j_mtr3: 156969 pixels\n",
      "[10/28] [loaded] frt000093be_07_if166j_mtr3: 288048 pixels\n"
     ]
    }
   ],
   "source": [
    "# test prediction with timing\n",
    "\n",
    "# load all test cubes into RAM\n",
    "test_ds = CRISMDatasetSubsetRAM(test_cubes, cube_to_paths, max_cubes=len(test_cubes))\n",
    "# dataloader for test prediction\n",
    "test_loader = DataLoader(test_ds, batch_size=40960, num_workers=18, pin_memory=True)\n",
    "\n",
    "# evaluate model and store predictions\n",
    "model.eval()\n",
    "predictions = []\n",
    "\n",
    "start_time = time.time()\n",
    "with torch.no_grad():\n",
    "    for X_batch, _ in test_loader:\n",
    "        X_batch = X_batch.to(device)\n",
    "        logits = model(X_batch)\n",
    "        preds = torch.argmax(logits, dim=1).cpu().numpy()\n",
    "        predictions.append(preds)\n",
    "\n",
    "predictions = np.concatenate(predictions)\n",
    "duration = time.time() - start_time\n",
    "print(f\"Done: predicted {len(predictions):,} test pixels in {duration:.1f}s\")"
   ]
  },
  {
   "cell_type": "code",
   "execution_count": null,
   "id": "703fccfb-aace-457d-9fd8-06842fa5ffff",
   "metadata": {},
   "outputs": [],
   "source": [
    "# rebuild labelmaps\n",
    "\n",
    "# paths\n",
    "preprocessed_dir = '../data/nili_fossae_preprocessed_spectra'\n",
    "output_dir = '../outputs/cnn_labelmaps'\n",
    "os.makedirs(output_dir, exist_ok=True)\n",
    "\n",
    "# get files\n",
    "test_ids = np.concatenate([np.load(cube_to_paths[cube][2]) for cube in test_cubes])\n",
    "\n",
    "\n",
    "# Reconstruct labelmaps\n",
    "offset = 0\n",
    "for cube in test_cubes:\n",
    "    index_path = os.path.join(preprocessed_dir, f'{cube}_indices.npy')\n",
    "    indices = np.load(index_path)\n",
    "    h, w = indices[:, 0].max()+1, indices[:, 1].max()+1\n",
    "    labelmap = np.full((h, w), -1, dtype=np.int16)\n",
    "\n",
    "    preds_slice = predictions[offset:offset + len(indices)]\n",
    "    for (r, c), label in zip(indices, preds_slice):\n",
    "        labelmap[r, c] = label\n",
    "\n",
    "    offset += len(indices)\n",
    "\n",
    "    # save\n",
    "    np.save(os.path.join(output_dir, f\"{cube}_cnn_labelmap.npy\"), labelmap)\n",
    "\n",
    "    # show PNG\n",
    "    plt.figure(figsize=(6, 6))\n",
    "    plt.imshow(labelmap, cmap='tab10', interpolation='nearest')\n",
    "    plt.axis('off')\n",
    "    plt.title(f\"{cube} - CNN\")\n",
    "    plt.tight_layout()\n",
    "    plt.savefig(os.path.join(output_dir, f\"{cube}_cnn_labelmap.png\"))\n",
    "    plt.close()\n",
    "\n",
    "    print(f\"[OK] Saved: {cube} labelmap\")\n",
    "\n",
    "print(\"All CNN labelmaps saved to:\", output_dir)"
   ]
  },
  {
   "cell_type": "code",
   "execution_count": null,
   "id": "6522409d-5e01-4f25-8728-9d454698672a",
   "metadata": {},
   "outputs": [],
   "source": [
    "# final cleanup\n",
    "try:\n",
    "    del test_ds\n",
    "    del test_loader\n",
    "    del predictions\n",
    "    del model\n",
    "except NameError:\n",
    "    # ignore if already cleared\n",
    "    pass\n",
    "\n",
    "# force full garbage collection\n",
    "import gc\n",
    "gc.collect()\n",
    "torch.cuda.empty_cache()\n",
    "\n",
    "print(\"[OK] All data unloaded. Memory cleared.\")"
   ]
  }
 ],
 "metadata": {
  "kernelspec": {
   "display_name": "Python (hyperenv)",
   "language": "python",
   "name": "hyperenv"
  },
  "language_info": {
   "codemirror_mode": {
    "name": "ipython",
    "version": 3
   },
   "file_extension": ".py",
   "mimetype": "text/x-python",
   "name": "python",
   "nbconvert_exporter": "python",
   "pygments_lexer": "ipython3",
   "version": "3.9.22"
  }
 },
 "nbformat": 4,
 "nbformat_minor": 5
}
