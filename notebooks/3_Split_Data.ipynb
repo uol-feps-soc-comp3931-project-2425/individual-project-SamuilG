{
 "cells": [
  {
   "cell_type": "code",
   "execution_count": 1,
   "id": "b85155b3",
   "metadata": {},
   "outputs": [],
   "source": [
    "import os\n",
    "import numpy as np\n",
    "from glob import glob\n",
    "from sklearn.model_selection import train_test_split"
   ]
  },
  {
   "cell_type": "code",
   "execution_count": 2,
   "id": "1dea3f65",
   "metadata": {},
   "outputs": [
    {
     "name": "stdout",
     "output_type": "stream",
     "text": [
      "Found 137 cubes\n"
     ]
    }
   ],
   "source": [
    "# config\n",
    "data_dir = '../results/stacked_k8_dataset'\n",
    "output_dir = '../results/split_k8_cube_lists'\n",
    "random_seed = 28\n",
    "os.makedirs(output_dir, exist_ok=True)\n",
    "\n",
    "# find files\n",
    "X_paths = sorted(glob(os.path.join(data_dir, '*_X.npy')))\n",
    "y_paths = sorted(glob(os.path.join(data_dir, '*_y.npy')))\n",
    "id_paths = sorted(glob(os.path.join(data_dir, '*_ids.npy')))\n",
    "\n",
    "cube_names = [os.path.basename(p).replace('_X.npy', '') for p in X_paths]\n",
    "print(f\"Found {len(cube_names)} cubes\")"
   ]
  },
  {
   "cell_type": "code",
   "execution_count": 3,
   "id": "383abaa5",
   "metadata": {},
   "outputs": [
    {
     "name": "stdout",
     "output_type": "stream",
     "text": [
      "\n",
      " Split summary:\n",
      "Train cubes: 81\n",
      "Val cubes:   28\n",
      "Test cubes:  28\n"
     ]
    }
   ],
   "source": [
    "# split cubes\n",
    "np.random.seed(random_seed)\n",
    "shuffled = np.random.permutation(cube_names)\n",
    "\n",
    "train_names, test_names = train_test_split(shuffled, test_size=0.2, random_state=random_seed)\n",
    "train_names, val_names = train_test_split(train_names, test_size=0.25, random_state=random_seed)\n",
    "\n",
    "print(\"\\n Split summary:\")\n",
    "print(f\"Train cubes: {len(train_names)}\")\n",
    "print(f\"Val cubes:   {len(val_names)}\")\n",
    "print(f\"Test cubes:  {len(test_names)}\")"
   ]
  },
  {
   "cell_type": "code",
   "execution_count": 4,
   "id": "db3afc1f-a186-4fd6-878b-28a5ea722b78",
   "metadata": {},
   "outputs": [
    {
     "name": "stdout",
     "output_type": "stream",
     "text": [
      "\n",
      " Cube lists saved:\n",
      "train_cubes.npy, val_cubes.npy, test_cubes.npy\n"
     ]
    }
   ],
   "source": [
    "# =save lists\n",
    "np.save(os.path.join(output_dir, 'train_cubes.npy'), train_names)\n",
    "np.save(os.path.join(output_dir, 'val_cubes.npy'), val_names)\n",
    "np.save(os.path.join(output_dir, 'test_cubes.npy'), test_names)\n",
    "\n",
    "print(\"\\n Cube lists saved:\")\n",
    "print(\"train_cubes.npy, val_cubes.npy, test_cubes.npy\")"
   ]
  },
  {
   "cell_type": "code",
   "execution_count": 6,
   "id": "3cc735f2",
   "metadata": {},
   "outputs": [
    {
     "name": "stdout",
     "output_type": "stream",
     "text": [
      "\n",
      " Final pixel counts:\n",
      "Train: 14,527,694\n",
      "Val:   4,906,452\n",
      "Test:  4,181,618\n"
     ]
    }
   ],
   "source": [
    "# count pixels per set\n",
    "train_px = val_px = test_px = 0\n",
    "\n",
    "for i, name in enumerate(cube_names):\n",
    "    y = np.load(os.path.join(data_dir, f'{name}_y.npy'))\n",
    "    if name in train_names:\n",
    "        train_px += len(y)\n",
    "    elif name in val_names:\n",
    "        val_px += len(y)\n",
    "    elif name in test_names:\n",
    "        test_px += len(y)\n",
    "\n",
    "print(\"\\n Final pixel counts:\")\n",
    "print(f\"Train: {train_px:,}\")\n",
    "print(f\"Val:   {val_px:,}\")\n",
    "print(f\"Test:  {test_px:,}\")"
   ]
  },
  {
   "cell_type": "code",
   "execution_count": 8,
   "id": "083d6352",
   "metadata": {},
   "outputs": [
    {
     "name": "stdout",
     "output_type": "stream",
     "text": [
      "\n",
      " Test cubes:\n",
      "- frt00007bc8_07_if166j_mtr3\n",
      "- frt00008389_07_if166j_mtr3\n",
      "- frt000093be_07_if166j_mtr3\n",
      "- frt00009c31_07_if166j_mtr3\n",
      "- frt00009c6a_07_if166j_mtr3\n",
      "- frt0000bec0_07_if165j_mtr3\n",
      "- frt0000bfd1_07_if166j_mtr3\n",
      "- frt0000c202_07_if165j_mtr3\n",
      "- frt0000c62b_07_if166j_mtr3\n",
      "- frt0000c968_07_if166j_mtr3\n",
      "- frt0000d6d6_07_if166j_mtr3\n",
      "- frt00011d4c_07_if166j_mtr3\n",
      "- frt0001487a_07_if166j_mtr3\n",
      "- frt000161ef_07_if167j_mtr3\n",
      "- frt00016655_07_if166j_mtr3\n",
      "- frt00016a73_07_if166j_mtr3\n",
      "- frt00016ed6_07_if165j_mtr3\n",
      "- frt00017103_07_if165j_mtr3\n",
      "- frt000174f4_07_if166j_mtr3\n",
      "- frt0001fd76_07_if166j_mtr3\n",
      "- frt00021da6_07_if166j_mtr3\n",
      "- frt00023370_00_if166j_mtr3\n",
      "- frt00024c1a_07_if165j_mtr3\n",
      "- hrl0000cc16_07_if184j_mtr3\n",
      "- hrl000116c6_07_if183j_mtr3\n",
      "- hrl0001b769_07_if183j_mtr3\n",
      "- hrs00011c01_07_if175j_mtr3\n",
      "- hrs00012aa7_07_if175j_mtr3\n",
      "\n",
      " Validation cubes:\n",
      "- frt00003e12_07_if166j_mtr3\n",
      "- frt000047a3_07_if166j_mtr3\n",
      "- frt00005c5e_07_if166j_mtr3\n",
      "- frt0000805f_07_if166j_mtr3\n",
      "- frt0000871c_07_if166j_mtr3\n",
      "- frt000091b2_07_if165j_mtr3\n",
      "- frt000097e2_07_if166j_mtr3\n",
      "- frt0000a09c_07_if166j_mtr3\n",
      "- frt0000a9be_07_if165j_mtr3\n",
      "- frt0000b573_07_if166j_mtr3\n",
      "- frt0000bc1c_07_if166j_mtr3\n",
      "- frt0000c256_07_if165j_mtr3\n",
      "- frt0000cbe5_07_if166j_mtr3\n",
      "- frt0001182a_07_if165j_mtr3\n",
      "- frt000165f7_07_if166j_mtr3\n",
      "- frt00017b1b_07_if166j_mtr3\n",
      "- frt00017d42_07_if166j_mtr3\n",
      "- frt0001821c_07_if166j_mtr3\n",
      "- frt0001c558_07_if165j_mtr3\n",
      "- frt00020c77_07_if166j_mtr3\n",
      "- frt000251c0_07_if165j_mtr3\n",
      "- hrl000040ff_07_if183j_mtr3\n",
      "- hrl0000b8c2_07_if183j_mtr3\n",
      "- hrl0000bdda_07_if183j_mtr3\n",
      "- hrl00013fd3_07_if183j_mtr3\n",
      "- hrl0001d976_07_if183j_mtr3\n",
      "- hrl0001e20d_07_if183j_mtr3\n",
      "- hrs00011a2f_07_if175j_mtr3\n"
     ]
    }
   ],
   "source": [
    "print(\"\\n Test cubes:\")\n",
    "for name in sorted(test_names):\n",
    "    print(\"-\", name)\n",
    "\n",
    "print(\"\\n Validation cubes:\")\n",
    "for name in sorted(val_names):\n",
    "    print(\"-\", name)\n"
   ]
  },
  {
   "cell_type": "code",
   "execution_count": null,
   "id": "3954ab31-2a27-4bd2-af0c-f57090a92fd8",
   "metadata": {},
   "outputs": [],
   "source": []
  }
 ],
 "metadata": {
  "kernelspec": {
   "display_name": "Python (hyperenv)",
   "language": "python",
   "name": "hyperenv"
  },
  "language_info": {
   "codemirror_mode": {
    "name": "ipython",
    "version": 3
   },
   "file_extension": ".py",
   "mimetype": "text/x-python",
   "name": "python",
   "nbconvert_exporter": "python",
   "pygments_lexer": "ipython3",
   "version": "3.9.22"
  }
 },
 "nbformat": 4,
 "nbformat_minor": 5
}
