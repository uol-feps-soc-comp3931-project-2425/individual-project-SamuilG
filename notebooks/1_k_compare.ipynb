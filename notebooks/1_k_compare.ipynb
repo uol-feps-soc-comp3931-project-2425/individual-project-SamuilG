{
 "cells": [
  {
   "cell_type": "code",
   "execution_count": 2,
   "id": "c323fffd-e30b-486f-b380-2407f17b50ff",
   "metadata": {},
   "outputs": [],
   "source": [
    "import os\n",
    "import numpy as np\n",
    "import pandas as pd\n",
    "import random\n",
    "from glob import glob\n",
    "from sklearn.metrics import silhouette_score\n",
    "from tqdm import tqdm\n",
    "\n",
    "import matplotlib.pyplot as plt"
   ]
  },
  {
   "cell_type": "code",
   "execution_count": 3,
   "id": "3dfe6541-7155-4ae5-8967-6d315d28ffd3",
   "metadata": {},
   "outputs": [
    {
     "name": "stdout",
     "output_type": "stream",
     "text": [
      "Using 15 sampled cubes:\n",
      "> frt00009d44_07_if165j_mtr3\n",
      "> frt0000a4fc_07_if166j_mtr3\n",
      "> frt0000bec0_07_if165j_mtr3\n",
      "> frt0001182a_07_if165j_mtr3\n",
      "> hrl00011a72_07_if183j_mtr3\n",
      "> hrl0000b8c2_07_if183j_mtr3\n",
      "> frt0000c968_07_if166j_mtr3\n",
      "> frt0000cbe5_07_if166j_mtr3\n",
      "> frt0000abcb_07_if166j_mtr3\n",
      "> hrl000040ff_07_if183j_mtr3\n",
      "> frt0000b573_07_if166j_mtr3\n",
      "> frt0000c202_07_if165j_mtr3\n",
      "> frt0000c62b_07_if166j_mtr3\n",
      "> frt00005850_07_if167j_mtr3\n",
      "> hrl0000b404_07_if183j_mtr3\n",
      "\n",
      " Stack full spectra and labels per k\n",
      "\n",
      " Compute silhouette scores\n"
     ]
    },
    {
     "name": "stderr",
     "output_type": "stream",
     "text": [
      "Silhouette Evaluation: 100%|█████████████████████████████████████████████████████████████████████████████████████████████████████████████████| 8/8 [00:10<00:00,  1.32s/it]\n"
     ]
    },
    {
     "name": "stdout",
     "output_type": "stream",
     "text": [
      "\n",
      " Silhouette scores (higher = better separation):\n",
      "k = 5: -0.0905\n",
      "k = 6: -0.1516\n",
      "k = 7: -0.1715\n",
      "k = 8: -0.1212\n",
      "k = 9: -0.1344\n",
      "k = 10: -0.1597\n",
      "k = 11: -0.1637\n",
      "k = 12: -0.2395\n",
      "[done] Saved: k_silhouette_scores.csv\n"
     ]
    }
   ],
   "source": [
    "# config\n",
    "preprocessed_dir = '../data/nili_fossae_preprocessed_spectra'\n",
    "label_root = '../results/clustering'\n",
    "random_number = 28\n",
    "k_values = list(range(5, 13))\n",
    "num_cubes = 15\n",
    "random.seed(random_number)\n",
    "\n",
    "# samples\n",
    "index_paths = sorted(glob(os.path.join(preprocessed_dir, '*_indices.npy')))\n",
    "cube_names = [os.path.basename(p).replace('_indices.npy', '') for p in index_paths]\n",
    "sampled = random.sample(cube_names, num_cubes)\n",
    "print(f\"Using {num_cubes} sampled cubes:\")\n",
    "for name in sampled:\n",
    "    print(\">\", name)\n",
    "\n",
    "\n",
    "# stack full spectra and labels per k\n",
    "print(\"\\n Stack full spectra and labels per k\")\n",
    "spectra_all = []\n",
    "labels_dict = {k: [] for k in k_values}\n",
    "offset = 0\n",
    "\n",
    "for name in sampled:\n",
    "    spectra_path = os.path.join(preprocessed_dir, f\"{name}_spectra.npy\")\n",
    "    spectra = np.load(spectra_path)\n",
    "    spectra_all.append(spectra)\n",
    "\n",
    "    for k in k_values:\n",
    "        labels_path = os.path.join(label_root, f'k{k}', f'labels_k{k}.npy')\n",
    "        labels_full = np.load(labels_path)\n",
    "        labels_cube = labels_full[offset:offset + len(spectra)]\n",
    "        labels_dict[k].append(labels_cube)\n",
    "    \n",
    "    offset += len(spectra)\n",
    "\n",
    "X = np.vstack(spectra_all)\n",
    "\n",
    "# compute silhouette scores\n",
    "print(\"\\n Compute silhouette scores\")    \n",
    "scores = {}\n",
    "for k in tqdm(k_values, desc=\"Silhouette Evaluation\"):\n",
    "    y = np.concatenate(labels_dict[k])\n",
    "    try:\n",
    "        score = silhouette_score(X, y, sample_size=10000, random_state=random_number)\n",
    "    except Exception as e:\n",
    "        print(f\"[k={k}] Silhouette failed: {e}\")\n",
    "        score = np.nan\n",
    "    scores[k] = score\n",
    "\n",
    "# results\n",
    "print(\"\\n Silhouette scores (higher = better separation):\")\n",
    "for k in k_values:\n",
    "    s = scores[k]\n",
    "    print(f\"k = {k}: {s:.4f}\" if not np.isnan(s) else f\"k = {k}: failed\")\n",
    "\n",
    "# Optional: Save results\n",
    "df = pd.DataFrame({'k': list(scores.keys()), 'silhouette': list(scores.values())})\n",
    "df.to_csv('../results/labelmaps/k_silhouette_scores.csv', index=False)\n",
    "print(\"[done] Saved: k_silhouette_scores.csv\")\n"
   ]
  },
  {
   "cell_type": "code",
   "execution_count": 4,
   "id": "b683d105-7550-49f4-8433-978039d3c866",
   "metadata": {},
   "outputs": [
    {
     "name": "stdout",
     "output_type": "stream",
     "text": [
      "Generating panel images for 15 cubes across k=5–12...\n",
      "Saved: ../results/labelmaps/k_panels/frt00009d44_07_if165j_mtr3_panel.png\n",
      "Saved: ../results/labelmaps/k_panels/frt0000a4fc_07_if166j_mtr3_panel.png\n",
      "Saved: ../results/labelmaps/k_panels/frt0000bec0_07_if165j_mtr3_panel.png\n",
      "Saved: ../results/labelmaps/k_panels/frt0001182a_07_if165j_mtr3_panel.png\n",
      "Saved: ../results/labelmaps/k_panels/hrl00011a72_07_if183j_mtr3_panel.png\n",
      "Saved: ../results/labelmaps/k_panels/hrl0000b8c2_07_if183j_mtr3_panel.png\n",
      "Saved: ../results/labelmaps/k_panels/frt0000c968_07_if166j_mtr3_panel.png\n",
      "Saved: ../results/labelmaps/k_panels/frt0000cbe5_07_if166j_mtr3_panel.png\n",
      "Saved: ../results/labelmaps/k_panels/frt0000abcb_07_if166j_mtr3_panel.png\n",
      "Saved: ../results/labelmaps/k_panels/hrl000040ff_07_if183j_mtr3_panel.png\n",
      "Saved: ../results/labelmaps/k_panels/frt0000b573_07_if166j_mtr3_panel.png\n",
      "Saved: ../results/labelmaps/k_panels/frt0000c202_07_if165j_mtr3_panel.png\n",
      "Saved: ../results/labelmaps/k_panels/frt0000c62b_07_if166j_mtr3_panel.png\n",
      "Saved: ../results/labelmaps/k_panels/frt00005850_07_if167j_mtr3_panel.png\n",
      "Saved: ../results/labelmaps/k_panels/hrl0000b404_07_if183j_mtr3_panel.png\n"
     ]
    }
   ],
   "source": [
    "# config\n",
    "labelmap_root = '../results/labelmaps'\n",
    "output_dir = '../results/labelmaps/k_panels'\n",
    "os.makedirs(output_dir, exist_ok=True)\n",
    "\n",
    "print(f\"Generating panel images for {len(sampled)} cubes across k=5–12...\")\n",
    "\n",
    "for cube in sampled:\n",
    "    fig, axs = plt.subplots(1, len(k_values), figsize=(4 * len(k_values), 4))\n",
    "    \n",
    "    for i, k in enumerate(k_values):\n",
    "        labelmap_path = os.path.join(labelmap_root, f'k{k}', f\"{cube}_labelmap.npy\")\n",
    "        ax = axs[i]\n",
    "\n",
    "        if os.path.exists(labelmap_path):\n",
    "            labelmap = np.load(labelmap_path)\n",
    "            ax.imshow(labelmap, cmap='tab10', interpolation='nearest')\n",
    "            ax.set_title(f\"k = {k}\")\n",
    "        else:\n",
    "            ax.text(0.5, 0.5, \"Missing\", ha='center', va='center')\n",
    "        \n",
    "        ax.axis('off')\n",
    "\n",
    "    plt.suptitle(f\"Labelmap Comparison: {cube}\", fontsize=14)\n",
    "    plt.tight_layout()\n",
    "    save_path = os.path.join(output_dir, f\"{cube}_panel.png\")\n",
    "    plt.savefig(save_path)\n",
    "    plt.close()\n",
    "    print(f\"Saved: {save_path}\")"
   ]
  },
  {
   "cell_type": "code",
   "execution_count": null,
   "id": "7894de8d-9a16-4580-88b7-785fecea777a",
   "metadata": {},
   "outputs": [],
   "source": []
  },
  {
   "cell_type": "code",
   "execution_count": null,
   "id": "b104b3c9-4752-4b88-9931-9826adfa1013",
   "metadata": {},
   "outputs": [],
   "source": []
  },
  {
   "cell_type": "code",
   "execution_count": null,
   "id": "da91c7a6",
   "metadata": {},
   "outputs": [],
   "source": []
  }
 ],
 "metadata": {
  "kernelspec": {
   "display_name": "Python (hyperenv)",
   "language": "python",
   "name": "hyperenv"
  },
  "language_info": {
   "codemirror_mode": {
    "name": "ipython",
    "version": 3
   },
   "file_extension": ".py",
   "mimetype": "text/x-python",
   "name": "python",
   "nbconvert_exporter": "python",
   "pygments_lexer": "ipython3",
   "version": "3.9.22"
  }
 },
 "nbformat": 4,
 "nbformat_minor": 5
}
