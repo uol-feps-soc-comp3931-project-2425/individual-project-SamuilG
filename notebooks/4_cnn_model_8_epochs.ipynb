{
 "cells": [
  {
   "cell_type": "code",
   "execution_count": 1,
   "id": "8e99945f-a37e-411c-89bf-6ab6b225c089",
   "metadata": {},
   "outputs": [],
   "source": [
    "# import core libraries and modules\n",
    "import torch\n",
    "import numpy as np\n",
    "import os\n",
    "import time\n",
    "from tqdm import tqdm\n",
    "import gc\n",
    "\n",
    "# import file and dataset utilities\n",
    "from glob import glob\n",
    "from torch.utils.data import Dataset, DataLoader\n",
    "\n",
    "# import model components and plotting tools\n",
    "import torch.nn as nn\n",
    "import torch.nn.functional as F\n",
    "import matplotlib.pyplot as plt"
   ]
  },
  {
   "cell_type": "code",
   "execution_count": 2,
   "id": "40d43952",
   "metadata": {},
   "outputs": [
    {
     "name": "stdout",
     "output_type": "stream",
     "text": [
      "Using: cuda\n",
      "CUDA is available. GPU: NVIDIA GeForce RTX 4070\n"
     ]
    }
   ],
   "source": [
    "device = torch.device(\"cuda\" if torch.cuda.is_available() else \"cpu\")\n",
    "print(\"Using:\", device)\n",
    "if device.type == 'cuda':\n",
    "    print(\"CUDA is available. GPU:\", torch.cuda.get_device_name(0))\n",
    "else:\n",
    "    print(\"CUDA not available. Using CPU.\")"
   ]
  },
  {
   "cell_type": "code",
   "execution_count": 3,
   "id": "cdd6a6fa",
   "metadata": {},
   "outputs": [
    {
     "name": "stdout",
     "output_type": "stream",
     "text": [
      "Found 137 cubes in chunked format.\n"
     ]
    }
   ],
   "source": [
    "# load cube split lists and paths\n",
    "\n",
    "# paths\n",
    "data_dir = '../results/stacked_k8_dataset'\n",
    "split_dir = '../results/split_k8_cube_lists'\n",
    "\n",
    "# load train, val, and test cube name lists\n",
    "train_cubes = np.load(os.path.join(split_dir, 'train_cubes.npy'))\n",
    "val_cubes   = np.load(os.path.join(split_dir, 'val_cubes.npy'))\n",
    "test_cubes  = np.load(os.path.join(split_dir, 'test_cubes.npy'))\n",
    "\n",
    "# find all chunked X, y, and id files\n",
    "X_paths = sorted(glob(os.path.join(data_dir, '*_X.npy')))\n",
    "y_paths = sorted(glob(os.path.join(data_dir, '*_y.npy')))\n",
    "id_paths = sorted(glob(os.path.join(data_dir, '*_ids.npy')))\n",
    "\n",
    "# group by cube\n",
    "cube_to_paths = {}\n",
    "for x_path, y_path, id_path in zip(X_paths, y_paths, id_paths):\n",
    "    cube = os.path.basename(x_path).replace('_X.npy', '')\n",
    "    cube_to_paths[cube] = (x_path, y_path, id_path)\n",
    "\n",
    "print(f\"Found {len(cube_to_paths)} cubes in chunked format.\")"
   ]
  },
  {
   "cell_type": "code",
   "execution_count": 4,
   "id": "c2119125-f934-4421-8ac0-e79b1c0f77eb",
   "metadata": {},
   "outputs": [],
   "source": [
    "# RAM-safe dataset class\n",
    "\n",
    "# dataset class that loads a fixed number of cubes fully into ram\n",
    "class CRISMDatasetSubsetRAM(Dataset):\n",
    "    def __init__(self, cube_names, cube_to_paths, max_cubes=None):\n",
    "        self.X_arrays = []\n",
    "        self.y_arrays = []\n",
    "        self.starts = []\n",
    "        count = 0\n",
    "\n",
    "        # load only the first max_cubes cubes fully into memory\n",
    "        selected_cubes = cube_names if max_cubes is None else cube_names[:max_cubes]\n",
    "        print(f\"[info] Loading {len(selected_cubes)} cubes into RAM...\")\n",
    "        \n",
    "        for i, cube in enumerate(selected_cubes, start=1):\n",
    "            x_path, y_path, _ = cube_to_paths[cube]\n",
    "            X = np.load(x_path)  # fully into memory\n",
    "            y = np.load(y_path)\n",
    "            print(f\"[{i}/{len(selected_cubes)}] [loaded] {cube}: {X.shape[0]} pixels\")\n",
    "\n",
    "            self.X_arrays.append(X)\n",
    "            self.y_arrays.append(y)\n",
    "            self.starts.append((count, count + len(y)))\n",
    "            count += len(y)\n",
    "\n",
    "        # total number of samples\n",
    "        self.total_len = count\n",
    "        print(f\"[OK] Total loaded samples: {self.total_len}\")\n",
    "\n",
    "    def __len__(self):\n",
    "        return self.total_len\n",
    "\n",
    "    def __getitem__(self, idx):\n",
    "        # locate which cube this index belongs to\n",
    "        for i, (start, end) in enumerate(self.starts):\n",
    "            if start <= idx < end:\n",
    "                local_idx = idx - start\n",
    "                X = self.X_arrays[i][local_idx]\n",
    "                y = self.y_arrays[i][local_idx]\n",
    "                return torch.tensor(X, dtype=torch.float32), torch.tensor(y, dtype=torch.long)\n",
    "        raise IndexError(\"[ERROR] Index out of bounds.\")"
   ]
  },
  {
   "cell_type": "code",
   "execution_count": 5,
   "id": "5b28021c-0adf-4f1a-b64a-0e53f1dc5980",
   "metadata": {},
   "outputs": [],
   "source": [
    "# model definition\n",
    "\n",
    "# simple 1d cnn for hyperspectral pixel classification\n",
    "class SpectralCNN(nn.Module):\n",
    "    def __init__(self, input_dim=469, num_classes=8):\n",
    "        super().__init__()\n",
    "        self.conv1 = nn.Conv1d(1, 16, kernel_size=5, padding=2)\n",
    "        self.conv2 = nn.Conv1d(16, 32, kernel_size=5, padding=2)\n",
    "        self.pool = nn.AdaptiveMaxPool1d(1)\n",
    "        self.fc = nn.Linear(32, num_classes)\n",
    "\n",
    "    def forward(self, x):\n",
    "        x = x.unsqueeze(1)        # reshape to [batch, 1, features]\n",
    "        x = F.relu(self.conv1(x)) # apply first conv layer\n",
    "        x = F.relu(self.conv2(x)) # apply second conv layer\n",
    "        x = self.pool(x)          # global max pool\n",
    "        x = x.squeeze(-1)         # flatten to [batch, 32]\n",
    "        return self.fc(x)         # final prediction logits"
   ]
  },
  {
   "cell_type": "code",
   "execution_count": 6,
   "id": "7cb26bc0-cac0-41d0-8037-a4fabe95e727",
   "metadata": {},
   "outputs": [
    {
     "name": "stdout",
     "output_type": "stream",
     "text": [
      "[info] Loading 28 cubes into RAM...\n",
      "[1/28] [loaded] frt0000a09c_07_if166j_mtr3: 239494 pixels\n",
      "[2/28] [loaded] hrl0001d976_07_if183j_mtr3: 97491 pixels\n",
      "[3/28] [loaded] hrl0000bdda_07_if183j_mtr3: 50921 pixels\n",
      "[4/28] [loaded] frt0001c558_07_if165j_mtr3: 88720 pixels\n",
      "[5/28] [loaded] frt00017b1b_07_if166j_mtr3: 34470 pixels\n",
      "[6/28] [loaded] frt000165f7_07_if166j_mtr3: 20378 pixels\n",
      "[7/28] [loaded] frt00020c77_07_if166j_mtr3: 78947 pixels\n",
      "[8/28] [loaded] frt0000bc1c_07_if166j_mtr3: 121553 pixels\n",
      "[9/28] [loaded] frt00017d42_07_if166j_mtr3: 11358 pixels\n",
      "[10/28] [loaded] frt000097e2_07_if166j_mtr3: 277231 pixels\n",
      "[11/28] [loaded] hrl00013fd3_07_if183j_mtr3: 83462 pixels\n",
      "[12/28] [loaded] frt000251c0_07_if165j_mtr3: 75669 pixels\n",
      "[13/28] [loaded] frt0001821c_07_if166j_mtr3: 27598 pixels\n",
      "[14/28] [loaded] frt0000805f_07_if166j_mtr3: 435657 pixels\n",
      "[15/28] [loaded] frt00005c5e_07_if166j_mtr3: 460247 pixels\n",
      "[16/28] [loaded] frt00003e12_07_if166j_mtr3: 444615 pixels\n",
      "[17/28] [loaded] frt0000a9be_07_if165j_mtr3: 197416 pixels\n",
      "[18/28] [loaded] hrl0001e20d_07_if183j_mtr3: 76532 pixels\n",
      "[19/28] [loaded] frt0001182a_07_if165j_mtr3: 293956 pixels\n",
      "[20/28] [loaded] hrl000040ff_07_if183j_mtr3: 127925 pixels\n",
      "[21/28] [loaded] frt0000b573_07_if166j_mtr3: 97557 pixels\n",
      "[22/28] [loaded] frt000091b2_07_if165j_mtr3: 329819 pixels\n",
      "[23/28] [loaded] hrs00011a2f_07_if175j_mtr3: 57085 pixels\n",
      "[24/28] [loaded] frt0000cbe5_07_if166j_mtr3: 147798 pixels\n",
      "[25/28] [loaded] hrl0000b8c2_07_if183j_mtr3: 55389 pixels\n",
      "[26/28] [loaded] frt0000871c_07_if166j_mtr3: 356291 pixels\n",
      "[27/28] [loaded] frt0000c256_07_if165j_mtr3: 195008 pixels\n",
      "[28/28] [loaded] frt000047a3_07_if166j_mtr3: 423865 pixels\n",
      "[OK] Total loaded samples: 4906452\n"
     ]
    }
   ],
   "source": [
    "# validation DataLoader\n",
    "\n",
    "val_ds = CRISMDatasetSubsetRAM(val_cubes, cube_to_paths, max_cubes=len(val_cubes))\n",
    "val_loader = DataLoader(val_ds, batch_size=40960, num_workers=18, pin_memory=True)"
   ]
  },
  {
   "cell_type": "code",
   "execution_count": 7,
   "id": "062e0d86-37c0-44e3-9a3a-48f2b4adccc9",
   "metadata": {},
   "outputs": [
    {
     "name": "stdout",
     "output_type": "stream",
     "text": [
      "\n",
      " Training on cubes 0 to 11\n",
      "[info] Loading 12 cubes into RAM...\n",
      "[1/12] [loaded] frt00003584_07_if166j_mtr3: 427754 pixels\n",
      "[2/12] [loaded] hrl0000d0c7_07_if183j_mtr3: 152370 pixels\n",
      "[3/12] [loaded] frt0000a4b5_07_if167j_mtr3: 247912 pixels\n",
      "[4/12] [loaded] frt00023565_07_if166j_mtr3: 41770 pixels\n",
      "[5/12] [loaded] hrs0000b6a2_07_if176j_mtr3: 30724 pixels\n",
      "[6/12] [loaded] hrl000141d5_07_if183j_mtr3: 70534 pixels\n",
      "[7/12] [loaded] hrl00010eea_07_if183j_mtr3: 67812 pixels\n",
      "[8/12] [loaded] frt00018781_07_if165j_mtr3: 33302 pixels\n",
      "[9/12] [loaded] frt0001ecba_07_if166j_mtr3: 103203 pixels\n",
      "[10/12] [loaded] frt00018524_07_if166j_mtr3: 100869 pixels\n",
      "[11/12] [loaded] hrl00010d72_07_if183j_mtr3: 83983 pixels\n",
      "[12/12] [loaded] frt000066a4_07_if166j_mtr3: 269502 pixels\n",
      "[OK] Total loaded samples: 1629735\n"
     ]
    },
    {
     "name": "stderr",
     "output_type": "stream",
     "text": [
      "epoch 1 [train block 0]: 100%|███████████████████████████████████████████████████████████████████████████████████████████████████████| 40/40 [00:10<00:00,  3.90it/s]\n"
     ]
    },
    {
     "name": "stdout",
     "output_type": "stream",
     "text": [
      "[OK] Block 0 | Epoch 1 | Loss: 81.68 | Val Acc: 0.1667 | Time: 23.1s\n"
     ]
    },
    {
     "name": "stderr",
     "output_type": "stream",
     "text": [
      "epoch 2 [train block 0]: 100%|███████████████████████████████████████████████████████████████████████████████████████████████████████| 40/40 [00:09<00:00,  4.29it/s]\n"
     ]
    },
    {
     "name": "stdout",
     "output_type": "stream",
     "text": [
      "[OK] Block 0 | Epoch 2 | Loss: 77.38 | Val Acc: 0.2092 | Time: 22.4s\n"
     ]
    },
    {
     "name": "stderr",
     "output_type": "stream",
     "text": [
      "epoch 3 [train block 0]: 100%|███████████████████████████████████████████████████████████████████████████████████████████████████████| 40/40 [00:09<00:00,  4.21it/s]\n"
     ]
    },
    {
     "name": "stdout",
     "output_type": "stream",
     "text": [
      "[OK] Block 0 | Epoch 3 | Loss: 75.80 | Val Acc: 0.2432 | Time: 21.9s\n"
     ]
    },
    {
     "name": "stderr",
     "output_type": "stream",
     "text": [
      "epoch 4 [train block 0]: 100%|███████████████████████████████████████████████████████████████████████████████████████████████████████| 40/40 [00:09<00:00,  4.12it/s]\n"
     ]
    },
    {
     "name": "stdout",
     "output_type": "stream",
     "text": [
      "[OK] Block 0 | Epoch 4 | Loss: 72.31 | Val Acc: 0.2813 | Time: 22.5s\n"
     ]
    },
    {
     "name": "stderr",
     "output_type": "stream",
     "text": [
      "epoch 5 [train block 0]: 100%|███████████████████████████████████████████████████████████████████████████████████████████████████████| 40/40 [00:09<00:00,  4.06it/s]\n"
     ]
    },
    {
     "name": "stdout",
     "output_type": "stream",
     "text": [
      "[OK] Block 0 | Epoch 5 | Loss: 65.95 | Val Acc: 0.3120 | Time: 22.8s\n"
     ]
    },
    {
     "name": "stderr",
     "output_type": "stream",
     "text": [
      "epoch 6 [train block 0]: 100%|███████████████████████████████████████████████████████████████████████████████████████████████████████| 40/40 [00:09<00:00,  4.11it/s]\n"
     ]
    },
    {
     "name": "stdout",
     "output_type": "stream",
     "text": [
      "[OK] Block 0 | Epoch 6 | Loss: 59.54 | Val Acc: 0.5156 | Time: 22.8s\n"
     ]
    },
    {
     "name": "stderr",
     "output_type": "stream",
     "text": [
      "epoch 7 [train block 0]: 100%|███████████████████████████████████████████████████████████████████████████████████████████████████████| 40/40 [00:10<00:00,  3.80it/s]\n"
     ]
    },
    {
     "name": "stdout",
     "output_type": "stream",
     "text": [
      "[OK] Block 0 | Epoch 7 | Loss: 54.03 | Val Acc: 0.5846 | Time: 23.6s\n"
     ]
    },
    {
     "name": "stderr",
     "output_type": "stream",
     "text": [
      "epoch 8 [train block 0]: 100%|███████████████████████████████████████████████████████████████████████████████████████████████████████| 40/40 [00:09<00:00,  4.21it/s]\n"
     ]
    },
    {
     "name": "stdout",
     "output_type": "stream",
     "text": [
      "[OK] Block 0 | Epoch 8 | Loss: 48.94 | Val Acc: 0.5386 | Time: 22.7s\n",
      "[OK] Block 0 completed in 181.9s\n",
      "\n",
      " Training on cubes 12 to 23\n",
      "[info] Loading 12 cubes into RAM...\n",
      "[1/12] [loaded] frt0000857f_07_if166j_mtr3: 375967 pixels\n",
      "[2/12] [loaded] frt00004f75_07_if166j_mtr3: 1824202 pixels\n",
      "[3/12] [loaded] frt0000b012_07_if166j_mtr3: 128257 pixels\n",
      "[4/12] [loaded] frt00009971_07_if166j_mtr3: 286107 pixels\n",
      "[5/12] [loaded] frt000199c7_07_if166j_mtr3: 80692 pixels\n",
      "[6/12] [loaded] frt000064d9_07_if166j_mtr3: 442443 pixels\n",
      "[7/12] [loaded] hrl00011a72_07_if183j_mtr3: 192873 pixels\n",
      "[8/12] [loaded] frt00019daa_07_if165j_mtr3: 68573 pixels\n",
      "[9/12] [loaded] frt0000b072_07_if166j_mtr3: 144528 pixels\n",
      "[10/12] [loaded] frt000203de_07_if165j_mtr3: 163778 pixels\n",
      "[11/12] [loaded] frt000128d0_07_if165j_mtr3: 217017 pixels\n",
      "[12/12] [loaded] hrl0001fc92_07_if182j_mtr3: 78785 pixels\n",
      "[OK] Total loaded samples: 4003222\n"
     ]
    },
    {
     "name": "stderr",
     "output_type": "stream",
     "text": [
      "epoch 1 [train block 12]: 100%|██████████████████████████████████████████████████████████████████████████████████████████████████████| 98/98 [00:21<00:00,  4.50it/s]\n"
     ]
    },
    {
     "name": "stdout",
     "output_type": "stream",
     "text": [
      "[OK] Block 12 | Epoch 1 | Loss: 90.31 | Val Acc: 0.5370 | Time: 35.4s\n"
     ]
    },
    {
     "name": "stderr",
     "output_type": "stream",
     "text": [
      "epoch 2 [train block 12]: 100%|██████████████████████████████████████████████████████████████████████████████████████████████████████| 98/98 [00:21<00:00,  4.51it/s]\n"
     ]
    },
    {
     "name": "stdout",
     "output_type": "stream",
     "text": [
      "[OK] Block 12 | Epoch 2 | Loss: 78.42 | Val Acc: 0.5878 | Time: 35.1s\n"
     ]
    },
    {
     "name": "stderr",
     "output_type": "stream",
     "text": [
      "epoch 3 [train block 12]: 100%|██████████████████████████████████████████████████████████████████████████████████████████████████████| 98/98 [00:21<00:00,  4.55it/s]\n"
     ]
    },
    {
     "name": "stdout",
     "output_type": "stream",
     "text": [
      "[OK] Block 12 | Epoch 3 | Loss: 70.43 | Val Acc: 0.6359 | Time: 35.1s\n"
     ]
    },
    {
     "name": "stderr",
     "output_type": "stream",
     "text": [
      "epoch 4 [train block 12]: 100%|██████████████████████████████████████████████████████████████████████████████████████████████████████| 98/98 [00:22<00:00,  4.28it/s]\n"
     ]
    },
    {
     "name": "stdout",
     "output_type": "stream",
     "text": [
      "[OK] Block 12 | Epoch 4 | Loss: 63.23 | Val Acc: 0.6614 | Time: 37.3s\n"
     ]
    },
    {
     "name": "stderr",
     "output_type": "stream",
     "text": [
      "epoch 5 [train block 12]: 100%|██████████████████████████████████████████████████████████████████████████████████████████████████████| 98/98 [00:22<00:00,  4.41it/s]\n"
     ]
    },
    {
     "name": "stdout",
     "output_type": "stream",
     "text": [
      "[OK] Block 12 | Epoch 5 | Loss: 56.46 | Val Acc: 0.6844 | Time: 36.0s\n"
     ]
    },
    {
     "name": "stderr",
     "output_type": "stream",
     "text": [
      "epoch 6 [train block 12]: 100%|██████████████████████████████████████████████████████████████████████████████████████████████████████| 98/98 [00:22<00:00,  4.44it/s]\n"
     ]
    },
    {
     "name": "stdout",
     "output_type": "stream",
     "text": [
      "[OK] Block 12 | Epoch 6 | Loss: 49.52 | Val Acc: 0.7078 | Time: 35.9s\n"
     ]
    },
    {
     "name": "stderr",
     "output_type": "stream",
     "text": [
      "epoch 7 [train block 12]: 100%|██████████████████████████████████████████████████████████████████████████████████████████████████████| 98/98 [00:21<00:00,  4.58it/s]\n"
     ]
    },
    {
     "name": "stdout",
     "output_type": "stream",
     "text": [
      "[OK] Block 12 | Epoch 7 | Loss: 43.02 | Val Acc: 0.7308 | Time: 35.2s\n"
     ]
    },
    {
     "name": "stderr",
     "output_type": "stream",
     "text": [
      "epoch 8 [train block 12]: 100%|██████████████████████████████████████████████████████████████████████████████████████████████████████| 98/98 [00:21<00:00,  4.60it/s]\n"
     ]
    },
    {
     "name": "stdout",
     "output_type": "stream",
     "text": [
      "[OK] Block 12 | Epoch 8 | Loss: 37.53 | Val Acc: 0.7500 | Time: 34.7s\n",
      "[OK] Block 12 completed in 284.6s\n",
      "\n",
      " Training on cubes 24 to 35\n",
      "[info] Loading 12 cubes into RAM...\n",
      "[1/12] [loaded] frt00005443_07_if166j_mtr3: 394890 pixels\n",
      "[2/12] [loaded] hrl0002422e_07_if182j_mtr3: 23342 pixels\n",
      "[3/12] [loaded] frt0000beeb_07_if166j_mtr3: 197296 pixels\n",
      "[4/12] [loaded] frt0000652e_07_if166j_mtr3: 396546 pixels\n",
      "[5/12] [loaded] frt000088d0_07_if166j_mtr3: 283023 pixels\n",
      "[6/12] [loaded] hrl00011336_07_if183j_mtr3: 76043 pixels\n",
      "[7/12] [loaded] frt0001792c_07_if166j_mtr3: 104453 pixels\n",
      "[8/12] [loaded] frt00005850_07_if167j_mtr3: 601925 pixels\n",
      "[9/12] [loaded] hrl0001d93d_07_if182j_mtr3: 112556 pixels\n",
      "[10/12] [loaded] frt00008fc1_07_if166j_mtr3: 289352 pixels\n",
      "[11/12] [loaded] frt00017736_07_if166j_mtr3: 17036 pixels\n",
      "[12/12] [loaded] frt0000a053_07_if166j_mtr3: 220363 pixels\n",
      "[OK] Total loaded samples: 2716825\n"
     ]
    },
    {
     "name": "stderr",
     "output_type": "stream",
     "text": [
      "epoch 1 [train block 24]: 100%|██████████████████████████████████████████████████████████████████████████████████████████████████████| 67/67 [00:17<00:00,  3.94it/s]\n"
     ]
    },
    {
     "name": "stdout",
     "output_type": "stream",
     "text": [
      "[OK] Block 24 | Epoch 1 | Loss: 45.47 | Val Acc: 0.6265 | Time: 30.0s\n"
     ]
    },
    {
     "name": "stderr",
     "output_type": "stream",
     "text": [
      "epoch 2 [train block 24]: 100%|██████████████████████████████████████████████████████████████████████████████████████████████████████| 67/67 [00:15<00:00,  4.33it/s]\n"
     ]
    },
    {
     "name": "stdout",
     "output_type": "stream",
     "text": [
      "[OK] Block 24 | Epoch 2 | Loss: 22.62 | Val Acc: 0.6795 | Time: 28.5s\n"
     ]
    },
    {
     "name": "stderr",
     "output_type": "stream",
     "text": [
      "epoch 3 [train block 24]: 100%|██████████████████████████████████████████████████████████████████████████████████████████████████████| 67/67 [00:14<00:00,  4.53it/s]\n"
     ]
    },
    {
     "name": "stdout",
     "output_type": "stream",
     "text": [
      "[OK] Block 24 | Epoch 3 | Loss: 20.23 | Val Acc: 0.6828 | Time: 28.1s\n"
     ]
    },
    {
     "name": "stderr",
     "output_type": "stream",
     "text": [
      "epoch 4 [train block 24]: 100%|██████████████████████████████████████████████████████████████████████████████████████████████████████| 67/67 [00:15<00:00,  4.47it/s]\n"
     ]
    },
    {
     "name": "stdout",
     "output_type": "stream",
     "text": [
      "[OK] Block 24 | Epoch 4 | Loss: 18.63 | Val Acc: 0.6867 | Time: 27.9s\n"
     ]
    },
    {
     "name": "stderr",
     "output_type": "stream",
     "text": [
      "epoch 5 [train block 24]: 100%|██████████████████████████████████████████████████████████████████████████████████████████████████████| 67/67 [00:14<00:00,  4.61it/s]\n"
     ]
    },
    {
     "name": "stdout",
     "output_type": "stream",
     "text": [
      "[OK] Block 24 | Epoch 5 | Loss: 17.66 | Val Acc: 0.6898 | Time: 27.4s\n"
     ]
    },
    {
     "name": "stderr",
     "output_type": "stream",
     "text": [
      "epoch 6 [train block 24]: 100%|██████████████████████████████████████████████████████████████████████████████████████████████████████| 67/67 [00:15<00:00,  4.43it/s]\n"
     ]
    },
    {
     "name": "stdout",
     "output_type": "stream",
     "text": [
      "[OK] Block 24 | Epoch 6 | Loss: 16.89 | Val Acc: 0.6952 | Time: 28.1s\n"
     ]
    },
    {
     "name": "stderr",
     "output_type": "stream",
     "text": [
      "epoch 7 [train block 24]: 100%|██████████████████████████████████████████████████████████████████████████████████████████████████████| 67/67 [00:15<00:00,  4.45it/s]\n"
     ]
    },
    {
     "name": "stdout",
     "output_type": "stream",
     "text": [
      "[OK] Block 24 | Epoch 7 | Loss: 16.24 | Val Acc: 0.6974 | Time: 28.2s\n"
     ]
    },
    {
     "name": "stderr",
     "output_type": "stream",
     "text": [
      "epoch 8 [train block 24]: 100%|██████████████████████████████████████████████████████████████████████████████████████████████████████| 67/67 [00:14<00:00,  4.48it/s]\n"
     ]
    },
    {
     "name": "stdout",
     "output_type": "stream",
     "text": [
      "[OK] Block 24 | Epoch 8 | Loss: 15.66 | Val Acc: 0.7030 | Time: 28.1s\n",
      "[OK] Block 24 completed in 226.5s\n",
      "\n",
      " Training on cubes 36 to 47\n",
      "[info] Loading 12 cubes into RAM...\n",
      "[1/12] [loaded] frt00009d96_07_if166j_mtr3: 227394 pixels\n",
      "[2/12] [loaded] frt00021c5a_07_if166j_mtr3: 100142 pixels\n",
      "[3/12] [loaded] hrl0000c4d8_07_if183j_mtr3: 83718 pixels\n",
      "[4/12] [loaded] frt0000a4fc_07_if166j_mtr3: 275308 pixels\n",
      "[5/12] [loaded] hrs0001e23e_07_if175j_mtr3: 10296 pixels\n",
      "[6/12] [loaded] frt00011188_07_if166j_mtr3: 134236 pixels\n",
      "[7/12] [loaded] frt0001b615_07_if166j_mtr3: 189465 pixels\n",
      "[8/12] [loaded] frt0000bbcb_07_if166j_mtr3: 139523 pixels\n",
      "[9/12] [loaded] hrl00009abe_07_if183j_mtr3: 101282 pixels\n",
      "[10/12] [loaded] hrl00020ba3_07_if183j_mtr3: 58573 pixels\n",
      "[11/12] [loaded] frt0000bda8_07_if165j_mtr3: 81401 pixels\n",
      "[12/12] [loaded] frt0000b438_07_if166j_mtr3: 163311 pixels\n",
      "[OK] Total loaded samples: 1564649\n"
     ]
    },
    {
     "name": "stderr",
     "output_type": "stream",
     "text": [
      "epoch 1 [train block 36]: 100%|██████████████████████████████████████████████████████████████████████████████████████████████████████| 39/39 [00:09<00:00,  4.30it/s]\n"
     ]
    },
    {
     "name": "stdout",
     "output_type": "stream",
     "text": [
      "[OK] Block 36 | Epoch 1 | Loss: 14.33 | Val Acc: 0.6941 | Time: 22.2s\n"
     ]
    },
    {
     "name": "stderr",
     "output_type": "stream",
     "text": [
      "epoch 2 [train block 36]: 100%|██████████████████████████████████████████████████████████████████████████████████████████████████████| 39/39 [00:09<00:00,  4.18it/s]\n"
     ]
    },
    {
     "name": "stdout",
     "output_type": "stream",
     "text": [
      "[OK] Block 36 | Epoch 2 | Loss: 12.65 | Val Acc: 0.6934 | Time: 22.0s\n"
     ]
    },
    {
     "name": "stderr",
     "output_type": "stream",
     "text": [
      "epoch 3 [train block 36]: 100%|██████████████████████████████████████████████████████████████████████████████████████████████████████| 39/39 [00:08<00:00,  4.33it/s]\n"
     ]
    },
    {
     "name": "stdout",
     "output_type": "stream",
     "text": [
      "[OK] Block 36 | Epoch 3 | Loss: 11.78 | Val Acc: 0.6905 | Time: 22.0s\n"
     ]
    },
    {
     "name": "stderr",
     "output_type": "stream",
     "text": [
      "epoch 4 [train block 36]: 100%|██████████████████████████████████████████████████████████████████████████████████████████████████████| 39/39 [00:09<00:00,  4.33it/s]\n"
     ]
    },
    {
     "name": "stdout",
     "output_type": "stream",
     "text": [
      "[OK] Block 36 | Epoch 4 | Loss: 11.19 | Val Acc: 0.6907 | Time: 22.2s\n"
     ]
    },
    {
     "name": "stderr",
     "output_type": "stream",
     "text": [
      "epoch 5 [train block 36]: 100%|██████████████████████████████████████████████████████████████████████████████████████████████████████| 39/39 [00:09<00:00,  4.10it/s]\n"
     ]
    },
    {
     "name": "stdout",
     "output_type": "stream",
     "text": [
      "[OK] Block 36 | Epoch 5 | Loss: 10.71 | Val Acc: 0.6895 | Time: 22.9s\n"
     ]
    },
    {
     "name": "stderr",
     "output_type": "stream",
     "text": [
      "epoch 6 [train block 36]: 100%|██████████████████████████████████████████████████████████████████████████████████████████████████████| 39/39 [00:09<00:00,  4.14it/s]\n"
     ]
    },
    {
     "name": "stdout",
     "output_type": "stream",
     "text": [
      "[OK] Block 36 | Epoch 6 | Loss: 10.30 | Val Acc: 0.6906 | Time: 22.7s\n"
     ]
    },
    {
     "name": "stderr",
     "output_type": "stream",
     "text": [
      "epoch 7 [train block 36]: 100%|██████████████████████████████████████████████████████████████████████████████████████████████████████| 39/39 [00:09<00:00,  4.21it/s]\n"
     ]
    },
    {
     "name": "stdout",
     "output_type": "stream",
     "text": [
      "[OK] Block 36 | Epoch 7 | Loss: 9.94 | Val Acc: 0.6895 | Time: 22.2s\n"
     ]
    },
    {
     "name": "stderr",
     "output_type": "stream",
     "text": [
      "epoch 8 [train block 36]: 100%|██████████████████████████████████████████████████████████████████████████████████████████████████████| 39/39 [00:10<00:00,  3.88it/s]\n"
     ]
    },
    {
     "name": "stdout",
     "output_type": "stream",
     "text": [
      "[OK] Block 36 | Epoch 8 | Loss: 9.63 | Val Acc: 0.6941 | Time: 23.4s\n",
      "[OK] Block 36 completed in 179.7s\n",
      "\n",
      " Training on cubes 48 to 59\n",
      "[info] Loading 12 cubes into RAM...\n",
      "[1/12] [loaded] frt0000b2f8_07_if165j_mtr3: 112789 pixels\n",
      "[2/12] [loaded] frt00005a3e_07_if165j_mtr3: 394241 pixels\n",
      "[3/12] [loaded] frt00009d44_07_if165j_mtr3: 260147 pixels\n",
      "[4/12] [loaded] hrl000095a2_07_if183j_mtr3: 153698 pixels\n",
      "[5/12] [loaded] hrl0000d08f_07_if183j_mtr3: 165568 pixels\n",
      "[6/12] [loaded] frt00019538_07_if166j_mtr3: 40059 pixels\n",
      "[7/12] [loaded] hrl0000b404_07_if183j_mtr3: 75260 pixels\n",
      "[8/12] [loaded] hrl00017fa7_07_if183j_mtr3: 34890 pixels\n",
      "[9/12] [loaded] frt0001642e_07_if166j_mtr3: 41359 pixels\n",
      "[10/12] [loaded] frt00016f2c_07_if166j_mtr3: 100101 pixels\n",
      "[11/12] [loaded] hrl0000c0ba_07_if183j_mtr3: 64098 pixels\n",
      "[12/12] [loaded] hrl0000ab0a_07_if183j_mtr3: 86814 pixels\n",
      "[OK] Total loaded samples: 1529024\n"
     ]
    },
    {
     "name": "stderr",
     "output_type": "stream",
     "text": [
      "epoch 1 [train block 48]: 100%|██████████████████████████████████████████████████████████████████████████████████████████████████████| 38/38 [00:09<00:00,  4.14it/s]\n"
     ]
    },
    {
     "name": "stdout",
     "output_type": "stream",
     "text": [
      "[OK] Block 48 | Epoch 1 | Loss: 22.03 | Val Acc: 0.7965 | Time: 21.8s\n"
     ]
    },
    {
     "name": "stderr",
     "output_type": "stream",
     "text": [
      "epoch 2 [train block 48]: 100%|██████████████████████████████████████████████████████████████████████████████████████████████████████| 38/38 [00:09<00:00,  4.07it/s]\n"
     ]
    },
    {
     "name": "stdout",
     "output_type": "stream",
     "text": [
      "[OK] Block 48 | Epoch 2 | Loss: 18.20 | Val Acc: 0.8104 | Time: 22.5s\n"
     ]
    },
    {
     "name": "stderr",
     "output_type": "stream",
     "text": [
      "epoch 3 [train block 48]: 100%|██████████████████████████████████████████████████████████████████████████████████████████████████████| 38/38 [00:08<00:00,  4.23it/s]\n"
     ]
    },
    {
     "name": "stdout",
     "output_type": "stream",
     "text": [
      "[OK] Block 48 | Epoch 3 | Loss: 17.52 | Val Acc: 0.8154 | Time: 22.0s\n"
     ]
    },
    {
     "name": "stderr",
     "output_type": "stream",
     "text": [
      "epoch 4 [train block 48]: 100%|██████████████████████████████████████████████████████████████████████████████████████████████████████| 38/38 [00:09<00:00,  4.06it/s]\n"
     ]
    },
    {
     "name": "stdout",
     "output_type": "stream",
     "text": [
      "[OK] Block 48 | Epoch 4 | Loss: 17.05 | Val Acc: 0.8188 | Time: 23.1s\n"
     ]
    },
    {
     "name": "stderr",
     "output_type": "stream",
     "text": [
      "epoch 5 [train block 48]: 100%|██████████████████████████████████████████████████████████████████████████████████████████████████████| 38/38 [00:10<00:00,  3.73it/s]\n"
     ]
    },
    {
     "name": "stdout",
     "output_type": "stream",
     "text": [
      "[OK] Block 48 | Epoch 5 | Loss: 16.63 | Val Acc: 0.8227 | Time: 23.2s\n"
     ]
    },
    {
     "name": "stderr",
     "output_type": "stream",
     "text": [
      "epoch 6 [train block 48]: 100%|██████████████████████████████████████████████████████████████████████████████████████████████████████| 38/38 [00:09<00:00,  4.16it/s]\n"
     ]
    },
    {
     "name": "stdout",
     "output_type": "stream",
     "text": [
      "[OK] Block 48 | Epoch 6 | Loss: 16.25 | Val Acc: 0.8191 | Time: 22.5s\n"
     ]
    },
    {
     "name": "stderr",
     "output_type": "stream",
     "text": [
      "epoch 7 [train block 48]: 100%|██████████████████████████████████████████████████████████████████████████████████████████████████████| 38/38 [00:09<00:00,  4.08it/s]\n"
     ]
    },
    {
     "name": "stdout",
     "output_type": "stream",
     "text": [
      "[OK] Block 48 | Epoch 7 | Loss: 15.92 | Val Acc: 0.8200 | Time: 22.3s\n"
     ]
    },
    {
     "name": "stderr",
     "output_type": "stream",
     "text": [
      "epoch 8 [train block 48]: 100%|██████████████████████████████████████████████████████████████████████████████████████████████████████| 38/38 [00:08<00:00,  4.32it/s]\n"
     ]
    },
    {
     "name": "stdout",
     "output_type": "stream",
     "text": [
      "[OK] Block 48 | Epoch 8 | Loss: 15.61 | Val Acc: 0.8200 | Time: 21.6s\n",
      "[OK] Block 48 completed in 179.0s\n",
      "\n",
      " Training on cubes 60 to 71\n",
      "[info] Loading 12 cubes into RAM...\n",
      "[1/12] [loaded] hrl0000b6ff_07_if183j_mtr3: 68443 pixels\n",
      "[2/12] [loaded] frt00012149_07_if166j_mtr3: 192253 pixels\n",
      "[3/12] [loaded] hrl0001c7c0_07_if183j_mtr3: 60794 pixels\n",
      "[4/12] [loaded] frt000095fe_07_if166j_mtr3: 246161 pixels\n",
      "[5/12] [loaded] hrs00018c35_07_if175j_mtr3: 9551 pixels\n",
      "[6/12] [loaded] frt0000c79d_07_if166j_mtr3: 159798 pixels\n",
      "[7/12] [loaded] frt000037ae_07_if166j_mtr3: 319996 pixels\n",
      "[8/12] [loaded] frt000172dd_07_if166j_mtr3: 103879 pixels\n",
      "[9/12] [loaded] frt0001fb74_07_if166j_mtr3: 175266 pixels\n",
      "[10/12] [loaded] frt00013ebc_07_if166j_mtr3: 127183 pixels\n",
      "[11/12] [loaded] hrl00013d8b_07_if183j_mtr3: 31236 pixels\n",
      "[12/12] [loaded] frt0000abcb_07_if166j_mtr3: 214485 pixels\n",
      "[OK] Total loaded samples: 1709045\n"
     ]
    },
    {
     "name": "stderr",
     "output_type": "stream",
     "text": [
      "epoch 1 [train block 60]: 100%|██████████████████████████████████████████████████████████████████████████████████████████████████████| 42/42 [00:09<00:00,  4.38it/s]\n"
     ]
    },
    {
     "name": "stdout",
     "output_type": "stream",
     "text": [
      "[OK] Block 60 | Epoch 1 | Loss: 13.12 | Val Acc: 0.8099 | Time: 23.3s\n"
     ]
    },
    {
     "name": "stderr",
     "output_type": "stream",
     "text": [
      "epoch 2 [train block 60]: 100%|██████████████████████████████████████████████████████████████████████████████████████████████████████| 42/42 [00:10<00:00,  3.93it/s]\n"
     ]
    },
    {
     "name": "stdout",
     "output_type": "stream",
     "text": [
      "[OK] Block 60 | Epoch 2 | Loss: 11.62 | Val Acc: 0.8170 | Time: 24.0s\n"
     ]
    },
    {
     "name": "stderr",
     "output_type": "stream",
     "text": [
      "epoch 3 [train block 60]: 100%|██████████████████████████████████████████████████████████████████████████████████████████████████████| 42/42 [00:10<00:00,  4.10it/s]\n"
     ]
    },
    {
     "name": "stdout",
     "output_type": "stream",
     "text": [
      "[OK] Block 60 | Epoch 3 | Loss: 10.89 | Val Acc: 0.8153 | Time: 23.5s\n"
     ]
    },
    {
     "name": "stderr",
     "output_type": "stream",
     "text": [
      "epoch 4 [train block 60]: 100%|██████████████████████████████████████████████████████████████████████████████████████████████████████| 42/42 [00:10<00:00,  4.03it/s]\n"
     ]
    },
    {
     "name": "stdout",
     "output_type": "stream",
     "text": [
      "[OK] Block 60 | Epoch 4 | Loss: 10.31 | Val Acc: 0.8155 | Time: 24.0s\n"
     ]
    },
    {
     "name": "stderr",
     "output_type": "stream",
     "text": [
      "epoch 5 [train block 60]: 100%|██████████████████████████████████████████████████████████████████████████████████████████████████████| 42/42 [00:10<00:00,  4.11it/s]\n"
     ]
    },
    {
     "name": "stdout",
     "output_type": "stream",
     "text": [
      "[OK] Block 60 | Epoch 5 | Loss: 9.92 | Val Acc: 0.8173 | Time: 23.7s\n"
     ]
    },
    {
     "name": "stderr",
     "output_type": "stream",
     "text": [
      "epoch 6 [train block 60]: 100%|██████████████████████████████████████████████████████████████████████████████████████████████████████| 42/42 [00:10<00:00,  4.08it/s]\n"
     ]
    },
    {
     "name": "stdout",
     "output_type": "stream",
     "text": [
      "[OK] Block 60 | Epoch 6 | Loss: 9.61 | Val Acc: 0.8183 | Time: 23.5s\n"
     ]
    },
    {
     "name": "stderr",
     "output_type": "stream",
     "text": [
      "epoch 7 [train block 60]: 100%|██████████████████████████████████████████████████████████████████████████████████████████████████████| 42/42 [00:10<00:00,  4.07it/s]\n"
     ]
    },
    {
     "name": "stdout",
     "output_type": "stream",
     "text": [
      "[OK] Block 60 | Epoch 7 | Loss: 9.34 | Val Acc: 0.8215 | Time: 23.5s\n"
     ]
    },
    {
     "name": "stderr",
     "output_type": "stream",
     "text": [
      "epoch 8 [train block 60]: 100%|██████████████████████████████████████████████████████████████████████████████████████████████████████| 42/42 [00:10<00:00,  4.16it/s]\n"
     ]
    },
    {
     "name": "stdout",
     "output_type": "stream",
     "text": [
      "[OK] Block 60 | Epoch 8 | Loss: 9.09 | Val Acc: 0.8219 | Time: 23.2s\n",
      "[OK] Block 60 completed in 188.6s\n",
      "\n",
      " Training on cubes 72 to 80\n",
      "[info] Loading 9 cubes into RAM...\n",
      "[1/9] [loaded] frt00013d3b_07_if165j_mtr3: 86138 pixels\n",
      "[2/9] [loaded] frt00018dca_07_if166j_mtr3: 22729 pixels\n",
      "[3/9] [loaded] frt00023728_07_if166j_mtr3: 41447 pixels\n",
      "[4/9] [loaded] frt000186fa_07_if166j_mtr3: 97790 pixels\n",
      "[5/9] [loaded] frt00008530_07_if166j_mtr3: 229492 pixels\n",
      "[6/9] [loaded] hrl00010963_07_if183j_mtr3: 74275 pixels\n",
      "[7/9] [loaded] frt0000c5ea_07_if166j_mtr3: 198224 pixels\n",
      "[8/9] [loaded] frt00003fb9_07_if166j_mtr3: 429990 pixels\n",
      "[9/9] [loaded] frt0000aa03_07_if166j_mtr3: 195109 pixels\n",
      "[OK] Total loaded samples: 1375194\n"
     ]
    },
    {
     "name": "stderr",
     "output_type": "stream",
     "text": [
      "epoch 1 [train block 72]: 100%|██████████████████████████████████████████████████████████████████████████████████████████████████████| 34/34 [00:08<00:00,  4.03it/s]\n"
     ]
    },
    {
     "name": "stdout",
     "output_type": "stream",
     "text": [
      "[OK] Block 72 | Epoch 1 | Loss: 14.97 | Val Acc: 0.8264 | Time: 21.5s\n"
     ]
    },
    {
     "name": "stderr",
     "output_type": "stream",
     "text": [
      "epoch 2 [train block 72]: 100%|██████████████████████████████████████████████████████████████████████████████████████████████████████| 34/34 [00:08<00:00,  3.96it/s]\n"
     ]
    },
    {
     "name": "stdout",
     "output_type": "stream",
     "text": [
      "[OK] Block 72 | Epoch 2 | Loss: 13.37 | Val Acc: 0.8288 | Time: 21.5s\n"
     ]
    },
    {
     "name": "stderr",
     "output_type": "stream",
     "text": [
      "epoch 3 [train block 72]: 100%|██████████████████████████████████████████████████████████████████████████████████████████████████████| 34/34 [00:08<00:00,  4.19it/s]\n"
     ]
    },
    {
     "name": "stdout",
     "output_type": "stream",
     "text": [
      "[OK] Block 72 | Epoch 3 | Loss: 13.02 | Val Acc: 0.8321 | Time: 20.9s\n"
     ]
    },
    {
     "name": "stderr",
     "output_type": "stream",
     "text": [
      "epoch 4 [train block 72]: 100%|██████████████████████████████████████████████████████████████████████████████████████████████████████| 34/34 [00:08<00:00,  4.07it/s]\n"
     ]
    },
    {
     "name": "stdout",
     "output_type": "stream",
     "text": [
      "[OK] Block 72 | Epoch 4 | Loss: 12.80 | Val Acc: 0.8342 | Time: 21.2s\n"
     ]
    },
    {
     "name": "stderr",
     "output_type": "stream",
     "text": [
      "epoch 5 [train block 72]: 100%|██████████████████████████████████████████████████████████████████████████████████████████████████████| 34/34 [00:08<00:00,  3.94it/s]\n"
     ]
    },
    {
     "name": "stdout",
     "output_type": "stream",
     "text": [
      "[OK] Block 72 | Epoch 5 | Loss: 12.62 | Val Acc: 0.8371 | Time: 21.6s\n"
     ]
    },
    {
     "name": "stderr",
     "output_type": "stream",
     "text": [
      "epoch 6 [train block 72]: 100%|██████████████████████████████████████████████████████████████████████████████████████████████████████| 34/34 [00:07<00:00,  4.25it/s]\n"
     ]
    },
    {
     "name": "stdout",
     "output_type": "stream",
     "text": [
      "[OK] Block 72 | Epoch 6 | Loss: 12.47 | Val Acc: 0.8371 | Time: 21.2s\n"
     ]
    },
    {
     "name": "stderr",
     "output_type": "stream",
     "text": [
      "epoch 7 [train block 72]: 100%|██████████████████████████████████████████████████████████████████████████████████████████████████████| 34/34 [00:08<00:00,  3.94it/s]\n"
     ]
    },
    {
     "name": "stdout",
     "output_type": "stream",
     "text": [
      "[OK] Block 72 | Epoch 7 | Loss: 12.33 | Val Acc: 0.8374 | Time: 21.7s\n"
     ]
    },
    {
     "name": "stderr",
     "output_type": "stream",
     "text": [
      "epoch 8 [train block 72]: 100%|██████████████████████████████████████████████████████████████████████████████████████████████████████| 34/34 [00:08<00:00,  4.14it/s]\n"
     ]
    },
    {
     "name": "stdout",
     "output_type": "stream",
     "text": [
      "[OK] Block 72 | Epoch 8 | Loss: 12.21 | Val Acc: 0.8399 | Time: 21.2s\n",
      "[OK] Block 72 completed in 170.9s\n",
      "\n",
      "[OK] Total Training Time: 1805.8s\n"
     ]
    }
   ],
   "source": [
    "# training loop over all train cubes\n",
    "\n",
    "# initialize model, optimizer, and loss function\n",
    "model = SpectralCNN().to(device)\n",
    "optimizer = torch.optim.Adam(model.parameters(), lr=1e-3)\n",
    "criterion = nn.CrossEntropyLoss()\n",
    "\n",
    "# training loop\n",
    "epochs_per_block = 8\n",
    "block_size = 12\n",
    "\n",
    "# total training time timer\n",
    "start_total_time = time.time()\n",
    "\n",
    "for block_start in range(0, len(train_cubes), block_size):\n",
    "    subset = train_cubes[block_start:block_start + block_size]\n",
    "    print(f\"\\n Training on cubes {block_start} to {block_start + len(subset) - 1}\")\n",
    "    \n",
    "    train_ds = CRISMDatasetSubsetRAM(subset, cube_to_paths)\n",
    "    train_loader = DataLoader(train_ds, batch_size=40960, shuffle=True, num_workers=18, pin_memory=True)\n",
    "\n",
    "    # start block timer\n",
    "    block_start_time = time.time()\n",
    "    \n",
    "    for epoch in range(1, epochs_per_block + 1):\n",
    "        model.train()\n",
    "        total_loss = 0\n",
    "        start_time = time.time()\n",
    "\n",
    "        # tqdm adds a live progress bar with ETA and speed\n",
    "        for X_batch, y_batch in tqdm(train_loader, desc=f\"epoch {epoch} [train block {block_start}]\"):\n",
    "            X_batch = X_batch.to(device)\n",
    "            y_batch = y_batch.to(device)\n",
    "\n",
    "            optimizer.zero_grad()\n",
    "            output = model(X_batch)\n",
    "            loss = criterion(output, y_batch)\n",
    "            loss.backward()\n",
    "            optimizer.step()\n",
    "\n",
    "            total_loss += loss.item()\n",
    "\n",
    "        # run validation\n",
    "        model.eval()\n",
    "        correct = total = 0\n",
    "        with torch.no_grad():\n",
    "            for X_batch, y_batch in val_loader:\n",
    "                X_batch = X_batch.to(device)\n",
    "                y_batch = y_batch.to(device)\n",
    "                preds = model(X_batch).argmax(dim=1)\n",
    "                correct += (preds == y_batch).sum().item()\n",
    "                total += y_batch.size(0)\n",
    "\n",
    "        val_acc = correct / total\n",
    "        duration = time.time() - start_time\n",
    "        print(f\"[OK] Block {block_start} | Epoch {epoch} | Loss: {total_loss:.2f} | Val Acc: {val_acc:.4f} | Time: {duration:.1f}s\")\n",
    "\n",
    "    \n",
    "    # clear memory after block training\n",
    "    # delete dataset and subset references\n",
    "    del train_ds\n",
    "    del subset\n",
    "    # force garbage collection\n",
    "    gc.collect()\n",
    "    \n",
    "    # block timer end\n",
    "    block_end_time = time.time()\n",
    "    block_duration = block_end_time - block_start_time\n",
    "    print(f\"[OK] Block {block_start} completed in {block_duration:.1f}s\")\n",
    "\n",
    "# total learning time\n",
    "total_learning_duration = time.time() - start_total_time\n",
    "print(f\"\\n[OK] Total Training Time: {total_learning_duration:.1f}s\")"
   ]
  },
  {
   "cell_type": "code",
   "execution_count": 8,
   "id": "dc42ba17-c75f-4023-a526-590685898c52",
   "metadata": {},
   "outputs": [
    {
     "name": "stdout",
     "output_type": "stream",
     "text": [
      "[info] Loading 28 cubes into RAM...\n",
      "[1/28] [loaded] frt0000c202_07_if165j_mtr3: 201990 pixels\n",
      "[2/28] [loaded] frt0000d6d6_07_if166j_mtr3: 141886 pixels\n",
      "[3/28] [loaded] frt000161ef_07_if167j_mtr3: 93605 pixels\n",
      "[4/28] [loaded] hrs00012aa7_07_if175j_mtr3: 45132 pixels\n",
      "[5/28] [loaded] hrl0001b769_07_if183j_mtr3: 101887 pixels\n",
      "[6/28] [loaded] frt00021da6_07_if166j_mtr3: 43045 pixels\n",
      "[7/28] [loaded] hrl000116c6_07_if183j_mtr3: 118360 pixels\n",
      "[8/28] [loaded] frt00009c31_07_if166j_mtr3: 212648 pixels\n",
      "[9/28] [loaded] frt0000bfd1_07_if166j_mtr3: 156969 pixels\n",
      "[10/28] [loaded] frt000093be_07_if166j_mtr3: 288048 pixels\n",
      "[11/28] [loaded] frt00008389_07_if166j_mtr3: 380642 pixels\n",
      "[12/28] [loaded] frt000174f4_07_if166j_mtr3: 47459 pixels\n",
      "[13/28] [loaded] frt0000bec0_07_if165j_mtr3: 131165 pixels\n",
      "[14/28] [loaded] frt00011d4c_07_if166j_mtr3: 430661 pixels\n",
      "[15/28] [loaded] hrl0000cc16_07_if184j_mtr3: 122464 pixels\n",
      "[16/28] [loaded] frt0000c968_07_if166j_mtr3: 171121 pixels\n",
      "[17/28] [loaded] hrs00011c01_07_if175j_mtr3: 57649 pixels\n",
      "[18/28] [loaded] frt0000c62b_07_if166j_mtr3: 226878 pixels\n",
      "[19/28] [loaded] frt00007bc8_07_if166j_mtr3: 467483 pixels\n",
      "[20/28] [loaded] frt00017103_07_if165j_mtr3: 27919 pixels\n",
      "[21/28] [loaded] frt00016655_07_if166j_mtr3: 13050 pixels\n",
      "[22/28] [loaded] frt0001487a_07_if166j_mtr3: 115442 pixels\n",
      "[23/28] [loaded] frt0001fd76_07_if166j_mtr3: 161976 pixels\n",
      "[24/28] [loaded] frt00016ed6_07_if165j_mtr3: 82460 pixels\n",
      "[25/28] [loaded] frt00023370_00_if166j_mtr3: 84027 pixels\n",
      "[26/28] [loaded] frt00009c6a_07_if166j_mtr3: 172436 pixels\n",
      "[27/28] [loaded] frt00024c1a_07_if165j_mtr3: 53913 pixels\n",
      "[28/28] [loaded] frt00016a73_07_if166j_mtr3: 31303 pixels\n",
      "[OK] Total loaded samples: 4181618\n",
      "Done: predicted 4,181,618 test pixels in 12.5s\n"
     ]
    }
   ],
   "source": [
    "# test prediction with timing\n",
    "\n",
    "# load all test cubes into RAM\n",
    "test_ds = CRISMDatasetSubsetRAM(test_cubes, cube_to_paths, max_cubes=len(test_cubes))\n",
    "# dataloader for test prediction\n",
    "test_loader = DataLoader(test_ds, batch_size=40960, num_workers=18, pin_memory=True)\n",
    "\n",
    "# evaluate model and store predictions\n",
    "model.eval()\n",
    "predictions = []\n",
    "\n",
    "start_time = time.time()\n",
    "with torch.no_grad():\n",
    "    for X_batch, _ in test_loader:\n",
    "        X_batch = X_batch.to(device)\n",
    "        logits = model(X_batch)\n",
    "        preds = torch.argmax(logits, dim=1).cpu().numpy()\n",
    "        predictions.append(preds)\n",
    "\n",
    "predictions = np.concatenate(predictions)\n",
    "duration = time.time() - start_time\n",
    "print(f\"Done: predicted {len(predictions):,} test pixels in {duration:.1f}s\")"
   ]
  },
  {
   "cell_type": "code",
   "execution_count": 9,
   "id": "703fccfb-aace-457d-9fd8-06842fa5ffff",
   "metadata": {},
   "outputs": [
    {
     "name": "stdout",
     "output_type": "stream",
     "text": [
      "[OK] Saved: frt0000c202_07_if165j_mtr3 labelmap\n",
      "[OK] Saved: frt0000d6d6_07_if166j_mtr3 labelmap\n",
      "[OK] Saved: frt000161ef_07_if167j_mtr3 labelmap\n",
      "[OK] Saved: hrs00012aa7_07_if175j_mtr3 labelmap\n",
      "[OK] Saved: hrl0001b769_07_if183j_mtr3 labelmap\n",
      "[OK] Saved: frt00021da6_07_if166j_mtr3 labelmap\n",
      "[OK] Saved: hrl000116c6_07_if183j_mtr3 labelmap\n",
      "[OK] Saved: frt00009c31_07_if166j_mtr3 labelmap\n",
      "[OK] Saved: frt0000bfd1_07_if166j_mtr3 labelmap\n",
      "[OK] Saved: frt000093be_07_if166j_mtr3 labelmap\n",
      "[OK] Saved: frt00008389_07_if166j_mtr3 labelmap\n",
      "[OK] Saved: frt000174f4_07_if166j_mtr3 labelmap\n",
      "[OK] Saved: frt0000bec0_07_if165j_mtr3 labelmap\n",
      "[OK] Saved: frt00011d4c_07_if166j_mtr3 labelmap\n",
      "[OK] Saved: hrl0000cc16_07_if184j_mtr3 labelmap\n",
      "[OK] Saved: frt0000c968_07_if166j_mtr3 labelmap\n",
      "[OK] Saved: hrs00011c01_07_if175j_mtr3 labelmap\n",
      "[OK] Saved: frt0000c62b_07_if166j_mtr3 labelmap\n",
      "[OK] Saved: frt00007bc8_07_if166j_mtr3 labelmap\n",
      "[OK] Saved: frt00017103_07_if165j_mtr3 labelmap\n",
      "[OK] Saved: frt00016655_07_if166j_mtr3 labelmap\n",
      "[OK] Saved: frt0001487a_07_if166j_mtr3 labelmap\n",
      "[OK] Saved: frt0001fd76_07_if166j_mtr3 labelmap\n",
      "[OK] Saved: frt00016ed6_07_if165j_mtr3 labelmap\n",
      "[OK] Saved: frt00023370_00_if166j_mtr3 labelmap\n",
      "[OK] Saved: frt00009c6a_07_if166j_mtr3 labelmap\n",
      "[OK] Saved: frt00024c1a_07_if165j_mtr3 labelmap\n",
      "[OK] Saved: frt00016a73_07_if166j_mtr3 labelmap\n",
      "All CNN labelmaps saved to: ../outputs/cnn_labelmaps\n"
     ]
    }
   ],
   "source": [
    "# rebuild labelmaps\n",
    "\n",
    "# paths\n",
    "preprocessed_dir = '../data/nili_fossae_preprocessed_spectra'\n",
    "output_dir = '../outputs/cnn_labelmaps'\n",
    "os.makedirs(output_dir, exist_ok=True)\n",
    "\n",
    "# get files\n",
    "test_ids = np.concatenate([np.load(cube_to_paths[cube][2]) for cube in test_cubes])\n",
    "\n",
    "\n",
    "# Reconstruct labelmaps\n",
    "offset = 0\n",
    "for cube in test_cubes:\n",
    "    index_path = os.path.join(preprocessed_dir, f'{cube}_indices.npy')\n",
    "    indices = np.load(index_path)\n",
    "    h, w = indices[:, 0].max()+1, indices[:, 1].max()+1\n",
    "    labelmap = np.full((h, w), -1, dtype=np.int16)\n",
    "\n",
    "    preds_slice = predictions[offset:offset + len(indices)]\n",
    "    for (r, c), label in zip(indices, preds_slice):\n",
    "        labelmap[r, c] = label\n",
    "\n",
    "    offset += len(indices)\n",
    "\n",
    "    # save\n",
    "    np.save(os.path.join(output_dir, f\"{cube}_cnn_labelmap.npy\"), labelmap)\n",
    "\n",
    "    # show PNG\n",
    "    plt.figure(figsize=(6, 6))\n",
    "    plt.imshow(labelmap, cmap='tab10', interpolation='nearest')\n",
    "    plt.axis('off')\n",
    "    plt.title(f\"{cube} - CNN\")\n",
    "    plt.tight_layout()\n",
    "    plt.savefig(os.path.join(output_dir, f\"{cube}_cnn_labelmap.png\"))\n",
    "    plt.close()\n",
    "\n",
    "    print(f\"[OK] Saved: {cube} labelmap\")\n",
    "\n",
    "print(\"All CNN labelmaps saved to:\", output_dir)\n"
   ]
  },
  {
   "cell_type": "code",
   "execution_count": null,
   "id": "6522409d-5e01-4f25-8728-9d454698672a",
   "metadata": {},
   "outputs": [],
   "source": []
  }
 ],
 "metadata": {
  "kernelspec": {
   "display_name": "Python (hyperenv)",
   "language": "python",
   "name": "hyperenv"
  },
  "language_info": {
   "codemirror_mode": {
    "name": "ipython",
    "version": 3
   },
   "file_extension": ".py",
   "mimetype": "text/x-python",
   "name": "python",
   "nbconvert_exporter": "python",
   "pygments_lexer": "ipython3",
   "version": "3.9.22"
  }
 },
 "nbformat": 4,
 "nbformat_minor": 5
}
