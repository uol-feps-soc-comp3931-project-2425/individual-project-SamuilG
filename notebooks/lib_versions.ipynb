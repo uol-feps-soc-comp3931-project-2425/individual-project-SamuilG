{
 "cells": [
  {
   "cell_type": "code",
   "execution_count": 2,
   "id": "7c708b38-fd1d-4de5-8ce3-008761a54bd6",
   "metadata": {},
   "outputs": [
    {
     "name": "stdout",
     "output_type": "stream",
     "text": [
      "os: builtin\n",
      "shutil: builtin\n",
      "spectral: 0.24\n",
      "numpy: 2.0.2\n",
      "matplotlib: 3.9.4\n",
      "glob: Filename globbing utility.\n",
      "sklearn: 1.6.1\n",
      "pandas: 2.2.3\n",
      "tqdm: 4.67.1\n",
      "torch: 2.6.0+cu118\n",
      "skimage: 0.24.0\n"
     ]
    }
   ],
   "source": [
    "import os\n",
    "import shutil\n",
    "import spectral\n",
    "import numpy as np\n",
    "import matplotlib\n",
    "import matplotlib.pyplot as plt\n",
    "import time\n",
    "import pathlib\n",
    "import glob\n",
    "import sklearn\n",
    "import concurrent.futures\n",
    "import datetime\n",
    "import pandas as pd\n",
    "import random\n",
    "import tqdm\n",
    "import torch\n",
    "import skimage\n",
    "\n",
    "# print versions\n",
    "print(\"os:\", os.__version__ if hasattr(os, '__version__') else \"builtin\")\n",
    "print(\"shutil:\", shutil.__version__ if hasattr(shutil, '__version__') else \"builtin\")\n",
    "print(\"spectral:\", spectral.__version__)\n",
    "print(\"numpy:\", np.__version__)\n",
    "print(\"matplotlib:\", matplotlib.__version__)\n",
    "# print(\"time:\", time.__doc__.splitlines()[0])  # no version, it's a built-in\n",
    "# print(\"pathlib:\", pathlib.__doc__.splitlines()[0])  # no version, built-in\n",
    "print(\"glob:\", glob.__doc__.splitlines()[0])  # no version, built-in\n",
    "print(\"sklearn:\", sklearn.__version__)\n",
    "# print(\"concurrent.futures:\", concurrent.futures.__doc__.splitlines()[0])  # no version, part of stdlib\n",
    "# print(\"datetime:\", datetime.__doc__.splitlines()[0])  # no version, built-in\n",
    "print(\"pandas:\", pd.__version__)\n",
    "# print(\"random:\", random.__doc__.splitlines()[0])  # no version, built-in\n",
    "print(\"tqdm:\", tqdm.__version__)\n",
    "print(\"torch:\", torch.__version__)\n",
    "print(\"skimage:\", skimage.__version__)\n"
   ]
  },
  {
   "cell_type": "code",
   "execution_count": null,
   "id": "3c5505b8-1126-4034-b2b0-b6ef81f2efee",
   "metadata": {},
   "outputs": [],
   "source": []
  }
 ],
 "metadata": {
  "kernelspec": {
   "display_name": "Python (hyperenv)",
   "language": "python",
   "name": "hyperenv"
  },
  "language_info": {
   "codemirror_mode": {
    "name": "ipython",
    "version": 3
   },
   "file_extension": ".py",
   "mimetype": "text/x-python",
   "name": "python",
   "nbconvert_exporter": "python",
   "pygments_lexer": "ipython3",
   "version": "3.9.22"
  }
 },
 "nbformat": 4,
 "nbformat_minor": 5
}
