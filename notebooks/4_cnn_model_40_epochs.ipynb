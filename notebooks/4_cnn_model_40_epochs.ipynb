{
 "cells": [
  {
   "cell_type": "code",
   "execution_count": 1,
   "id": "8e99945f-a37e-411c-89bf-6ab6b225c089",
   "metadata": {},
   "outputs": [],
   "source": [
    "# import core libraries and modules\n",
    "import torch\n",
    "import numpy as np\n",
    "import os\n",
    "import time\n",
    "from tqdm import tqdm\n",
    "import gc\n",
    "\n",
    "# import file and dataset utilities\n",
    "from glob import glob\n",
    "from torch.utils.data import Dataset, DataLoader\n",
    "\n",
    "# import model components and plotting tools\n",
    "import torch.nn as nn\n",
    "import torch.nn.functional as F\n",
    "import matplotlib.pyplot as plt"
   ]
  },
  {
   "cell_type": "code",
   "execution_count": 2,
   "id": "40d43952",
   "metadata": {},
   "outputs": [
    {
     "name": "stdout",
     "output_type": "stream",
     "text": [
      "Using: cuda\n",
      "CUDA is available. GPU: NVIDIA GeForce RTX 4070\n"
     ]
    }
   ],
   "source": [
    "device = torch.device(\"cuda\" if torch.cuda.is_available() else \"cpu\")\n",
    "print(\"Using:\", device)\n",
    "if device.type == 'cuda':\n",
    "    print(\"CUDA is available. GPU:\", torch.cuda.get_device_name(0))\n",
    "else:\n",
    "    print(\"CUDA not available. Using CPU.\")"
   ]
  },
  {
   "cell_type": "code",
   "execution_count": 3,
   "id": "cdd6a6fa",
   "metadata": {},
   "outputs": [
    {
     "name": "stdout",
     "output_type": "stream",
     "text": [
      "Found 137 cubes in chunked format.\n"
     ]
    }
   ],
   "source": [
    "# load cube split lists and paths\n",
    "\n",
    "# paths\n",
    "data_dir = '../results/stacked_k8_dataset'\n",
    "split_dir = '../results/split_k8_cube_lists'\n",
    "\n",
    "# load train, val, and test cube name lists\n",
    "train_cubes = np.load(os.path.join(split_dir, 'train_cubes.npy'))\n",
    "val_cubes   = np.load(os.path.join(split_dir, 'val_cubes.npy'))\n",
    "test_cubes  = np.load(os.path.join(split_dir, 'test_cubes.npy'))\n",
    "\n",
    "# find all chunked X, y, and id files\n",
    "X_paths = sorted(glob(os.path.join(data_dir, '*_X.npy')))\n",
    "y_paths = sorted(glob(os.path.join(data_dir, '*_y.npy')))\n",
    "id_paths = sorted(glob(os.path.join(data_dir, '*_ids.npy')))\n",
    "\n",
    "# group by cube\n",
    "cube_to_paths = {}\n",
    "for x_path, y_path, id_path in zip(X_paths, y_paths, id_paths):\n",
    "    cube = os.path.basename(x_path).replace('_X.npy', '')\n",
    "    cube_to_paths[cube] = (x_path, y_path, id_path)\n",
    "\n",
    "print(f\"Found {len(cube_to_paths)} cubes in chunked format.\")"
   ]
  },
  {
   "cell_type": "code",
   "execution_count": 4,
   "id": "c2119125-f934-4421-8ac0-e79b1c0f77eb",
   "metadata": {},
   "outputs": [],
   "source": [
    "# RAM-safe dataset class\n",
    "\n",
    "# dataset class that loads a fixed number of cubes fully into ram\n",
    "class CRISMDatasetSubsetRAM(Dataset):\n",
    "    def __init__(self, cube_names, cube_to_paths, max_cubes=None):\n",
    "        self.X_arrays = []\n",
    "        self.y_arrays = []\n",
    "        self.starts = []\n",
    "        count = 0\n",
    "\n",
    "        # load only the first max_cubes cubes fully into memory\n",
    "        selected_cubes = cube_names if max_cubes is None else cube_names[:max_cubes]\n",
    "        print(f\"[info] Loading {len(selected_cubes)} cubes into RAM...\")\n",
    "        \n",
    "        for i, cube in enumerate(selected_cubes, start=1):\n",
    "            x_path, y_path, _ = cube_to_paths[cube]\n",
    "            X = np.load(x_path)  # fully into memory\n",
    "            y = np.load(y_path)\n",
    "            print(f\"[{i}/{len(selected_cubes)}] [loaded] {cube}: {X.shape[0]} pixels\")\n",
    "\n",
    "            self.X_arrays.append(X)\n",
    "            self.y_arrays.append(y)\n",
    "            self.starts.append((count, count + len(y)))\n",
    "            count += len(y)\n",
    "\n",
    "        # total number of samples\n",
    "        self.total_len = count\n",
    "        print(f\"[OK] Total loaded samples: {self.total_len}\")\n",
    "\n",
    "    def __len__(self):\n",
    "        return self.total_len\n",
    "\n",
    "    def __getitem__(self, idx):\n",
    "        # locate which cube this index belongs to\n",
    "        for i, (start, end) in enumerate(self.starts):\n",
    "            if start <= idx < end:\n",
    "                local_idx = idx - start\n",
    "                X = self.X_arrays[i][local_idx]\n",
    "                y = self.y_arrays[i][local_idx]\n",
    "                return torch.tensor(X, dtype=torch.float32), torch.tensor(y, dtype=torch.long)\n",
    "        raise IndexError(\"[ERROR] Index out of bounds.\")"
   ]
  },
  {
   "cell_type": "code",
   "execution_count": 5,
   "id": "5b28021c-0adf-4f1a-b64a-0e53f1dc5980",
   "metadata": {},
   "outputs": [],
   "source": [
    "# model definition\n",
    "\n",
    "# simple 1d cnn for hyperspectral pixel classification\n",
    "class SpectralCNN(nn.Module):\n",
    "    def __init__(self, input_dim=469, num_classes=8):\n",
    "        super().__init__()\n",
    "        self.conv1 = nn.Conv1d(1, 16, kernel_size=5, padding=2)\n",
    "        self.conv2 = nn.Conv1d(16, 32, kernel_size=5, padding=2)\n",
    "        self.pool = nn.AdaptiveMaxPool1d(1)\n",
    "        self.fc = nn.Linear(32, num_classes)\n",
    "\n",
    "    def forward(self, x):\n",
    "        x = x.unsqueeze(1)        # reshape to [batch, 1, features]\n",
    "        x = F.relu(self.conv1(x)) # apply first conv layer\n",
    "        x = F.relu(self.conv2(x)) # apply second conv layer\n",
    "        x = self.pool(x)          # global max pool\n",
    "        x = x.squeeze(-1)         # flatten to [batch, 32]\n",
    "        return self.fc(x)         # final prediction logits"
   ]
  },
  {
   "cell_type": "code",
   "execution_count": 6,
   "id": "7cb26bc0-cac0-41d0-8037-a4fabe95e727",
   "metadata": {},
   "outputs": [
    {
     "name": "stdout",
     "output_type": "stream",
     "text": [
      "[info] Loading 28 cubes into RAM...\n",
      "[1/28] [loaded] frt0000a09c_07_if166j_mtr3: 239494 pixels\n",
      "[2/28] [loaded] hrl0001d976_07_if183j_mtr3: 97491 pixels\n",
      "[3/28] [loaded] hrl0000bdda_07_if183j_mtr3: 50921 pixels\n",
      "[4/28] [loaded] frt0001c558_07_if165j_mtr3: 88720 pixels\n",
      "[5/28] [loaded] frt00017b1b_07_if166j_mtr3: 34470 pixels\n",
      "[6/28] [loaded] frt000165f7_07_if166j_mtr3: 20378 pixels\n",
      "[7/28] [loaded] frt00020c77_07_if166j_mtr3: 78947 pixels\n",
      "[8/28] [loaded] frt0000bc1c_07_if166j_mtr3: 121553 pixels\n",
      "[9/28] [loaded] frt00017d42_07_if166j_mtr3: 11358 pixels\n",
      "[10/28] [loaded] frt000097e2_07_if166j_mtr3: 277231 pixels\n",
      "[11/28] [loaded] hrl00013fd3_07_if183j_mtr3: 83462 pixels\n",
      "[12/28] [loaded] frt000251c0_07_if165j_mtr3: 75669 pixels\n",
      "[13/28] [loaded] frt0001821c_07_if166j_mtr3: 27598 pixels\n",
      "[14/28] [loaded] frt0000805f_07_if166j_mtr3: 435657 pixels\n",
      "[15/28] [loaded] frt00005c5e_07_if166j_mtr3: 460247 pixels\n",
      "[16/28] [loaded] frt00003e12_07_if166j_mtr3: 444615 pixels\n",
      "[17/28] [loaded] frt0000a9be_07_if165j_mtr3: 197416 pixels\n",
      "[18/28] [loaded] hrl0001e20d_07_if183j_mtr3: 76532 pixels\n",
      "[19/28] [loaded] frt0001182a_07_if165j_mtr3: 293956 pixels\n",
      "[20/28] [loaded] hrl000040ff_07_if183j_mtr3: 127925 pixels\n",
      "[21/28] [loaded] frt0000b573_07_if166j_mtr3: 97557 pixels\n",
      "[22/28] [loaded] frt000091b2_07_if165j_mtr3: 329819 pixels\n",
      "[23/28] [loaded] hrs00011a2f_07_if175j_mtr3: 57085 pixels\n",
      "[24/28] [loaded] frt0000cbe5_07_if166j_mtr3: 147798 pixels\n",
      "[25/28] [loaded] hrl0000b8c2_07_if183j_mtr3: 55389 pixels\n",
      "[26/28] [loaded] frt0000871c_07_if166j_mtr3: 356291 pixels\n",
      "[27/28] [loaded] frt0000c256_07_if165j_mtr3: 195008 pixels\n",
      "[28/28] [loaded] frt000047a3_07_if166j_mtr3: 423865 pixels\n",
      "[OK] Total loaded samples: 4906452\n"
     ]
    }
   ],
   "source": [
    "# validation DataLoader\n",
    "\n",
    "val_ds = CRISMDatasetSubsetRAM(val_cubes, cube_to_paths, max_cubes=len(val_cubes))\n",
    "val_loader = DataLoader(val_ds, batch_size=40960, num_workers=18, pin_memory=True)"
   ]
  },
  {
   "cell_type": "code",
   "execution_count": 7,
   "id": "062e0d86-37c0-44e3-9a3a-48f2b4adccc9",
   "metadata": {
    "scrolled": true
   },
   "outputs": [
    {
     "name": "stdout",
     "output_type": "stream",
     "text": [
      "\n",
      " Training on cubes 0 to 11\n",
      "[info] Loading 12 cubes into RAM...\n",
      "[1/12] [loaded] frt00003584_07_if166j_mtr3: 427754 pixels\n",
      "[2/12] [loaded] hrl0000d0c7_07_if183j_mtr3: 152370 pixels\n",
      "[3/12] [loaded] frt0000a4b5_07_if167j_mtr3: 247912 pixels\n",
      "[4/12] [loaded] frt00023565_07_if166j_mtr3: 41770 pixels\n",
      "[5/12] [loaded] hrs0000b6a2_07_if176j_mtr3: 30724 pixels\n",
      "[6/12] [loaded] hrl000141d5_07_if183j_mtr3: 70534 pixels\n",
      "[7/12] [loaded] hrl00010eea_07_if183j_mtr3: 67812 pixels\n",
      "[8/12] [loaded] frt00018781_07_if165j_mtr3: 33302 pixels\n",
      "[9/12] [loaded] frt0001ecba_07_if166j_mtr3: 103203 pixels\n",
      "[10/12] [loaded] frt00018524_07_if166j_mtr3: 100869 pixels\n",
      "[11/12] [loaded] hrl00010d72_07_if183j_mtr3: 83983 pixels\n",
      "[12/12] [loaded] frt000066a4_07_if166j_mtr3: 269502 pixels\n",
      "[OK] Total loaded samples: 1629735\n"
     ]
    },
    {
     "name": "stderr",
     "output_type": "stream",
     "text": [
      "epoch 1 [train block 0]: 100%|██████████████████| 40/40 [00:14<00:00,  2.81it/s]\n"
     ]
    },
    {
     "name": "stdout",
     "output_type": "stream",
     "text": [
      "[OK] Block 0 | Epoch 1 | Loss: 79.35 | Val Acc: 0.2092 | Time: 27.2s\n",
      "[BEST] Epoch 1 | Val Acc: 0.2092\n"
     ]
    },
    {
     "name": "stderr",
     "output_type": "stream",
     "text": [
      "epoch 2 [train block 0]: 100%|██████████████████| 40/40 [00:09<00:00,  4.22it/s]\n"
     ]
    },
    {
     "name": "stdout",
     "output_type": "stream",
     "text": [
      "[OK] Block 0 | Epoch 2 | Loss: 77.01 | Val Acc: 0.2092 | Time: 22.0s\n"
     ]
    },
    {
     "name": "stderr",
     "output_type": "stream",
     "text": [
      "epoch 3 [train block 0]: 100%|██████████████████| 40/40 [00:08<00:00,  4.47it/s]\n"
     ]
    },
    {
     "name": "stdout",
     "output_type": "stream",
     "text": [
      "[OK] Block 0 | Epoch 3 | Loss: 76.34 | Val Acc: 0.2276 | Time: 21.3s\n",
      "[BEST] Epoch 3 | Val Acc: 0.2276\n"
     ]
    },
    {
     "name": "stderr",
     "output_type": "stream",
     "text": [
      "epoch 4 [train block 0]: 100%|██████████████████| 40/40 [00:09<00:00,  4.42it/s]\n"
     ]
    },
    {
     "name": "stdout",
     "output_type": "stream",
     "text": [
      "[OK] Block 0 | Epoch 4 | Loss: 74.29 | Val Acc: 0.2716 | Time: 21.6s\n",
      "[BEST] Epoch 4 | Val Acc: 0.2716\n"
     ]
    },
    {
     "name": "stderr",
     "output_type": "stream",
     "text": [
      "epoch 5 [train block 0]: 100%|██████████████████| 40/40 [00:09<00:00,  4.27it/s]\n"
     ]
    },
    {
     "name": "stdout",
     "output_type": "stream",
     "text": [
      "[OK] Block 0 | Epoch 5 | Loss: 69.81 | Val Acc: 0.2877 | Time: 21.7s\n",
      "[BEST] Epoch 5 | Val Acc: 0.2877\n"
     ]
    },
    {
     "name": "stderr",
     "output_type": "stream",
     "text": [
      "epoch 6 [train block 0]: 100%|██████████████████| 40/40 [00:09<00:00,  4.40it/s]\n"
     ]
    },
    {
     "name": "stdout",
     "output_type": "stream",
     "text": [
      "[OK] Block 0 | Epoch 6 | Loss: 64.29 | Val Acc: 0.3138 | Time: 21.7s\n",
      "[BEST] Epoch 6 | Val Acc: 0.3138\n"
     ]
    },
    {
     "name": "stderr",
     "output_type": "stream",
     "text": [
      "epoch 7 [train block 0]: 100%|██████████████████| 40/40 [00:09<00:00,  4.35it/s]\n"
     ]
    },
    {
     "name": "stdout",
     "output_type": "stream",
     "text": [
      "[OK] Block 0 | Epoch 7 | Loss: 59.73 | Val Acc: 0.3150 | Time: 21.6s\n",
      "[BEST] Epoch 7 | Val Acc: 0.3150\n"
     ]
    },
    {
     "name": "stderr",
     "output_type": "stream",
     "text": [
      "epoch 8 [train block 0]: 100%|██████████████████| 40/40 [00:09<00:00,  4.37it/s]\n"
     ]
    },
    {
     "name": "stdout",
     "output_type": "stream",
     "text": [
      "[OK] Block 0 | Epoch 8 | Loss: 55.88 | Val Acc: 0.3836 | Time: 21.5s\n",
      "[BEST] Epoch 8 | Val Acc: 0.3836\n"
     ]
    },
    {
     "name": "stderr",
     "output_type": "stream",
     "text": [
      "epoch 9 [train block 0]: 100%|██████████████████| 40/40 [00:09<00:00,  4.25it/s]\n"
     ]
    },
    {
     "name": "stdout",
     "output_type": "stream",
     "text": [
      "[OK] Block 0 | Epoch 9 | Loss: 51.98 | Val Acc: 0.4761 | Time: 21.9s\n",
      "[BEST] Epoch 9 | Val Acc: 0.4761\n"
     ]
    },
    {
     "name": "stderr",
     "output_type": "stream",
     "text": [
      "epoch 10 [train block 0]: 100%|█████████████████| 40/40 [00:08<00:00,  4.50it/s]\n"
     ]
    },
    {
     "name": "stdout",
     "output_type": "stream",
     "text": [
      "[OK] Block 0 | Epoch 10 | Loss: 47.97 | Val Acc: 0.4993 | Time: 21.5s\n",
      "[BEST] Epoch 10 | Val Acc: 0.4993\n"
     ]
    },
    {
     "name": "stderr",
     "output_type": "stream",
     "text": [
      "epoch 11 [train block 0]: 100%|█████████████████| 40/40 [00:09<00:00,  4.34it/s]\n"
     ]
    },
    {
     "name": "stdout",
     "output_type": "stream",
     "text": [
      "[OK] Block 0 | Epoch 11 | Loss: 44.11 | Val Acc: 0.5088 | Time: 22.0s\n",
      "[BEST] Epoch 11 | Val Acc: 0.5088\n"
     ]
    },
    {
     "name": "stderr",
     "output_type": "stream",
     "text": [
      "epoch 12 [train block 0]: 100%|█████████████████| 40/40 [00:09<00:00,  4.41it/s]\n"
     ]
    },
    {
     "name": "stdout",
     "output_type": "stream",
     "text": [
      "[OK] Block 0 | Epoch 12 | Loss: 40.64 | Val Acc: 0.5181 | Time: 21.6s\n",
      "[BEST] Epoch 12 | Val Acc: 0.5181\n"
     ]
    },
    {
     "name": "stderr",
     "output_type": "stream",
     "text": [
      "epoch 13 [train block 0]: 100%|█████████████████| 40/40 [00:09<00:00,  4.18it/s]\n"
     ]
    },
    {
     "name": "stdout",
     "output_type": "stream",
     "text": [
      "[OK] Block 0 | Epoch 13 | Loss: 37.61 | Val Acc: 0.5317 | Time: 22.2s\n",
      "[BEST] Epoch 13 | Val Acc: 0.5317\n"
     ]
    },
    {
     "name": "stderr",
     "output_type": "stream",
     "text": [
      "epoch 14 [train block 0]: 100%|█████████████████| 40/40 [00:09<00:00,  4.40it/s]\n"
     ]
    },
    {
     "name": "stdout",
     "output_type": "stream",
     "text": [
      "[OK] Block 0 | Epoch 14 | Loss: 35.02 | Val Acc: 0.5424 | Time: 21.3s\n",
      "[BEST] Epoch 14 | Val Acc: 0.5424\n"
     ]
    },
    {
     "name": "stderr",
     "output_type": "stream",
     "text": [
      "epoch 15 [train block 0]: 100%|█████████████████| 40/40 [00:09<00:00,  4.36it/s]\n"
     ]
    },
    {
     "name": "stdout",
     "output_type": "stream",
     "text": [
      "[OK] Block 0 | Epoch 15 | Loss: 32.79 | Val Acc: 0.5555 | Time: 21.5s\n",
      "[BEST] Epoch 15 | Val Acc: 0.5555\n"
     ]
    },
    {
     "name": "stderr",
     "output_type": "stream",
     "text": [
      "epoch 16 [train block 0]: 100%|█████████████████| 40/40 [00:09<00:00,  4.39it/s]\n"
     ]
    },
    {
     "name": "stdout",
     "output_type": "stream",
     "text": [
      "[OK] Block 0 | Epoch 16 | Loss: 30.87 | Val Acc: 0.5697 | Time: 21.3s\n",
      "[BEST] Epoch 16 | Val Acc: 0.5697\n"
     ]
    },
    {
     "name": "stderr",
     "output_type": "stream",
     "text": [
      "epoch 17 [train block 0]: 100%|█████████████████| 40/40 [00:09<00:00,  4.25it/s]\n"
     ]
    },
    {
     "name": "stdout",
     "output_type": "stream",
     "text": [
      "[OK] Block 0 | Epoch 17 | Loss: 29.15 | Val Acc: 0.5817 | Time: 21.9s\n",
      "[BEST] Epoch 17 | Val Acc: 0.5817\n"
     ]
    },
    {
     "name": "stderr",
     "output_type": "stream",
     "text": [
      "epoch 18 [train block 0]: 100%|█████████████████| 40/40 [00:08<00:00,  4.48it/s]\n"
     ]
    },
    {
     "name": "stdout",
     "output_type": "stream",
     "text": [
      "[OK] Block 0 | Epoch 18 | Loss: 27.67 | Val Acc: 0.5906 | Time: 21.3s\n",
      "[BEST] Epoch 18 | Val Acc: 0.5906\n"
     ]
    },
    {
     "name": "stderr",
     "output_type": "stream",
     "text": [
      "epoch 19 [train block 0]: 100%|█████████████████| 40/40 [00:09<00:00,  4.40it/s]\n"
     ]
    },
    {
     "name": "stdout",
     "output_type": "stream",
     "text": [
      "[OK] Block 0 | Epoch 19 | Loss: 26.40 | Val Acc: 0.6033 | Time: 21.1s\n",
      "[BEST] Epoch 19 | Val Acc: 0.6033\n"
     ]
    },
    {
     "name": "stderr",
     "output_type": "stream",
     "text": [
      "epoch 20 [train block 0]: 100%|█████████████████| 40/40 [00:09<00:00,  4.31it/s]\n"
     ]
    },
    {
     "name": "stdout",
     "output_type": "stream",
     "text": [
      "[OK] Block 0 | Epoch 20 | Loss: 25.29 | Val Acc: 0.6140 | Time: 21.7s\n",
      "[BEST] Epoch 20 | Val Acc: 0.6140\n"
     ]
    },
    {
     "name": "stderr",
     "output_type": "stream",
     "text": [
      "epoch 21 [train block 0]: 100%|█████████████████| 40/40 [00:09<00:00,  4.44it/s]\n"
     ]
    },
    {
     "name": "stdout",
     "output_type": "stream",
     "text": [
      "[OK] Block 0 | Epoch 21 | Loss: 24.34 | Val Acc: 0.6253 | Time: 21.5s\n",
      "[BEST] Epoch 21 | Val Acc: 0.6253\n"
     ]
    },
    {
     "name": "stderr",
     "output_type": "stream",
     "text": [
      "epoch 22 [train block 0]: 100%|█████████████████| 40/40 [00:08<00:00,  4.48it/s]\n"
     ]
    },
    {
     "name": "stdout",
     "output_type": "stream",
     "text": [
      "[OK] Block 0 | Epoch 22 | Loss: 23.51 | Val Acc: 0.6337 | Time: 21.2s\n",
      "[BEST] Epoch 22 | Val Acc: 0.6337\n"
     ]
    },
    {
     "name": "stderr",
     "output_type": "stream",
     "text": [
      "epoch 23 [train block 0]: 100%|█████████████████| 40/40 [00:08<00:00,  4.48it/s]\n"
     ]
    },
    {
     "name": "stdout",
     "output_type": "stream",
     "text": [
      "[OK] Block 0 | Epoch 23 | Loss: 22.78 | Val Acc: 0.6486 | Time: 21.4s\n",
      "[BEST] Epoch 23 | Val Acc: 0.6486\n"
     ]
    },
    {
     "name": "stderr",
     "output_type": "stream",
     "text": [
      "epoch 24 [train block 0]: 100%|█████████████████| 40/40 [00:08<00:00,  4.46it/s]\n"
     ]
    },
    {
     "name": "stdout",
     "output_type": "stream",
     "text": [
      "[OK] Block 0 | Epoch 24 | Loss: 22.13 | Val Acc: 0.6575 | Time: 21.4s\n",
      "[BEST] Epoch 24 | Val Acc: 0.6575\n"
     ]
    },
    {
     "name": "stderr",
     "output_type": "stream",
     "text": [
      "epoch 25 [train block 0]: 100%|█████████████████| 40/40 [00:08<00:00,  4.46it/s]\n"
     ]
    },
    {
     "name": "stdout",
     "output_type": "stream",
     "text": [
      "[OK] Block 0 | Epoch 25 | Loss: 21.55 | Val Acc: 0.6659 | Time: 21.4s\n",
      "[BEST] Epoch 25 | Val Acc: 0.6659\n"
     ]
    },
    {
     "name": "stderr",
     "output_type": "stream",
     "text": [
      "epoch 26 [train block 0]: 100%|█████████████████| 40/40 [00:08<00:00,  4.46it/s]\n"
     ]
    },
    {
     "name": "stdout",
     "output_type": "stream",
     "text": [
      "[OK] Block 0 | Epoch 26 | Loss: 21.03 | Val Acc: 0.6760 | Time: 21.5s\n",
      "[BEST] Epoch 26 | Val Acc: 0.6760\n"
     ]
    },
    {
     "name": "stderr",
     "output_type": "stream",
     "text": [
      "epoch 27 [train block 0]: 100%|█████████████████| 40/40 [00:09<00:00,  4.33it/s]\n"
     ]
    },
    {
     "name": "stdout",
     "output_type": "stream",
     "text": [
      "[OK] Block 0 | Epoch 27 | Loss: 20.54 | Val Acc: 0.6910 | Time: 21.4s\n",
      "[BEST] Epoch 27 | Val Acc: 0.6910\n"
     ]
    },
    {
     "name": "stderr",
     "output_type": "stream",
     "text": [
      "epoch 28 [train block 0]: 100%|█████████████████| 40/40 [00:09<00:00,  4.35it/s]\n"
     ]
    },
    {
     "name": "stdout",
     "output_type": "stream",
     "text": [
      "[OK] Block 0 | Epoch 28 | Loss: 20.10 | Val Acc: 0.6993 | Time: 21.3s\n",
      "[BEST] Epoch 28 | Val Acc: 0.6993\n"
     ]
    },
    {
     "name": "stderr",
     "output_type": "stream",
     "text": [
      "epoch 29 [train block 0]: 100%|█████████████████| 40/40 [00:08<00:00,  4.46it/s]\n"
     ]
    },
    {
     "name": "stdout",
     "output_type": "stream",
     "text": [
      "[OK] Block 0 | Epoch 29 | Loss: 19.68 | Val Acc: 0.7182 | Time: 21.0s\n",
      "[BEST] Epoch 29 | Val Acc: 0.7182\n"
     ]
    },
    {
     "name": "stderr",
     "output_type": "stream",
     "text": [
      "epoch 30 [train block 0]: 100%|█████████████████| 40/40 [00:09<00:00,  4.42it/s]\n"
     ]
    },
    {
     "name": "stdout",
     "output_type": "stream",
     "text": [
      "[OK] Block 0 | Epoch 30 | Loss: 19.30 | Val Acc: 0.7257 | Time: 21.3s\n",
      "[BEST] Epoch 30 | Val Acc: 0.7257\n"
     ]
    },
    {
     "name": "stderr",
     "output_type": "stream",
     "text": [
      "epoch 31 [train block 0]: 100%|█████████████████| 40/40 [00:09<00:00,  4.29it/s]\n"
     ]
    },
    {
     "name": "stdout",
     "output_type": "stream",
     "text": [
      "[OK] Block 0 | Epoch 31 | Loss: 18.93 | Val Acc: 0.7463 | Time: 21.6s\n",
      "[BEST] Epoch 31 | Val Acc: 0.7463\n"
     ]
    },
    {
     "name": "stderr",
     "output_type": "stream",
     "text": [
      "epoch 32 [train block 0]: 100%|█████████████████| 40/40 [00:09<00:00,  4.29it/s]\n"
     ]
    },
    {
     "name": "stdout",
     "output_type": "stream",
     "text": [
      "[OK] Block 0 | Epoch 32 | Loss: 18.59 | Val Acc: 0.7641 | Time: 21.7s\n",
      "[BEST] Epoch 32 | Val Acc: 0.7641\n"
     ]
    },
    {
     "name": "stderr",
     "output_type": "stream",
     "text": [
      "epoch 33 [train block 0]: 100%|█████████████████| 40/40 [00:08<00:00,  4.49it/s]\n"
     ]
    },
    {
     "name": "stdout",
     "output_type": "stream",
     "text": [
      "[OK] Block 0 | Epoch 33 | Loss: 18.26 | Val Acc: 0.7682 | Time: 21.2s\n",
      "[BEST] Epoch 33 | Val Acc: 0.7682\n"
     ]
    },
    {
     "name": "stderr",
     "output_type": "stream",
     "text": [
      "epoch 34 [train block 0]: 100%|█████████████████| 40/40 [00:09<00:00,  4.26it/s]\n"
     ]
    },
    {
     "name": "stdout",
     "output_type": "stream",
     "text": [
      "[OK] Block 0 | Epoch 34 | Loss: 17.94 | Val Acc: 0.7818 | Time: 21.5s\n",
      "[BEST] Epoch 34 | Val Acc: 0.7818\n"
     ]
    },
    {
     "name": "stderr",
     "output_type": "stream",
     "text": [
      "epoch 35 [train block 0]: 100%|█████████████████| 40/40 [00:09<00:00,  4.42it/s]\n"
     ]
    },
    {
     "name": "stdout",
     "output_type": "stream",
     "text": [
      "[OK] Block 0 | Epoch 35 | Loss: 17.65 | Val Acc: 0.7918 | Time: 21.7s\n",
      "[BEST] Epoch 35 | Val Acc: 0.7918\n"
     ]
    },
    {
     "name": "stderr",
     "output_type": "stream",
     "text": [
      "epoch 36 [train block 0]: 100%|█████████████████| 40/40 [00:09<00:00,  4.37it/s]\n"
     ]
    },
    {
     "name": "stdout",
     "output_type": "stream",
     "text": [
      "[OK] Block 0 | Epoch 36 | Loss: 17.39 | Val Acc: 0.8031 | Time: 21.6s\n",
      "[BEST] Epoch 36 | Val Acc: 0.8031\n"
     ]
    },
    {
     "name": "stderr",
     "output_type": "stream",
     "text": [
      "epoch 37 [train block 0]: 100%|█████████████████| 40/40 [00:08<00:00,  4.54it/s]\n"
     ]
    },
    {
     "name": "stdout",
     "output_type": "stream",
     "text": [
      "[OK] Block 0 | Epoch 37 | Loss: 17.14 | Val Acc: 0.8053 | Time: 21.2s\n",
      "[BEST] Epoch 37 | Val Acc: 0.8053\n"
     ]
    },
    {
     "name": "stderr",
     "output_type": "stream",
     "text": [
      "epoch 38 [train block 0]: 100%|█████████████████| 40/40 [00:09<00:00,  4.39it/s]\n"
     ]
    },
    {
     "name": "stdout",
     "output_type": "stream",
     "text": [
      "[OK] Block 0 | Epoch 38 | Loss: 16.91 | Val Acc: 0.8129 | Time: 21.5s\n",
      "[BEST] Epoch 38 | Val Acc: 0.8129\n"
     ]
    },
    {
     "name": "stderr",
     "output_type": "stream",
     "text": [
      "epoch 39 [train block 0]: 100%|█████████████████| 40/40 [00:08<00:00,  4.48it/s]\n"
     ]
    },
    {
     "name": "stdout",
     "output_type": "stream",
     "text": [
      "[OK] Block 0 | Epoch 39 | Loss: 16.70 | Val Acc: 0.8148 | Time: 21.3s\n",
      "[BEST] Epoch 39 | Val Acc: 0.8148\n"
     ]
    },
    {
     "name": "stderr",
     "output_type": "stream",
     "text": [
      "epoch 40 [train block 0]: 100%|█████████████████| 40/40 [00:09<00:00,  4.34it/s]\n"
     ]
    },
    {
     "name": "stdout",
     "output_type": "stream",
     "text": [
      "[OK] Block 0 | Epoch 40 | Loss: 16.51 | Val Acc: 0.8219 | Time: 21.6s\n",
      "[BEST] Epoch 40 | Val Acc: 0.8219\n",
      "[OK] Best model for block 0 reached Val Acc: 0.8219\n",
      "[GLOBAL BEST] Block 0 | Val Acc: 0.8219\n",
      "[OK] Block 0 completed in 866.0s\n",
      "\n",
      " Training on cubes 12 to 23\n",
      "[info] Loading 12 cubes into RAM...\n",
      "[1/12] [loaded] frt0000857f_07_if166j_mtr3: 375967 pixels\n",
      "[2/12] [loaded] frt00004f75_07_if166j_mtr3: 1824202 pixels\n",
      "[3/12] [loaded] frt0000b012_07_if166j_mtr3: 128257 pixels\n",
      "[4/12] [loaded] frt00009971_07_if166j_mtr3: 286107 pixels\n",
      "[5/12] [loaded] frt000199c7_07_if166j_mtr3: 80692 pixels\n",
      "[6/12] [loaded] frt000064d9_07_if166j_mtr3: 442443 pixels\n",
      "[7/12] [loaded] hrl00011a72_07_if183j_mtr3: 192873 pixels\n",
      "[8/12] [loaded] frt00019daa_07_if165j_mtr3: 68573 pixels\n",
      "[9/12] [loaded] frt0000b072_07_if166j_mtr3: 144528 pixels\n",
      "[10/12] [loaded] frt000203de_07_if165j_mtr3: 163778 pixels\n",
      "[11/12] [loaded] frt000128d0_07_if165j_mtr3: 217017 pixels\n",
      "[12/12] [loaded] hrl0001fc92_07_if182j_mtr3: 78785 pixels\n",
      "[OK] Total loaded samples: 4003222\n"
     ]
    },
    {
     "name": "stderr",
     "output_type": "stream",
     "text": [
      "epoch 1 [train block 12]: 100%|█████████████████| 98/98 [00:21<00:00,  4.58it/s]\n"
     ]
    },
    {
     "name": "stdout",
     "output_type": "stream",
     "text": [
      "[OK] Block 12 | Epoch 1 | Loss: 32.07 | Val Acc: 0.8362 | Time: 33.9s\n",
      "[BEST] Epoch 1 | Val Acc: 0.8362\n"
     ]
    },
    {
     "name": "stderr",
     "output_type": "stream",
     "text": [
      "epoch 2 [train block 12]: 100%|█████████████████| 98/98 [00:20<00:00,  4.69it/s]\n"
     ]
    },
    {
     "name": "stdout",
     "output_type": "stream",
     "text": [
      "[OK] Block 12 | Epoch 2 | Loss: 27.11 | Val Acc: 0.8456 | Time: 33.9s\n",
      "[BEST] Epoch 2 | Val Acc: 0.8456\n"
     ]
    },
    {
     "name": "stderr",
     "output_type": "stream",
     "text": [
      "epoch 3 [train block 12]: 100%|█████████████████| 98/98 [00:20<00:00,  4.69it/s]\n"
     ]
    },
    {
     "name": "stdout",
     "output_type": "stream",
     "text": [
      "[OK] Block 12 | Epoch 3 | Loss: 25.40 | Val Acc: 0.8458 | Time: 33.7s\n",
      "[BEST] Epoch 3 | Val Acc: 0.8458\n"
     ]
    },
    {
     "name": "stderr",
     "output_type": "stream",
     "text": [
      "epoch 4 [train block 12]: 100%|█████████████████| 98/98 [00:20<00:00,  4.75it/s]\n"
     ]
    },
    {
     "name": "stdout",
     "output_type": "stream",
     "text": [
      "[OK] Block 12 | Epoch 4 | Loss: 24.27 | Val Acc: 0.8443 | Time: 34.0s\n"
     ]
    },
    {
     "name": "stderr",
     "output_type": "stream",
     "text": [
      "epoch 5 [train block 12]: 100%|█████████████████| 98/98 [00:21<00:00,  4.66it/s]\n"
     ]
    },
    {
     "name": "stdout",
     "output_type": "stream",
     "text": [
      "[OK] Block 12 | Epoch 5 | Loss: 23.47 | Val Acc: 0.8436 | Time: 34.1s\n"
     ]
    },
    {
     "name": "stderr",
     "output_type": "stream",
     "text": [
      "epoch 6 [train block 12]: 100%|█████████████████| 98/98 [00:21<00:00,  4.64it/s]\n"
     ]
    },
    {
     "name": "stdout",
     "output_type": "stream",
     "text": [
      "[OK] Block 12 | Epoch 6 | Loss: 22.82 | Val Acc: 0.8436 | Time: 33.7s\n"
     ]
    },
    {
     "name": "stderr",
     "output_type": "stream",
     "text": [
      "epoch 7 [train block 12]: 100%|█████████████████| 98/98 [00:20<00:00,  4.72it/s]\n"
     ]
    },
    {
     "name": "stdout",
     "output_type": "stream",
     "text": [
      "[OK] Block 12 | Epoch 7 | Loss: 22.29 | Val Acc: 0.8423 | Time: 33.6s\n"
     ]
    },
    {
     "name": "stderr",
     "output_type": "stream",
     "text": [
      "epoch 8 [train block 12]: 100%|█████████████████| 98/98 [00:21<00:00,  4.65it/s]\n"
     ]
    },
    {
     "name": "stdout",
     "output_type": "stream",
     "text": [
      "[OK] Block 12 | Epoch 8 | Loss: 21.83 | Val Acc: 0.8417 | Time: 34.1s\n"
     ]
    },
    {
     "name": "stderr",
     "output_type": "stream",
     "text": [
      "epoch 9 [train block 12]: 100%|█████████████████| 98/98 [00:21<00:00,  4.66it/s]\n"
     ]
    },
    {
     "name": "stdout",
     "output_type": "stream",
     "text": [
      "[OK] Block 12 | Epoch 9 | Loss: 21.44 | Val Acc: 0.8396 | Time: 34.0s\n"
     ]
    },
    {
     "name": "stderr",
     "output_type": "stream",
     "text": [
      "epoch 10 [train block 12]: 100%|████████████████| 98/98 [00:21<00:00,  4.64it/s]\n"
     ]
    },
    {
     "name": "stdout",
     "output_type": "stream",
     "text": [
      "[OK] Block 12 | Epoch 10 | Loss: 21.11 | Val Acc: 0.8394 | Time: 34.0s\n"
     ]
    },
    {
     "name": "stderr",
     "output_type": "stream",
     "text": [
      "epoch 11 [train block 12]: 100%|████████████████| 98/98 [00:20<00:00,  4.73it/s]\n"
     ]
    },
    {
     "name": "stdout",
     "output_type": "stream",
     "text": [
      "[OK] Block 12 | Epoch 11 | Loss: 20.82 | Val Acc: 0.8391 | Time: 33.5s\n"
     ]
    },
    {
     "name": "stderr",
     "output_type": "stream",
     "text": [
      "epoch 12 [train block 12]: 100%|████████████████| 98/98 [00:20<00:00,  4.75it/s]\n"
     ]
    },
    {
     "name": "stdout",
     "output_type": "stream",
     "text": [
      "[OK] Block 12 | Epoch 12 | Loss: 20.57 | Val Acc: 0.8385 | Time: 33.6s\n"
     ]
    },
    {
     "name": "stderr",
     "output_type": "stream",
     "text": [
      "epoch 13 [train block 12]: 100%|████████████████| 98/98 [00:21<00:00,  4.67it/s]\n"
     ]
    },
    {
     "name": "stdout",
     "output_type": "stream",
     "text": [
      "[OK] Block 12 | Epoch 13 | Loss: 20.34 | Val Acc: 0.8395 | Time: 34.2s\n"
     ]
    },
    {
     "name": "stderr",
     "output_type": "stream",
     "text": [
      "epoch 14 [train block 12]: 100%|████████████████| 98/98 [00:20<00:00,  4.71it/s]\n"
     ]
    },
    {
     "name": "stdout",
     "output_type": "stream",
     "text": [
      "[OK] Block 12 | Epoch 14 | Loss: 20.11 | Val Acc: 0.8413 | Time: 33.5s\n"
     ]
    },
    {
     "name": "stderr",
     "output_type": "stream",
     "text": [
      "epoch 15 [train block 12]: 100%|████████████████| 98/98 [00:20<00:00,  4.68it/s]\n"
     ]
    },
    {
     "name": "stdout",
     "output_type": "stream",
     "text": [
      "[OK] Block 12 | Epoch 15 | Loss: 19.89 | Val Acc: 0.8401 | Time: 34.1s\n"
     ]
    },
    {
     "name": "stderr",
     "output_type": "stream",
     "text": [
      "epoch 16 [train block 12]: 100%|████████████████| 98/98 [00:20<00:00,  4.68it/s]\n"
     ]
    },
    {
     "name": "stdout",
     "output_type": "stream",
     "text": [
      "[OK] Block 12 | Epoch 16 | Loss: 19.70 | Val Acc: 0.8401 | Time: 34.0s\n"
     ]
    },
    {
     "name": "stderr",
     "output_type": "stream",
     "text": [
      "epoch 17 [train block 12]: 100%|████████████████| 98/98 [00:20<00:00,  4.73it/s]\n"
     ]
    },
    {
     "name": "stdout",
     "output_type": "stream",
     "text": [
      "[OK] Block 12 | Epoch 17 | Loss: 19.53 | Val Acc: 0.8389 | Time: 33.8s\n"
     ]
    },
    {
     "name": "stderr",
     "output_type": "stream",
     "text": [
      "epoch 18 [train block 12]: 100%|████████████████| 98/98 [00:21<00:00,  4.64it/s]\n"
     ]
    },
    {
     "name": "stdout",
     "output_type": "stream",
     "text": [
      "[OK] Block 12 | Epoch 18 | Loss: 19.38 | Val Acc: 0.8385 | Time: 34.3s\n"
     ]
    },
    {
     "name": "stderr",
     "output_type": "stream",
     "text": [
      "epoch 19 [train block 12]: 100%|████████████████| 98/98 [00:20<00:00,  4.73it/s]\n"
     ]
    },
    {
     "name": "stdout",
     "output_type": "stream",
     "text": [
      "[OK] Block 12 | Epoch 19 | Loss: 19.23 | Val Acc: 0.8377 | Time: 33.5s\n"
     ]
    },
    {
     "name": "stderr",
     "output_type": "stream",
     "text": [
      "epoch 20 [train block 12]: 100%|████████████████| 98/98 [00:21<00:00,  4.60it/s]\n"
     ]
    },
    {
     "name": "stdout",
     "output_type": "stream",
     "text": [
      "[OK] Block 12 | Epoch 20 | Loss: 19.11 | Val Acc: 0.8382 | Time: 34.7s\n"
     ]
    },
    {
     "name": "stderr",
     "output_type": "stream",
     "text": [
      "epoch 21 [train block 12]: 100%|████████████████| 98/98 [00:21<00:00,  4.65it/s]\n"
     ]
    },
    {
     "name": "stdout",
     "output_type": "stream",
     "text": [
      "[OK] Block 12 | Epoch 21 | Loss: 18.98 | Val Acc: 0.8387 | Time: 34.2s\n"
     ]
    },
    {
     "name": "stderr",
     "output_type": "stream",
     "text": [
      "epoch 22 [train block 12]: 100%|████████████████| 98/98 [00:20<00:00,  4.71it/s]\n"
     ]
    },
    {
     "name": "stdout",
     "output_type": "stream",
     "text": [
      "[OK] Block 12 | Epoch 22 | Loss: 18.88 | Val Acc: 0.8387 | Time: 34.0s\n"
     ]
    },
    {
     "name": "stderr",
     "output_type": "stream",
     "text": [
      "epoch 23 [train block 12]: 100%|████████████████| 98/98 [00:21<00:00,  4.61it/s]\n"
     ]
    },
    {
     "name": "stdout",
     "output_type": "stream",
     "text": [
      "[OK] Block 12 | Epoch 23 | Loss: 18.78 | Val Acc: 0.8381 | Time: 34.5s\n"
     ]
    },
    {
     "name": "stderr",
     "output_type": "stream",
     "text": [
      "epoch 24 [train block 12]: 100%|████████████████| 98/98 [00:21<00:00,  4.62it/s]\n"
     ]
    },
    {
     "name": "stdout",
     "output_type": "stream",
     "text": [
      "[OK] Block 12 | Epoch 24 | Loss: 18.68 | Val Acc: 0.8385 | Time: 34.5s\n"
     ]
    },
    {
     "name": "stderr",
     "output_type": "stream",
     "text": [
      "epoch 25 [train block 12]: 100%|████████████████| 98/98 [00:21<00:00,  4.55it/s]\n"
     ]
    },
    {
     "name": "stdout",
     "output_type": "stream",
     "text": [
      "[OK] Block 12 | Epoch 25 | Loss: 18.60 | Val Acc: 0.8386 | Time: 34.6s\n"
     ]
    },
    {
     "name": "stderr",
     "output_type": "stream",
     "text": [
      "epoch 26 [train block 12]: 100%|████████████████| 98/98 [00:21<00:00,  4.63it/s]\n"
     ]
    },
    {
     "name": "stdout",
     "output_type": "stream",
     "text": [
      "[OK] Block 12 | Epoch 26 | Loss: 18.50 | Val Acc: 0.8392 | Time: 34.6s\n"
     ]
    },
    {
     "name": "stderr",
     "output_type": "stream",
     "text": [
      "epoch 27 [train block 12]: 100%|████████████████| 98/98 [00:21<00:00,  4.58it/s]\n"
     ]
    },
    {
     "name": "stdout",
     "output_type": "stream",
     "text": [
      "[OK] Block 12 | Epoch 27 | Loss: 18.41 | Val Acc: 0.8394 | Time: 34.7s\n"
     ]
    },
    {
     "name": "stderr",
     "output_type": "stream",
     "text": [
      "epoch 28 [train block 12]: 100%|████████████████| 98/98 [00:21<00:00,  4.61it/s]\n"
     ]
    },
    {
     "name": "stdout",
     "output_type": "stream",
     "text": [
      "[OK] Block 12 | Epoch 28 | Loss: 18.32 | Val Acc: 0.8397 | Time: 34.6s\n"
     ]
    },
    {
     "name": "stderr",
     "output_type": "stream",
     "text": [
      "epoch 29 [train block 12]: 100%|████████████████| 98/98 [00:21<00:00,  4.60it/s]\n"
     ]
    },
    {
     "name": "stdout",
     "output_type": "stream",
     "text": [
      "[OK] Block 12 | Epoch 29 | Loss: 18.24 | Val Acc: 0.8387 | Time: 34.3s\n"
     ]
    },
    {
     "name": "stderr",
     "output_type": "stream",
     "text": [
      "epoch 30 [train block 12]: 100%|████████████████| 98/98 [00:21<00:00,  4.59it/s]\n"
     ]
    },
    {
     "name": "stdout",
     "output_type": "stream",
     "text": [
      "[OK] Block 12 | Epoch 30 | Loss: 18.15 | Val Acc: 0.8405 | Time: 34.6s\n"
     ]
    },
    {
     "name": "stderr",
     "output_type": "stream",
     "text": [
      "epoch 31 [train block 12]: 100%|████████████████| 98/98 [00:21<00:00,  4.60it/s]\n"
     ]
    },
    {
     "name": "stdout",
     "output_type": "stream",
     "text": [
      "[OK] Block 12 | Epoch 31 | Loss: 18.08 | Val Acc: 0.8396 | Time: 34.2s\n"
     ]
    },
    {
     "name": "stderr",
     "output_type": "stream",
     "text": [
      "epoch 32 [train block 12]: 100%|████████████████| 98/98 [00:21<00:00,  4.56it/s]\n"
     ]
    },
    {
     "name": "stdout",
     "output_type": "stream",
     "text": [
      "[OK] Block 12 | Epoch 32 | Loss: 18.01 | Val Acc: 0.8399 | Time: 34.7s\n"
     ]
    },
    {
     "name": "stderr",
     "output_type": "stream",
     "text": [
      "epoch 33 [train block 12]: 100%|████████████████| 98/98 [00:21<00:00,  4.63it/s]\n"
     ]
    },
    {
     "name": "stdout",
     "output_type": "stream",
     "text": [
      "[OK] Block 12 | Epoch 33 | Loss: 17.94 | Val Acc: 0.8398 | Time: 34.5s\n"
     ]
    },
    {
     "name": "stderr",
     "output_type": "stream",
     "text": [
      "epoch 34 [train block 12]: 100%|████████████████| 98/98 [00:21<00:00,  4.57it/s]\n"
     ]
    },
    {
     "name": "stdout",
     "output_type": "stream",
     "text": [
      "[OK] Block 12 | Epoch 34 | Loss: 17.86 | Val Acc: 0.8409 | Time: 34.8s\n"
     ]
    },
    {
     "name": "stderr",
     "output_type": "stream",
     "text": [
      "epoch 35 [train block 12]: 100%|████████████████| 98/98 [00:21<00:00,  4.61it/s]\n"
     ]
    },
    {
     "name": "stdout",
     "output_type": "stream",
     "text": [
      "[OK] Block 12 | Epoch 35 | Loss: 17.78 | Val Acc: 0.8402 | Time: 34.5s\n"
     ]
    },
    {
     "name": "stderr",
     "output_type": "stream",
     "text": [
      "epoch 36 [train block 12]: 100%|████████████████| 98/98 [00:21<00:00,  4.63it/s]\n"
     ]
    },
    {
     "name": "stdout",
     "output_type": "stream",
     "text": [
      "[OK] Block 12 | Epoch 36 | Loss: 17.72 | Val Acc: 0.8395 | Time: 34.7s\n"
     ]
    },
    {
     "name": "stderr",
     "output_type": "stream",
     "text": [
      "epoch 37 [train block 12]: 100%|████████████████| 98/98 [00:21<00:00,  4.60it/s]\n"
     ]
    },
    {
     "name": "stdout",
     "output_type": "stream",
     "text": [
      "[OK] Block 12 | Epoch 37 | Loss: 17.65 | Val Acc: 0.8393 | Time: 34.6s\n"
     ]
    },
    {
     "name": "stderr",
     "output_type": "stream",
     "text": [
      "epoch 38 [train block 12]: 100%|████████████████| 98/98 [00:20<00:00,  4.69it/s]\n"
     ]
    },
    {
     "name": "stdout",
     "output_type": "stream",
     "text": [
      "[OK] Block 12 | Epoch 38 | Loss: 17.58 | Val Acc: 0.8411 | Time: 34.0s\n"
     ]
    },
    {
     "name": "stderr",
     "output_type": "stream",
     "text": [
      "epoch 39 [train block 12]: 100%|████████████████| 98/98 [00:21<00:00,  4.64it/s]\n"
     ]
    },
    {
     "name": "stdout",
     "output_type": "stream",
     "text": [
      "[OK] Block 12 | Epoch 39 | Loss: 17.50 | Val Acc: 0.8410 | Time: 34.4s\n"
     ]
    },
    {
     "name": "stderr",
     "output_type": "stream",
     "text": [
      "epoch 40 [train block 12]: 100%|████████████████| 98/98 [00:21<00:00,  4.63it/s]\n"
     ]
    },
    {
     "name": "stdout",
     "output_type": "stream",
     "text": [
      "[OK] Block 12 | Epoch 40 | Loss: 17.43 | Val Acc: 0.8422 | Time: 34.3s\n",
      "[OK] Best model for block 12 reached Val Acc: 0.8458\n",
      "[GLOBAL BEST] Block 12 | Val Acc: 0.8458\n",
      "[OK] Block 12 completed in 1367.9s\n",
      "\n",
      " Training on cubes 24 to 35\n",
      "[info] Loading 12 cubes into RAM...\n",
      "[1/12] [loaded] frt00005443_07_if166j_mtr3: 394890 pixels\n",
      "[2/12] [loaded] hrl0002422e_07_if182j_mtr3: 23342 pixels\n",
      "[3/12] [loaded] frt0000beeb_07_if166j_mtr3: 197296 pixels\n",
      "[4/12] [loaded] frt0000652e_07_if166j_mtr3: 396546 pixels\n",
      "[5/12] [loaded] frt000088d0_07_if166j_mtr3: 283023 pixels\n",
      "[6/12] [loaded] hrl00011336_07_if183j_mtr3: 76043 pixels\n",
      "[7/12] [loaded] frt0001792c_07_if166j_mtr3: 104453 pixels\n",
      "[8/12] [loaded] frt00005850_07_if167j_mtr3: 601925 pixels\n",
      "[9/12] [loaded] hrl0001d93d_07_if182j_mtr3: 112556 pixels\n",
      "[10/12] [loaded] frt00008fc1_07_if166j_mtr3: 289352 pixels\n",
      "[11/12] [loaded] frt00017736_07_if166j_mtr3: 17036 pixels\n",
      "[12/12] [loaded] frt0000a053_07_if166j_mtr3: 220363 pixels\n",
      "[OK] Total loaded samples: 2716825\n"
     ]
    },
    {
     "name": "stderr",
     "output_type": "stream",
     "text": [
      "epoch 1 [train block 24]: 100%|█████████████████| 67/67 [00:15<00:00,  4.43it/s]\n"
     ]
    },
    {
     "name": "stdout",
     "output_type": "stream",
     "text": [
      "[OK] Block 24 | Epoch 1 | Loss: 19.35 | Val Acc: 0.7899 | Time: 27.9s\n",
      "[BEST] Epoch 1 | Val Acc: 0.7899\n"
     ]
    },
    {
     "name": "stderr",
     "output_type": "stream",
     "text": [
      "epoch 2 [train block 24]: 100%|█████████████████| 67/67 [00:14<00:00,  4.60it/s]\n"
     ]
    },
    {
     "name": "stdout",
     "output_type": "stream",
     "text": [
      "[OK] Block 24 | Epoch 2 | Loss: 12.62 | Val Acc: 0.7972 | Time: 27.6s\n",
      "[BEST] Epoch 2 | Val Acc: 0.7972\n"
     ]
    },
    {
     "name": "stderr",
     "output_type": "stream",
     "text": [
      "epoch 3 [train block 24]: 100%|█████████████████| 67/67 [00:15<00:00,  4.44it/s]\n"
     ]
    },
    {
     "name": "stdout",
     "output_type": "stream",
     "text": [
      "[OK] Block 24 | Epoch 3 | Loss: 12.22 | Val Acc: 0.8031 | Time: 28.1s\n",
      "[BEST] Epoch 3 | Val Acc: 0.8031\n"
     ]
    },
    {
     "name": "stderr",
     "output_type": "stream",
     "text": [
      "epoch 4 [train block 24]: 100%|█████████████████| 67/67 [00:14<00:00,  4.56it/s]\n"
     ]
    },
    {
     "name": "stdout",
     "output_type": "stream",
     "text": [
      "[OK] Block 24 | Epoch 4 | Loss: 11.96 | Val Acc: 0.8019 | Time: 27.7s\n"
     ]
    },
    {
     "name": "stderr",
     "output_type": "stream",
     "text": [
      "epoch 5 [train block 24]: 100%|█████████████████| 67/67 [00:14<00:00,  4.61it/s]\n"
     ]
    },
    {
     "name": "stdout",
     "output_type": "stream",
     "text": [
      "[OK] Block 24 | Epoch 5 | Loss: 11.71 | Val Acc: 0.8011 | Time: 27.5s\n"
     ]
    },
    {
     "name": "stderr",
     "output_type": "stream",
     "text": [
      "epoch 6 [train block 24]: 100%|█████████████████| 67/67 [00:15<00:00,  4.45it/s]\n"
     ]
    },
    {
     "name": "stdout",
     "output_type": "stream",
     "text": [
      "[OK] Block 24 | Epoch 6 | Loss: 11.51 | Val Acc: 0.8020 | Time: 28.1s\n"
     ]
    },
    {
     "name": "stderr",
     "output_type": "stream",
     "text": [
      "epoch 7 [train block 24]: 100%|█████████████████| 67/67 [00:14<00:00,  4.57it/s]\n"
     ]
    },
    {
     "name": "stdout",
     "output_type": "stream",
     "text": [
      "[OK] Block 24 | Epoch 7 | Loss: 11.32 | Val Acc: 0.8037 | Time: 27.6s\n",
      "[BEST] Epoch 7 | Val Acc: 0.8037\n"
     ]
    },
    {
     "name": "stderr",
     "output_type": "stream",
     "text": [
      "epoch 8 [train block 24]: 100%|█████████████████| 67/67 [00:15<00:00,  4.43it/s]\n"
     ]
    },
    {
     "name": "stdout",
     "output_type": "stream",
     "text": [
      "[OK] Block 24 | Epoch 8 | Loss: 11.17 | Val Acc: 0.8011 | Time: 28.1s\n"
     ]
    },
    {
     "name": "stderr",
     "output_type": "stream",
     "text": [
      "epoch 9 [train block 24]: 100%|█████████████████| 67/67 [00:14<00:00,  4.65it/s]\n"
     ]
    },
    {
     "name": "stdout",
     "output_type": "stream",
     "text": [
      "[OK] Block 24 | Epoch 9 | Loss: 11.04 | Val Acc: 0.7997 | Time: 27.3s\n"
     ]
    },
    {
     "name": "stderr",
     "output_type": "stream",
     "text": [
      "epoch 10 [train block 24]: 100%|████████████████| 67/67 [00:14<00:00,  4.54it/s]\n"
     ]
    },
    {
     "name": "stdout",
     "output_type": "stream",
     "text": [
      "[OK] Block 24 | Epoch 10 | Loss: 10.92 | Val Acc: 0.7976 | Time: 27.3s\n"
     ]
    },
    {
     "name": "stderr",
     "output_type": "stream",
     "text": [
      "epoch 11 [train block 24]: 100%|████████████████| 67/67 [00:14<00:00,  4.47it/s]\n"
     ]
    },
    {
     "name": "stdout",
     "output_type": "stream",
     "text": [
      "[OK] Block 24 | Epoch 11 | Loss: 10.82 | Val Acc: 0.7993 | Time: 27.9s\n"
     ]
    },
    {
     "name": "stderr",
     "output_type": "stream",
     "text": [
      "epoch 12 [train block 24]: 100%|████████████████| 67/67 [00:14<00:00,  4.54it/s]\n"
     ]
    },
    {
     "name": "stdout",
     "output_type": "stream",
     "text": [
      "[OK] Block 24 | Epoch 12 | Loss: 10.72 | Val Acc: 0.7975 | Time: 27.8s\n"
     ]
    },
    {
     "name": "stderr",
     "output_type": "stream",
     "text": [
      "epoch 13 [train block 24]: 100%|████████████████| 67/67 [00:14<00:00,  4.54it/s]\n"
     ]
    },
    {
     "name": "stdout",
     "output_type": "stream",
     "text": [
      "[OK] Block 24 | Epoch 13 | Loss: 10.63 | Val Acc: 0.7976 | Time: 27.8s\n"
     ]
    },
    {
     "name": "stderr",
     "output_type": "stream",
     "text": [
      "epoch 14 [train block 24]: 100%|████████████████| 67/67 [00:14<00:00,  4.64it/s]\n"
     ]
    },
    {
     "name": "stdout",
     "output_type": "stream",
     "text": [
      "[OK] Block 24 | Epoch 14 | Loss: 10.55 | Val Acc: 0.7956 | Time: 27.4s\n"
     ]
    },
    {
     "name": "stderr",
     "output_type": "stream",
     "text": [
      "epoch 15 [train block 24]: 100%|████████████████| 67/67 [00:14<00:00,  4.54it/s]\n"
     ]
    },
    {
     "name": "stdout",
     "output_type": "stream",
     "text": [
      "[OK] Block 24 | Epoch 15 | Loss: 10.47 | Val Acc: 0.7973 | Time: 27.7s\n"
     ]
    },
    {
     "name": "stderr",
     "output_type": "stream",
     "text": [
      "epoch 16 [train block 24]: 100%|████████████████| 67/67 [00:14<00:00,  4.59it/s]\n"
     ]
    },
    {
     "name": "stdout",
     "output_type": "stream",
     "text": [
      "[OK] Block 24 | Epoch 16 | Loss: 10.40 | Val Acc: 0.7939 | Time: 27.6s\n"
     ]
    },
    {
     "name": "stderr",
     "output_type": "stream",
     "text": [
      "epoch 17 [train block 24]: 100%|████████████████| 67/67 [00:14<00:00,  4.56it/s]\n"
     ]
    },
    {
     "name": "stdout",
     "output_type": "stream",
     "text": [
      "[OK] Block 24 | Epoch 17 | Loss: 10.33 | Val Acc: 0.7954 | Time: 27.7s\n"
     ]
    },
    {
     "name": "stderr",
     "output_type": "stream",
     "text": [
      "epoch 18 [train block 24]: 100%|████████████████| 67/67 [00:14<00:00,  4.57it/s]\n"
     ]
    },
    {
     "name": "stdout",
     "output_type": "stream",
     "text": [
      "[OK] Block 24 | Epoch 18 | Loss: 10.26 | Val Acc: 0.7935 | Time: 27.6s\n"
     ]
    },
    {
     "name": "stderr",
     "output_type": "stream",
     "text": [
      "epoch 19 [train block 24]: 100%|████████████████| 67/67 [00:14<00:00,  4.64it/s]\n"
     ]
    },
    {
     "name": "stdout",
     "output_type": "stream",
     "text": [
      "[OK] Block 24 | Epoch 19 | Loss: 10.20 | Val Acc: 0.7956 | Time: 27.4s\n"
     ]
    },
    {
     "name": "stderr",
     "output_type": "stream",
     "text": [
      "epoch 20 [train block 24]: 100%|████████████████| 67/67 [00:14<00:00,  4.57it/s]\n"
     ]
    },
    {
     "name": "stdout",
     "output_type": "stream",
     "text": [
      "[OK] Block 24 | Epoch 20 | Loss: 10.14 | Val Acc: 0.7937 | Time: 27.6s\n"
     ]
    },
    {
     "name": "stderr",
     "output_type": "stream",
     "text": [
      "epoch 21 [train block 24]: 100%|████████████████| 67/67 [00:14<00:00,  4.54it/s]\n"
     ]
    },
    {
     "name": "stdout",
     "output_type": "stream",
     "text": [
      "[OK] Block 24 | Epoch 21 | Loss: 10.07 | Val Acc: 0.7913 | Time: 27.5s\n"
     ]
    },
    {
     "name": "stderr",
     "output_type": "stream",
     "text": [
      "epoch 22 [train block 24]: 100%|████████████████| 67/67 [00:14<00:00,  4.48it/s]\n"
     ]
    },
    {
     "name": "stdout",
     "output_type": "stream",
     "text": [
      "[OK] Block 24 | Epoch 22 | Loss: 10.02 | Val Acc: 0.7927 | Time: 27.7s\n"
     ]
    },
    {
     "name": "stderr",
     "output_type": "stream",
     "text": [
      "epoch 23 [train block 24]: 100%|████████████████| 67/67 [00:14<00:00,  4.58it/s]\n"
     ]
    },
    {
     "name": "stdout",
     "output_type": "stream",
     "text": [
      "[OK] Block 24 | Epoch 23 | Loss: 9.96 | Val Acc: 0.7923 | Time: 27.6s\n"
     ]
    },
    {
     "name": "stderr",
     "output_type": "stream",
     "text": [
      "epoch 24 [train block 24]: 100%|████████████████| 67/67 [00:14<00:00,  4.56it/s]\n"
     ]
    },
    {
     "name": "stdout",
     "output_type": "stream",
     "text": [
      "[OK] Block 24 | Epoch 24 | Loss: 9.91 | Val Acc: 0.7931 | Time: 27.5s\n"
     ]
    },
    {
     "name": "stderr",
     "output_type": "stream",
     "text": [
      "epoch 25 [train block 24]: 100%|████████████████| 67/67 [00:14<00:00,  4.59it/s]\n"
     ]
    },
    {
     "name": "stdout",
     "output_type": "stream",
     "text": [
      "[OK] Block 24 | Epoch 25 | Loss: 9.87 | Val Acc: 0.7919 | Time: 27.3s\n"
     ]
    },
    {
     "name": "stderr",
     "output_type": "stream",
     "text": [
      "epoch 26 [train block 24]: 100%|████████████████| 67/67 [00:14<00:00,  4.48it/s]\n"
     ]
    },
    {
     "name": "stdout",
     "output_type": "stream",
     "text": [
      "[OK] Block 24 | Epoch 26 | Loss: 9.81 | Val Acc: 0.7917 | Time: 28.0s\n"
     ]
    },
    {
     "name": "stderr",
     "output_type": "stream",
     "text": [
      "epoch 27 [train block 24]: 100%|████████████████| 67/67 [00:14<00:00,  4.49it/s]\n"
     ]
    },
    {
     "name": "stdout",
     "output_type": "stream",
     "text": [
      "[OK] Block 24 | Epoch 27 | Loss: 9.77 | Val Acc: 0.7919 | Time: 27.8s\n"
     ]
    },
    {
     "name": "stderr",
     "output_type": "stream",
     "text": [
      "epoch 28 [train block 24]: 100%|████████████████| 67/67 [00:14<00:00,  4.55it/s]\n"
     ]
    },
    {
     "name": "stdout",
     "output_type": "stream",
     "text": [
      "[OK] Block 24 | Epoch 28 | Loss: 9.72 | Val Acc: 0.7919 | Time: 27.7s\n"
     ]
    },
    {
     "name": "stderr",
     "output_type": "stream",
     "text": [
      "epoch 29 [train block 24]: 100%|████████████████| 67/67 [00:15<00:00,  4.46it/s]\n"
     ]
    },
    {
     "name": "stdout",
     "output_type": "stream",
     "text": [
      "[OK] Block 24 | Epoch 29 | Loss: 9.68 | Val Acc: 0.7895 | Time: 28.1s\n"
     ]
    },
    {
     "name": "stderr",
     "output_type": "stream",
     "text": [
      "epoch 30 [train block 24]: 100%|████████████████| 67/67 [00:15<00:00,  4.42it/s]\n"
     ]
    },
    {
     "name": "stdout",
     "output_type": "stream",
     "text": [
      "[OK] Block 24 | Epoch 30 | Loss: 9.64 | Val Acc: 0.7922 | Time: 28.2s\n"
     ]
    },
    {
     "name": "stderr",
     "output_type": "stream",
     "text": [
      "epoch 31 [train block 24]: 100%|████████████████| 67/67 [00:14<00:00,  4.55it/s]\n"
     ]
    },
    {
     "name": "stdout",
     "output_type": "stream",
     "text": [
      "[OK] Block 24 | Epoch 31 | Loss: 9.60 | Val Acc: 0.7937 | Time: 27.6s\n"
     ]
    },
    {
     "name": "stderr",
     "output_type": "stream",
     "text": [
      "epoch 32 [train block 24]: 100%|████████████████| 67/67 [00:14<00:00,  4.54it/s]\n"
     ]
    },
    {
     "name": "stdout",
     "output_type": "stream",
     "text": [
      "[OK] Block 24 | Epoch 32 | Loss: 9.56 | Val Acc: 0.7935 | Time: 27.7s\n"
     ]
    },
    {
     "name": "stderr",
     "output_type": "stream",
     "text": [
      "epoch 33 [train block 24]: 100%|████████████████| 67/67 [00:14<00:00,  4.47it/s]\n"
     ]
    },
    {
     "name": "stdout",
     "output_type": "stream",
     "text": [
      "[OK] Block 24 | Epoch 33 | Loss: 9.53 | Val Acc: 0.7924 | Time: 27.9s\n"
     ]
    },
    {
     "name": "stderr",
     "output_type": "stream",
     "text": [
      "epoch 34 [train block 24]: 100%|████████████████| 67/67 [00:15<00:00,  4.43it/s]\n"
     ]
    },
    {
     "name": "stdout",
     "output_type": "stream",
     "text": [
      "[OK] Block 24 | Epoch 34 | Loss: 9.49 | Val Acc: 0.7943 | Time: 28.0s\n"
     ]
    },
    {
     "name": "stderr",
     "output_type": "stream",
     "text": [
      "epoch 35 [train block 24]: 100%|████████████████| 67/67 [00:14<00:00,  4.55it/s]\n"
     ]
    },
    {
     "name": "stdout",
     "output_type": "stream",
     "text": [
      "[OK] Block 24 | Epoch 35 | Loss: 9.45 | Val Acc: 0.7956 | Time: 27.9s\n"
     ]
    },
    {
     "name": "stderr",
     "output_type": "stream",
     "text": [
      "epoch 36 [train block 24]: 100%|████████████████| 67/67 [00:15<00:00,  4.47it/s]\n"
     ]
    },
    {
     "name": "stdout",
     "output_type": "stream",
     "text": [
      "[OK] Block 24 | Epoch 36 | Loss: 9.42 | Val Acc: 0.7954 | Time: 27.9s\n"
     ]
    },
    {
     "name": "stderr",
     "output_type": "stream",
     "text": [
      "epoch 37 [train block 24]: 100%|████████████████| 67/67 [00:14<00:00,  4.55it/s]\n"
     ]
    },
    {
     "name": "stdout",
     "output_type": "stream",
     "text": [
      "[OK] Block 24 | Epoch 37 | Loss: 9.39 | Val Acc: 0.7938 | Time: 27.6s\n"
     ]
    },
    {
     "name": "stderr",
     "output_type": "stream",
     "text": [
      "epoch 38 [train block 24]: 100%|████████████████| 67/67 [00:14<00:00,  4.48it/s]\n"
     ]
    },
    {
     "name": "stdout",
     "output_type": "stream",
     "text": [
      "[OK] Block 24 | Epoch 38 | Loss: 9.35 | Val Acc: 0.7947 | Time: 27.8s\n"
     ]
    },
    {
     "name": "stderr",
     "output_type": "stream",
     "text": [
      "epoch 39 [train block 24]: 100%|████████████████| 67/67 [00:14<00:00,  4.52it/s]\n"
     ]
    },
    {
     "name": "stdout",
     "output_type": "stream",
     "text": [
      "[OK] Block 24 | Epoch 39 | Loss: 9.33 | Val Acc: 0.7988 | Time: 27.7s\n"
     ]
    },
    {
     "name": "stderr",
     "output_type": "stream",
     "text": [
      "epoch 40 [train block 24]: 100%|████████████████| 67/67 [00:14<00:00,  4.52it/s]\n"
     ]
    },
    {
     "name": "stdout",
     "output_type": "stream",
     "text": [
      "[OK] Block 24 | Epoch 40 | Loss: 9.29 | Val Acc: 0.7981 | Time: 27.8s\n",
      "[OK] Best model for block 24 reached Val Acc: 0.8037\n",
      "[OK] Block 24 completed in 1109.5s\n",
      "\n",
      " Training on cubes 36 to 47\n",
      "[info] Loading 12 cubes into RAM...\n",
      "[1/12] [loaded] frt00009d96_07_if166j_mtr3: 227394 pixels\n",
      "[2/12] [loaded] frt00021c5a_07_if166j_mtr3: 100142 pixels\n",
      "[3/12] [loaded] hrl0000c4d8_07_if183j_mtr3: 83718 pixels\n",
      "[4/12] [loaded] frt0000a4fc_07_if166j_mtr3: 275308 pixels\n",
      "[5/12] [loaded] hrs0001e23e_07_if175j_mtr3: 10296 pixels\n",
      "[6/12] [loaded] frt00011188_07_if166j_mtr3: 134236 pixels\n",
      "[7/12] [loaded] frt0001b615_07_if166j_mtr3: 189465 pixels\n",
      "[8/12] [loaded] frt0000bbcb_07_if166j_mtr3: 139523 pixels\n",
      "[9/12] [loaded] hrl00009abe_07_if183j_mtr3: 101282 pixels\n",
      "[10/12] [loaded] hrl00020ba3_07_if183j_mtr3: 58573 pixels\n",
      "[11/12] [loaded] frt0000bda8_07_if165j_mtr3: 81401 pixels\n",
      "[12/12] [loaded] frt0000b438_07_if166j_mtr3: 163311 pixels\n",
      "[OK] Total loaded samples: 1564649\n"
     ]
    },
    {
     "name": "stderr",
     "output_type": "stream",
     "text": [
      "epoch 1 [train block 36]: 100%|█████████████████| 39/39 [00:09<00:00,  4.21it/s]\n"
     ]
    },
    {
     "name": "stdout",
     "output_type": "stream",
     "text": [
      "[OK] Block 36 | Epoch 1 | Loss: 10.33 | Val Acc: 0.8145 | Time: 22.1s\n",
      "[BEST] Epoch 1 | Val Acc: 0.8145\n"
     ]
    },
    {
     "name": "stderr",
     "output_type": "stream",
     "text": [
      "epoch 2 [train block 36]: 100%|█████████████████| 39/39 [00:09<00:00,  4.30it/s]\n"
     ]
    },
    {
     "name": "stdout",
     "output_type": "stream",
     "text": [
      "[OK] Block 36 | Epoch 2 | Loss: 9.01 | Val Acc: 0.8201 | Time: 22.0s\n",
      "[BEST] Epoch 2 | Val Acc: 0.8201\n"
     ]
    },
    {
     "name": "stderr",
     "output_type": "stream",
     "text": [
      "epoch 3 [train block 36]: 100%|█████████████████| 39/39 [00:08<00:00,  4.36it/s]\n"
     ]
    },
    {
     "name": "stdout",
     "output_type": "stream",
     "text": [
      "[OK] Block 36 | Epoch 3 | Loss: 8.55 | Val Acc: 0.8303 | Time: 22.0s\n",
      "[BEST] Epoch 3 | Val Acc: 0.8303\n"
     ]
    },
    {
     "name": "stderr",
     "output_type": "stream",
     "text": [
      "epoch 4 [train block 36]: 100%|█████████████████| 39/39 [00:09<00:00,  4.24it/s]\n"
     ]
    },
    {
     "name": "stdout",
     "output_type": "stream",
     "text": [
      "[OK] Block 36 | Epoch 4 | Loss: 8.20 | Val Acc: 0.8295 | Time: 22.1s\n"
     ]
    },
    {
     "name": "stderr",
     "output_type": "stream",
     "text": [
      "epoch 5 [train block 36]: 100%|█████████████████| 39/39 [00:09<00:00,  4.20it/s]\n"
     ]
    },
    {
     "name": "stdout",
     "output_type": "stream",
     "text": [
      "[OK] Block 36 | Epoch 5 | Loss: 7.96 | Val Acc: 0.8300 | Time: 22.2s\n"
     ]
    },
    {
     "name": "stderr",
     "output_type": "stream",
     "text": [
      "epoch 6 [train block 36]: 100%|█████████████████| 39/39 [00:09<00:00,  4.27it/s]\n"
     ]
    },
    {
     "name": "stdout",
     "output_type": "stream",
     "text": [
      "[OK] Block 36 | Epoch 6 | Loss: 7.77 | Val Acc: 0.8308 | Time: 22.0s\n",
      "[BEST] Epoch 6 | Val Acc: 0.8308\n"
     ]
    },
    {
     "name": "stderr",
     "output_type": "stream",
     "text": [
      "epoch 7 [train block 36]: 100%|█████████████████| 39/39 [00:09<00:00,  4.10it/s]\n"
     ]
    },
    {
     "name": "stdout",
     "output_type": "stream",
     "text": [
      "[OK] Block 36 | Epoch 7 | Loss: 7.62 | Val Acc: 0.8290 | Time: 22.4s\n"
     ]
    },
    {
     "name": "stderr",
     "output_type": "stream",
     "text": [
      "epoch 8 [train block 36]: 100%|█████████████████| 39/39 [00:09<00:00,  4.19it/s]\n"
     ]
    },
    {
     "name": "stdout",
     "output_type": "stream",
     "text": [
      "[OK] Block 36 | Epoch 8 | Loss: 7.49 | Val Acc: 0.8330 | Time: 22.0s\n",
      "[BEST] Epoch 8 | Val Acc: 0.8330\n"
     ]
    },
    {
     "name": "stderr",
     "output_type": "stream",
     "text": [
      "epoch 9 [train block 36]: 100%|█████████████████| 39/39 [00:09<00:00,  4.27it/s]\n"
     ]
    },
    {
     "name": "stdout",
     "output_type": "stream",
     "text": [
      "[OK] Block 36 | Epoch 9 | Loss: 7.37 | Val Acc: 0.8325 | Time: 22.3s\n"
     ]
    },
    {
     "name": "stderr",
     "output_type": "stream",
     "text": [
      "epoch 10 [train block 36]: 100%|████████████████| 39/39 [00:09<00:00,  4.08it/s]\n"
     ]
    },
    {
     "name": "stdout",
     "output_type": "stream",
     "text": [
      "[OK] Block 36 | Epoch 10 | Loss: 7.25 | Val Acc: 0.8307 | Time: 22.3s\n"
     ]
    },
    {
     "name": "stderr",
     "output_type": "stream",
     "text": [
      "epoch 11 [train block 36]: 100%|████████████████| 39/39 [00:09<00:00,  4.30it/s]\n"
     ]
    },
    {
     "name": "stdout",
     "output_type": "stream",
     "text": [
      "[OK] Block 36 | Epoch 11 | Loss: 7.17 | Val Acc: 0.8317 | Time: 21.8s\n"
     ]
    },
    {
     "name": "stderr",
     "output_type": "stream",
     "text": [
      "epoch 12 [train block 36]: 100%|████████████████| 39/39 [00:08<00:00,  4.34it/s]\n"
     ]
    },
    {
     "name": "stdout",
     "output_type": "stream",
     "text": [
      "[OK] Block 36 | Epoch 12 | Loss: 7.08 | Val Acc: 0.8324 | Time: 22.0s\n"
     ]
    },
    {
     "name": "stderr",
     "output_type": "stream",
     "text": [
      "epoch 13 [train block 36]: 100%|████████████████| 39/39 [00:09<00:00,  4.24it/s]\n"
     ]
    },
    {
     "name": "stdout",
     "output_type": "stream",
     "text": [
      "[OK] Block 36 | Epoch 13 | Loss: 7.01 | Val Acc: 0.8309 | Time: 22.3s\n"
     ]
    },
    {
     "name": "stderr",
     "output_type": "stream",
     "text": [
      "epoch 14 [train block 36]: 100%|████████████████| 39/39 [00:09<00:00,  4.18it/s]\n"
     ]
    },
    {
     "name": "stdout",
     "output_type": "stream",
     "text": [
      "[OK] Block 36 | Epoch 14 | Loss: 6.94 | Val Acc: 0.8306 | Time: 22.1s\n"
     ]
    },
    {
     "name": "stderr",
     "output_type": "stream",
     "text": [
      "epoch 15 [train block 36]: 100%|████████████████| 39/39 [00:09<00:00,  4.28it/s]\n"
     ]
    },
    {
     "name": "stdout",
     "output_type": "stream",
     "text": [
      "[OK] Block 36 | Epoch 15 | Loss: 6.87 | Val Acc: 0.8291 | Time: 21.8s\n"
     ]
    },
    {
     "name": "stderr",
     "output_type": "stream",
     "text": [
      "epoch 16 [train block 36]: 100%|████████████████| 39/39 [00:09<00:00,  4.08it/s]\n"
     ]
    },
    {
     "name": "stdout",
     "output_type": "stream",
     "text": [
      "[OK] Block 36 | Epoch 16 | Loss: 6.81 | Val Acc: 0.8239 | Time: 22.5s\n"
     ]
    },
    {
     "name": "stderr",
     "output_type": "stream",
     "text": [
      "epoch 17 [train block 36]: 100%|████████████████| 39/39 [00:09<00:00,  4.16it/s]\n"
     ]
    },
    {
     "name": "stdout",
     "output_type": "stream",
     "text": [
      "[OK] Block 36 | Epoch 17 | Loss: 6.75 | Val Acc: 0.8264 | Time: 22.4s\n"
     ]
    },
    {
     "name": "stderr",
     "output_type": "stream",
     "text": [
      "epoch 18 [train block 36]: 100%|████████████████| 39/39 [00:09<00:00,  4.16it/s]\n"
     ]
    },
    {
     "name": "stdout",
     "output_type": "stream",
     "text": [
      "[OK] Block 36 | Epoch 18 | Loss: 6.69 | Val Acc: 0.8278 | Time: 22.3s\n"
     ]
    },
    {
     "name": "stderr",
     "output_type": "stream",
     "text": [
      "epoch 19 [train block 36]: 100%|████████████████| 39/39 [00:09<00:00,  4.29it/s]\n"
     ]
    },
    {
     "name": "stdout",
     "output_type": "stream",
     "text": [
      "[OK] Block 36 | Epoch 19 | Loss: 6.62 | Val Acc: 0.8193 | Time: 22.0s\n"
     ]
    },
    {
     "name": "stderr",
     "output_type": "stream",
     "text": [
      "epoch 20 [train block 36]: 100%|████████████████| 39/39 [00:09<00:00,  4.06it/s]\n"
     ]
    },
    {
     "name": "stdout",
     "output_type": "stream",
     "text": [
      "[OK] Block 36 | Epoch 20 | Loss: 6.58 | Val Acc: 0.8268 | Time: 22.5s\n"
     ]
    },
    {
     "name": "stderr",
     "output_type": "stream",
     "text": [
      "epoch 21 [train block 36]: 100%|████████████████| 39/39 [00:09<00:00,  4.28it/s]\n"
     ]
    },
    {
     "name": "stdout",
     "output_type": "stream",
     "text": [
      "[OK] Block 36 | Epoch 21 | Loss: 6.52 | Val Acc: 0.8237 | Time: 22.0s\n"
     ]
    },
    {
     "name": "stderr",
     "output_type": "stream",
     "text": [
      "epoch 22 [train block 36]: 100%|████████████████| 39/39 [00:09<00:00,  4.30it/s]\n"
     ]
    },
    {
     "name": "stdout",
     "output_type": "stream",
     "text": [
      "[OK] Block 36 | Epoch 22 | Loss: 6.47 | Val Acc: 0.8207 | Time: 22.0s\n"
     ]
    },
    {
     "name": "stderr",
     "output_type": "stream",
     "text": [
      "epoch 23 [train block 36]: 100%|████████████████| 39/39 [00:09<00:00,  4.19it/s]\n"
     ]
    },
    {
     "name": "stdout",
     "output_type": "stream",
     "text": [
      "[OK] Block 36 | Epoch 23 | Loss: 6.43 | Val Acc: 0.8194 | Time: 22.2s\n"
     ]
    },
    {
     "name": "stderr",
     "output_type": "stream",
     "text": [
      "epoch 24 [train block 36]: 100%|████████████████| 39/39 [00:09<00:00,  4.29it/s]\n"
     ]
    },
    {
     "name": "stdout",
     "output_type": "stream",
     "text": [
      "[OK] Block 36 | Epoch 24 | Loss: 6.39 | Val Acc: 0.8181 | Time: 21.9s\n"
     ]
    },
    {
     "name": "stderr",
     "output_type": "stream",
     "text": [
      "epoch 25 [train block 36]: 100%|████████████████| 39/39 [00:09<00:00,  4.05it/s]\n"
     ]
    },
    {
     "name": "stdout",
     "output_type": "stream",
     "text": [
      "[OK] Block 36 | Epoch 25 | Loss: 6.35 | Val Acc: 0.8180 | Time: 22.2s\n"
     ]
    },
    {
     "name": "stderr",
     "output_type": "stream",
     "text": [
      "epoch 26 [train block 36]: 100%|████████████████| 39/39 [00:09<00:00,  4.27it/s]\n"
     ]
    },
    {
     "name": "stdout",
     "output_type": "stream",
     "text": [
      "[OK] Block 36 | Epoch 26 | Loss: 6.31 | Val Acc: 0.8192 | Time: 22.0s\n"
     ]
    },
    {
     "name": "stderr",
     "output_type": "stream",
     "text": [
      "epoch 27 [train block 36]: 100%|████████████████| 39/39 [00:09<00:00,  4.30it/s]\n"
     ]
    },
    {
     "name": "stdout",
     "output_type": "stream",
     "text": [
      "[OK] Block 36 | Epoch 27 | Loss: 6.27 | Val Acc: 0.8179 | Time: 22.1s\n"
     ]
    },
    {
     "name": "stderr",
     "output_type": "stream",
     "text": [
      "epoch 28 [train block 36]: 100%|████████████████| 39/39 [00:09<00:00,  4.28it/s]\n"
     ]
    },
    {
     "name": "stdout",
     "output_type": "stream",
     "text": [
      "[OK] Block 36 | Epoch 28 | Loss: 6.24 | Val Acc: 0.8165 | Time: 21.9s\n"
     ]
    },
    {
     "name": "stderr",
     "output_type": "stream",
     "text": [
      "epoch 29 [train block 36]: 100%|████████████████| 39/39 [00:09<00:00,  4.01it/s]\n"
     ]
    },
    {
     "name": "stdout",
     "output_type": "stream",
     "text": [
      "[OK] Block 36 | Epoch 29 | Loss: 6.20 | Val Acc: 0.8122 | Time: 22.8s\n"
     ]
    },
    {
     "name": "stderr",
     "output_type": "stream",
     "text": [
      "epoch 30 [train block 36]: 100%|████████████████| 39/39 [00:09<00:00,  4.27it/s]\n"
     ]
    },
    {
     "name": "stdout",
     "output_type": "stream",
     "text": [
      "[OK] Block 36 | Epoch 30 | Loss: 6.16 | Val Acc: 0.8083 | Time: 22.0s\n"
     ]
    },
    {
     "name": "stderr",
     "output_type": "stream",
     "text": [
      "epoch 31 [train block 36]: 100%|████████████████| 39/39 [00:09<00:00,  4.18it/s]\n"
     ]
    },
    {
     "name": "stdout",
     "output_type": "stream",
     "text": [
      "[OK] Block 36 | Epoch 31 | Loss: 6.13 | Val Acc: 0.8107 | Time: 22.3s\n"
     ]
    },
    {
     "name": "stderr",
     "output_type": "stream",
     "text": [
      "epoch 32 [train block 36]: 100%|████████████████| 39/39 [00:09<00:00,  4.20it/s]\n"
     ]
    },
    {
     "name": "stdout",
     "output_type": "stream",
     "text": [
      "[OK] Block 36 | Epoch 32 | Loss: 6.10 | Val Acc: 0.8066 | Time: 22.0s\n"
     ]
    },
    {
     "name": "stderr",
     "output_type": "stream",
     "text": [
      "epoch 33 [train block 36]: 100%|████████████████| 39/39 [00:09<00:00,  4.10it/s]\n"
     ]
    },
    {
     "name": "stdout",
     "output_type": "stream",
     "text": [
      "[OK] Block 36 | Epoch 33 | Loss: 6.06 | Val Acc: 0.8122 | Time: 22.3s\n"
     ]
    },
    {
     "name": "stderr",
     "output_type": "stream",
     "text": [
      "epoch 34 [train block 36]: 100%|████████████████| 39/39 [00:09<00:00,  4.33it/s]\n"
     ]
    },
    {
     "name": "stdout",
     "output_type": "stream",
     "text": [
      "[OK] Block 36 | Epoch 34 | Loss: 6.04 | Val Acc: 0.8081 | Time: 21.7s\n"
     ]
    },
    {
     "name": "stderr",
     "output_type": "stream",
     "text": [
      "epoch 35 [train block 36]: 100%|████████████████| 39/39 [00:09<00:00,  4.26it/s]\n"
     ]
    },
    {
     "name": "stdout",
     "output_type": "stream",
     "text": [
      "[OK] Block 36 | Epoch 35 | Loss: 6.00 | Val Acc: 0.8016 | Time: 22.0s\n"
     ]
    },
    {
     "name": "stderr",
     "output_type": "stream",
     "text": [
      "epoch 36 [train block 36]: 100%|████████████████| 39/39 [00:09<00:00,  4.21it/s]\n"
     ]
    },
    {
     "name": "stdout",
     "output_type": "stream",
     "text": [
      "[OK] Block 36 | Epoch 36 | Loss: 5.98 | Val Acc: 0.8022 | Time: 22.1s\n"
     ]
    },
    {
     "name": "stderr",
     "output_type": "stream",
     "text": [
      "epoch 37 [train block 36]: 100%|████████████████| 39/39 [00:09<00:00,  4.30it/s]\n"
     ]
    },
    {
     "name": "stdout",
     "output_type": "stream",
     "text": [
      "[OK] Block 36 | Epoch 37 | Loss: 5.95 | Val Acc: 0.8019 | Time: 22.0s\n"
     ]
    },
    {
     "name": "stderr",
     "output_type": "stream",
     "text": [
      "epoch 38 [train block 36]: 100%|████████████████| 39/39 [00:09<00:00,  4.16it/s]\n"
     ]
    },
    {
     "name": "stdout",
     "output_type": "stream",
     "text": [
      "[OK] Block 36 | Epoch 38 | Loss: 5.92 | Val Acc: 0.8039 | Time: 22.4s\n"
     ]
    },
    {
     "name": "stderr",
     "output_type": "stream",
     "text": [
      "epoch 39 [train block 36]: 100%|████████████████| 39/39 [00:09<00:00,  4.15it/s]\n"
     ]
    },
    {
     "name": "stdout",
     "output_type": "stream",
     "text": [
      "[OK] Block 36 | Epoch 39 | Loss: 5.89 | Val Acc: 0.7986 | Time: 22.4s\n"
     ]
    },
    {
     "name": "stderr",
     "output_type": "stream",
     "text": [
      "epoch 40 [train block 36]: 100%|████████████████| 39/39 [00:09<00:00,  4.23it/s]\n"
     ]
    },
    {
     "name": "stdout",
     "output_type": "stream",
     "text": [
      "[OK] Block 36 | Epoch 40 | Loss: 5.86 | Val Acc: 0.8059 | Time: 22.3s\n",
      "[OK] Best model for block 36 reached Val Acc: 0.8330\n",
      "[OK] Block 36 completed in 886.2s\n",
      "\n",
      " Training on cubes 48 to 59\n",
      "[info] Loading 12 cubes into RAM...\n",
      "[1/12] [loaded] frt0000b2f8_07_if165j_mtr3: 112789 pixels\n",
      "[2/12] [loaded] frt00005a3e_07_if165j_mtr3: 394241 pixels\n",
      "[3/12] [loaded] frt00009d44_07_if165j_mtr3: 260147 pixels\n",
      "[4/12] [loaded] hrl000095a2_07_if183j_mtr3: 153698 pixels\n",
      "[5/12] [loaded] hrl0000d08f_07_if183j_mtr3: 165568 pixels\n",
      "[6/12] [loaded] frt00019538_07_if166j_mtr3: 40059 pixels\n",
      "[7/12] [loaded] hrl0000b404_07_if183j_mtr3: 75260 pixels\n",
      "[8/12] [loaded] hrl00017fa7_07_if183j_mtr3: 34890 pixels\n",
      "[9/12] [loaded] frt0001642e_07_if166j_mtr3: 41359 pixels\n",
      "[10/12] [loaded] frt00016f2c_07_if166j_mtr3: 100101 pixels\n",
      "[11/12] [loaded] hrl0000c0ba_07_if183j_mtr3: 64098 pixels\n",
      "[12/12] [loaded] hrl0000ab0a_07_if183j_mtr3: 86814 pixels\n",
      "[OK] Total loaded samples: 1529024\n"
     ]
    },
    {
     "name": "stderr",
     "output_type": "stream",
     "text": [
      "epoch 1 [train block 48]: 100%|█████████████████| 38/38 [00:08<00:00,  4.22it/s]\n"
     ]
    },
    {
     "name": "stdout",
     "output_type": "stream",
     "text": [
      "[OK] Block 48 | Epoch 1 | Loss: 15.42 | Val Acc: 0.8340 | Time: 22.4s\n",
      "[BEST] Epoch 1 | Val Acc: 0.8340\n"
     ]
    },
    {
     "name": "stderr",
     "output_type": "stream",
     "text": [
      "epoch 2 [train block 48]: 100%|█████████████████| 38/38 [00:09<00:00,  4.02it/s]\n"
     ]
    },
    {
     "name": "stdout",
     "output_type": "stream",
     "text": [
      "[OK] Block 48 | Epoch 2 | Loss: 12.58 | Val Acc: 0.8311 | Time: 22.2s\n"
     ]
    },
    {
     "name": "stderr",
     "output_type": "stream",
     "text": [
      "epoch 3 [train block 48]: 100%|█████████████████| 38/38 [00:08<00:00,  4.23it/s]\n"
     ]
    },
    {
     "name": "stdout",
     "output_type": "stream",
     "text": [
      "[OK] Block 48 | Epoch 3 | Loss: 12.23 | Val Acc: 0.8310 | Time: 22.0s\n"
     ]
    },
    {
     "name": "stderr",
     "output_type": "stream",
     "text": [
      "epoch 4 [train block 48]: 100%|█████████████████| 38/38 [00:09<00:00,  4.21it/s]\n"
     ]
    },
    {
     "name": "stdout",
     "output_type": "stream",
     "text": [
      "[OK] Block 48 | Epoch 4 | Loss: 12.01 | Val Acc: 0.8316 | Time: 21.7s\n"
     ]
    },
    {
     "name": "stderr",
     "output_type": "stream",
     "text": [
      "epoch 5 [train block 48]: 100%|█████████████████| 38/38 [00:09<00:00,  4.17it/s]\n"
     ]
    },
    {
     "name": "stdout",
     "output_type": "stream",
     "text": [
      "[OK] Block 48 | Epoch 5 | Loss: 11.85 | Val Acc: 0.8284 | Time: 22.2s\n"
     ]
    },
    {
     "name": "stderr",
     "output_type": "stream",
     "text": [
      "epoch 6 [train block 48]: 100%|█████████████████| 38/38 [00:08<00:00,  4.22it/s]\n"
     ]
    },
    {
     "name": "stdout",
     "output_type": "stream",
     "text": [
      "[OK] Block 48 | Epoch 6 | Loss: 11.73 | Val Acc: 0.8292 | Time: 22.0s\n"
     ]
    },
    {
     "name": "stderr",
     "output_type": "stream",
     "text": [
      "epoch 7 [train block 48]: 100%|█████████████████| 38/38 [00:08<00:00,  4.24it/s]\n"
     ]
    },
    {
     "name": "stdout",
     "output_type": "stream",
     "text": [
      "[OK] Block 48 | Epoch 7 | Loss: 11.62 | Val Acc: 0.8265 | Time: 22.1s\n"
     ]
    },
    {
     "name": "stderr",
     "output_type": "stream",
     "text": [
      "epoch 8 [train block 48]: 100%|█████████████████| 38/38 [00:09<00:00,  4.19it/s]\n"
     ]
    },
    {
     "name": "stdout",
     "output_type": "stream",
     "text": [
      "[OK] Block 48 | Epoch 8 | Loss: 11.52 | Val Acc: 0.8272 | Time: 22.1s\n"
     ]
    },
    {
     "name": "stderr",
     "output_type": "stream",
     "text": [
      "epoch 9 [train block 48]: 100%|█████████████████| 38/38 [00:09<00:00,  4.06it/s]\n"
     ]
    },
    {
     "name": "stdout",
     "output_type": "stream",
     "text": [
      "[OK] Block 48 | Epoch 9 | Loss: 11.43 | Val Acc: 0.8259 | Time: 22.1s\n"
     ]
    },
    {
     "name": "stderr",
     "output_type": "stream",
     "text": [
      "epoch 10 [train block 48]: 100%|████████████████| 38/38 [00:09<00:00,  4.09it/s]\n"
     ]
    },
    {
     "name": "stdout",
     "output_type": "stream",
     "text": [
      "[OK] Block 48 | Epoch 10 | Loss: 11.36 | Val Acc: 0.8262 | Time: 22.4s\n"
     ]
    },
    {
     "name": "stderr",
     "output_type": "stream",
     "text": [
      "epoch 11 [train block 48]: 100%|████████████████| 38/38 [00:09<00:00,  4.21it/s]\n"
     ]
    },
    {
     "name": "stdout",
     "output_type": "stream",
     "text": [
      "[OK] Block 48 | Epoch 11 | Loss: 11.29 | Val Acc: 0.8277 | Time: 22.1s\n"
     ]
    },
    {
     "name": "stderr",
     "output_type": "stream",
     "text": [
      "epoch 12 [train block 48]: 100%|████████████████| 38/38 [00:08<00:00,  4.24it/s]\n"
     ]
    },
    {
     "name": "stdout",
     "output_type": "stream",
     "text": [
      "[OK] Block 48 | Epoch 12 | Loss: 11.22 | Val Acc: 0.8270 | Time: 22.0s\n"
     ]
    },
    {
     "name": "stderr",
     "output_type": "stream",
     "text": [
      "epoch 13 [train block 48]: 100%|████████████████| 38/38 [00:09<00:00,  4.20it/s]\n"
     ]
    },
    {
     "name": "stdout",
     "output_type": "stream",
     "text": [
      "[OK] Block 48 | Epoch 13 | Loss: 11.16 | Val Acc: 0.8257 | Time: 22.0s\n"
     ]
    },
    {
     "name": "stderr",
     "output_type": "stream",
     "text": [
      "epoch 14 [train block 48]: 100%|████████████████| 38/38 [00:09<00:00,  4.15it/s]\n"
     ]
    },
    {
     "name": "stdout",
     "output_type": "stream",
     "text": [
      "[OK] Block 48 | Epoch 14 | Loss: 11.11 | Val Acc: 0.8288 | Time: 22.0s\n"
     ]
    },
    {
     "name": "stderr",
     "output_type": "stream",
     "text": [
      "epoch 15 [train block 48]: 100%|████████████████| 38/38 [00:09<00:00,  4.03it/s]\n"
     ]
    },
    {
     "name": "stdout",
     "output_type": "stream",
     "text": [
      "[OK] Block 48 | Epoch 15 | Loss: 11.06 | Val Acc: 0.8288 | Time: 22.3s\n"
     ]
    },
    {
     "name": "stderr",
     "output_type": "stream",
     "text": [
      "epoch 16 [train block 48]: 100%|████████████████| 38/38 [00:09<00:00,  4.09it/s]\n"
     ]
    },
    {
     "name": "stdout",
     "output_type": "stream",
     "text": [
      "[OK] Block 48 | Epoch 16 | Loss: 11.01 | Val Acc: 0.8281 | Time: 22.2s\n"
     ]
    },
    {
     "name": "stderr",
     "output_type": "stream",
     "text": [
      "epoch 17 [train block 48]: 100%|████████████████| 38/38 [00:09<00:00,  4.01it/s]\n"
     ]
    },
    {
     "name": "stdout",
     "output_type": "stream",
     "text": [
      "[OK] Block 48 | Epoch 17 | Loss: 10.96 | Val Acc: 0.8277 | Time: 22.5s\n"
     ]
    },
    {
     "name": "stderr",
     "output_type": "stream",
     "text": [
      "epoch 18 [train block 48]: 100%|████████████████| 38/38 [00:09<00:00,  4.17it/s]\n"
     ]
    },
    {
     "name": "stdout",
     "output_type": "stream",
     "text": [
      "[OK] Block 48 | Epoch 18 | Loss: 10.92 | Val Acc: 0.8291 | Time: 22.0s\n"
     ]
    },
    {
     "name": "stderr",
     "output_type": "stream",
     "text": [
      "epoch 19 [train block 48]: 100%|████████████████| 38/38 [00:09<00:00,  4.13it/s]\n"
     ]
    },
    {
     "name": "stdout",
     "output_type": "stream",
     "text": [
      "[OK] Block 48 | Epoch 19 | Loss: 10.87 | Val Acc: 0.8305 | Time: 22.3s\n"
     ]
    },
    {
     "name": "stderr",
     "output_type": "stream",
     "text": [
      "epoch 20 [train block 48]: 100%|████████████████| 38/38 [00:08<00:00,  4.27it/s]\n"
     ]
    },
    {
     "name": "stdout",
     "output_type": "stream",
     "text": [
      "[OK] Block 48 | Epoch 20 | Loss: 10.83 | Val Acc: 0.8296 | Time: 22.0s\n"
     ]
    },
    {
     "name": "stderr",
     "output_type": "stream",
     "text": [
      "epoch 21 [train block 48]: 100%|████████████████| 38/38 [00:09<00:00,  4.09it/s]\n"
     ]
    },
    {
     "name": "stdout",
     "output_type": "stream",
     "text": [
      "[OK] Block 48 | Epoch 21 | Loss: 10.80 | Val Acc: 0.8306 | Time: 22.1s\n"
     ]
    },
    {
     "name": "stderr",
     "output_type": "stream",
     "text": [
      "epoch 22 [train block 48]: 100%|████████████████| 38/38 [00:09<00:00,  4.22it/s]\n"
     ]
    },
    {
     "name": "stdout",
     "output_type": "stream",
     "text": [
      "[OK] Block 48 | Epoch 22 | Loss: 10.75 | Val Acc: 0.8317 | Time: 22.0s\n"
     ]
    },
    {
     "name": "stderr",
     "output_type": "stream",
     "text": [
      "epoch 23 [train block 48]: 100%|████████████████| 38/38 [00:09<00:00,  4.14it/s]\n"
     ]
    },
    {
     "name": "stdout",
     "output_type": "stream",
     "text": [
      "[OK] Block 48 | Epoch 23 | Loss: 10.72 | Val Acc: 0.8283 | Time: 22.3s\n"
     ]
    },
    {
     "name": "stderr",
     "output_type": "stream",
     "text": [
      "epoch 24 [train block 48]: 100%|████████████████| 38/38 [00:09<00:00,  4.20it/s]\n"
     ]
    },
    {
     "name": "stdout",
     "output_type": "stream",
     "text": [
      "[OK] Block 48 | Epoch 24 | Loss: 10.67 | Val Acc: 0.8310 | Time: 22.1s\n"
     ]
    },
    {
     "name": "stderr",
     "output_type": "stream",
     "text": [
      "epoch 25 [train block 48]: 100%|████████████████| 38/38 [00:08<00:00,  4.23it/s]\n"
     ]
    },
    {
     "name": "stdout",
     "output_type": "stream",
     "text": [
      "[OK] Block 48 | Epoch 25 | Loss: 10.64 | Val Acc: 0.8335 | Time: 21.9s\n"
     ]
    },
    {
     "name": "stderr",
     "output_type": "stream",
     "text": [
      "epoch 26 [train block 48]: 100%|████████████████| 38/38 [00:08<00:00,  4.30it/s]\n"
     ]
    },
    {
     "name": "stdout",
     "output_type": "stream",
     "text": [
      "[OK] Block 48 | Epoch 26 | Loss: 10.60 | Val Acc: 0.8310 | Time: 21.9s\n"
     ]
    },
    {
     "name": "stderr",
     "output_type": "stream",
     "text": [
      "epoch 27 [train block 48]: 100%|████████████████| 38/38 [00:09<00:00,  4.04it/s]\n"
     ]
    },
    {
     "name": "stdout",
     "output_type": "stream",
     "text": [
      "[OK] Block 48 | Epoch 27 | Loss: 10.57 | Val Acc: 0.8312 | Time: 22.5s\n"
     ]
    },
    {
     "name": "stderr",
     "output_type": "stream",
     "text": [
      "epoch 28 [train block 48]: 100%|████████████████| 38/38 [00:09<00:00,  4.06it/s]\n"
     ]
    },
    {
     "name": "stdout",
     "output_type": "stream",
     "text": [
      "[OK] Block 48 | Epoch 28 | Loss: 10.54 | Val Acc: 0.8308 | Time: 22.4s\n"
     ]
    },
    {
     "name": "stderr",
     "output_type": "stream",
     "text": [
      "epoch 29 [train block 48]: 100%|████████████████| 38/38 [00:09<00:00,  4.19it/s]\n"
     ]
    },
    {
     "name": "stdout",
     "output_type": "stream",
     "text": [
      "[OK] Block 48 | Epoch 29 | Loss: 10.50 | Val Acc: 0.8321 | Time: 22.3s\n"
     ]
    },
    {
     "name": "stderr",
     "output_type": "stream",
     "text": [
      "epoch 30 [train block 48]: 100%|████████████████| 38/38 [00:10<00:00,  3.79it/s]\n"
     ]
    },
    {
     "name": "stdout",
     "output_type": "stream",
     "text": [
      "[OK] Block 48 | Epoch 30 | Loss: 10.47 | Val Acc: 0.8297 | Time: 23.9s\n"
     ]
    },
    {
     "name": "stderr",
     "output_type": "stream",
     "text": [
      "epoch 31 [train block 48]: 100%|████████████████| 38/38 [00:09<00:00,  4.01it/s]\n"
     ]
    },
    {
     "name": "stdout",
     "output_type": "stream",
     "text": [
      "[OK] Block 48 | Epoch 31 | Loss: 10.43 | Val Acc: 0.8313 | Time: 23.2s\n"
     ]
    },
    {
     "name": "stderr",
     "output_type": "stream",
     "text": [
      "epoch 32 [train block 48]: 100%|████████████████| 38/38 [00:08<00:00,  4.24it/s]\n"
     ]
    },
    {
     "name": "stdout",
     "output_type": "stream",
     "text": [
      "[OK] Block 48 | Epoch 32 | Loss: 10.40 | Val Acc: 0.8300 | Time: 22.3s\n"
     ]
    },
    {
     "name": "stderr",
     "output_type": "stream",
     "text": [
      "epoch 33 [train block 48]: 100%|████████████████| 38/38 [00:09<00:00,  4.04it/s]\n"
     ]
    },
    {
     "name": "stdout",
     "output_type": "stream",
     "text": [
      "[OK] Block 48 | Epoch 33 | Loss: 10.37 | Val Acc: 0.8321 | Time: 22.4s\n"
     ]
    },
    {
     "name": "stderr",
     "output_type": "stream",
     "text": [
      "epoch 34 [train block 48]: 100%|████████████████| 38/38 [00:09<00:00,  4.10it/s]\n"
     ]
    },
    {
     "name": "stdout",
     "output_type": "stream",
     "text": [
      "[OK] Block 48 | Epoch 34 | Loss: 10.34 | Val Acc: 0.8313 | Time: 22.3s\n"
     ]
    },
    {
     "name": "stderr",
     "output_type": "stream",
     "text": [
      "epoch 35 [train block 48]: 100%|████████████████| 38/38 [00:09<00:00,  4.07it/s]\n"
     ]
    },
    {
     "name": "stdout",
     "output_type": "stream",
     "text": [
      "[OK] Block 48 | Epoch 35 | Loss: 10.30 | Val Acc: 0.8321 | Time: 22.6s\n"
     ]
    },
    {
     "name": "stderr",
     "output_type": "stream",
     "text": [
      "epoch 36 [train block 48]: 100%|████████████████| 38/38 [00:09<00:00,  4.11it/s]\n"
     ]
    },
    {
     "name": "stdout",
     "output_type": "stream",
     "text": [
      "[OK] Block 48 | Epoch 36 | Loss: 10.29 | Val Acc: 0.8309 | Time: 22.0s\n"
     ]
    },
    {
     "name": "stderr",
     "output_type": "stream",
     "text": [
      "epoch 37 [train block 48]: 100%|████████████████| 38/38 [00:09<00:00,  4.09it/s]\n"
     ]
    },
    {
     "name": "stdout",
     "output_type": "stream",
     "text": [
      "[OK] Block 48 | Epoch 37 | Loss: 10.25 | Val Acc: 0.8300 | Time: 22.5s\n"
     ]
    },
    {
     "name": "stderr",
     "output_type": "stream",
     "text": [
      "epoch 38 [train block 48]: 100%|████████████████| 38/38 [00:09<00:00,  4.01it/s]\n"
     ]
    },
    {
     "name": "stdout",
     "output_type": "stream",
     "text": [
      "[OK] Block 48 | Epoch 38 | Loss: 10.23 | Val Acc: 0.8287 | Time: 22.6s\n"
     ]
    },
    {
     "name": "stderr",
     "output_type": "stream",
     "text": [
      "epoch 39 [train block 48]: 100%|████████████████| 38/38 [00:09<00:00,  4.20it/s]\n"
     ]
    },
    {
     "name": "stdout",
     "output_type": "stream",
     "text": [
      "[OK] Block 48 | Epoch 39 | Loss: 10.20 | Val Acc: 0.8306 | Time: 22.1s\n"
     ]
    },
    {
     "name": "stderr",
     "output_type": "stream",
     "text": [
      "epoch 40 [train block 48]: 100%|████████████████| 38/38 [00:09<00:00,  4.08it/s]\n"
     ]
    },
    {
     "name": "stdout",
     "output_type": "stream",
     "text": [
      "[OK] Block 48 | Epoch 40 | Loss: 10.17 | Val Acc: 0.8279 | Time: 22.2s\n",
      "[OK] Best model for block 48 reached Val Acc: 0.8340\n",
      "[OK] Block 48 completed in 890.3s\n",
      "\n",
      " Training on cubes 60 to 71\n",
      "[info] Loading 12 cubes into RAM...\n",
      "[1/12] [loaded] hrl0000b6ff_07_if183j_mtr3: 68443 pixels\n",
      "[2/12] [loaded] frt00012149_07_if166j_mtr3: 192253 pixels\n",
      "[3/12] [loaded] hrl0001c7c0_07_if183j_mtr3: 60794 pixels\n",
      "[4/12] [loaded] frt000095fe_07_if166j_mtr3: 246161 pixels\n",
      "[5/12] [loaded] hrs00018c35_07_if175j_mtr3: 9551 pixels\n",
      "[6/12] [loaded] frt0000c79d_07_if166j_mtr3: 159798 pixels\n",
      "[7/12] [loaded] frt000037ae_07_if166j_mtr3: 319996 pixels\n",
      "[8/12] [loaded] frt000172dd_07_if166j_mtr3: 103879 pixels\n",
      "[9/12] [loaded] frt0001fb74_07_if166j_mtr3: 175266 pixels\n",
      "[10/12] [loaded] frt00013ebc_07_if166j_mtr3: 127183 pixels\n",
      "[11/12] [loaded] hrl00013d8b_07_if183j_mtr3: 31236 pixels\n",
      "[12/12] [loaded] frt0000abcb_07_if166j_mtr3: 214485 pixels\n",
      "[OK] Total loaded samples: 1709045\n"
     ]
    },
    {
     "name": "stderr",
     "output_type": "stream",
     "text": [
      "epoch 1 [train block 60]: 100%|█████████████████| 42/42 [00:10<00:00,  3.99it/s]\n"
     ]
    },
    {
     "name": "stdout",
     "output_type": "stream",
     "text": [
      "[OK] Block 60 | Epoch 1 | Loss: 6.70 | Val Acc: 0.8734 | Time: 23.9s\n",
      "[BEST] Epoch 1 | Val Acc: 0.8734\n"
     ]
    },
    {
     "name": "stderr",
     "output_type": "stream",
     "text": [
      "epoch 2 [train block 60]: 100%|█████████████████| 42/42 [00:09<00:00,  4.22it/s]\n"
     ]
    },
    {
     "name": "stdout",
     "output_type": "stream",
     "text": [
      "[OK] Block 60 | Epoch 2 | Loss: 5.92 | Val Acc: 0.8708 | Time: 23.1s\n"
     ]
    },
    {
     "name": "stderr",
     "output_type": "stream",
     "text": [
      "epoch 3 [train block 60]: 100%|█████████████████| 42/42 [00:10<00:00,  4.12it/s]\n"
     ]
    },
    {
     "name": "stdout",
     "output_type": "stream",
     "text": [
      "[OK] Block 60 | Epoch 3 | Loss: 5.78 | Val Acc: 0.8700 | Time: 23.1s\n"
     ]
    },
    {
     "name": "stderr",
     "output_type": "stream",
     "text": [
      "epoch 4 [train block 60]: 100%|█████████████████| 42/42 [00:09<00:00,  4.23it/s]\n"
     ]
    },
    {
     "name": "stdout",
     "output_type": "stream",
     "text": [
      "[OK] Block 60 | Epoch 4 | Loss: 5.69 | Val Acc: 0.8682 | Time: 22.7s\n"
     ]
    },
    {
     "name": "stderr",
     "output_type": "stream",
     "text": [
      "epoch 5 [train block 60]: 100%|█████████████████| 42/42 [00:10<00:00,  4.06it/s]\n"
     ]
    },
    {
     "name": "stdout",
     "output_type": "stream",
     "text": [
      "[OK] Block 60 | Epoch 5 | Loss: 5.60 | Val Acc: 0.8674 | Time: 23.5s\n"
     ]
    },
    {
     "name": "stderr",
     "output_type": "stream",
     "text": [
      "epoch 6 [train block 60]: 100%|█████████████████| 42/42 [00:10<00:00,  4.16it/s]\n"
     ]
    },
    {
     "name": "stdout",
     "output_type": "stream",
     "text": [
      "[OK] Block 60 | Epoch 6 | Loss: 5.52 | Val Acc: 0.8663 | Time: 23.2s\n"
     ]
    },
    {
     "name": "stderr",
     "output_type": "stream",
     "text": [
      "epoch 7 [train block 60]: 100%|█████████████████| 42/42 [00:10<00:00,  4.15it/s]\n"
     ]
    },
    {
     "name": "stdout",
     "output_type": "stream",
     "text": [
      "[OK] Block 60 | Epoch 7 | Loss: 5.44 | Val Acc: 0.8661 | Time: 23.4s\n"
     ]
    },
    {
     "name": "stderr",
     "output_type": "stream",
     "text": [
      "epoch 8 [train block 60]: 100%|█████████████████| 42/42 [00:10<00:00,  4.05it/s]\n"
     ]
    },
    {
     "name": "stdout",
     "output_type": "stream",
     "text": [
      "[OK] Block 60 | Epoch 8 | Loss: 5.38 | Val Acc: 0.8668 | Time: 23.2s\n"
     ]
    },
    {
     "name": "stderr",
     "output_type": "stream",
     "text": [
      "epoch 9 [train block 60]: 100%|█████████████████| 42/42 [00:09<00:00,  4.22it/s]\n"
     ]
    },
    {
     "name": "stdout",
     "output_type": "stream",
     "text": [
      "[OK] Block 60 | Epoch 9 | Loss: 5.33 | Val Acc: 0.8647 | Time: 23.1s\n"
     ]
    },
    {
     "name": "stderr",
     "output_type": "stream",
     "text": [
      "epoch 10 [train block 60]: 100%|████████████████| 42/42 [00:09<00:00,  4.31it/s]\n"
     ]
    },
    {
     "name": "stdout",
     "output_type": "stream",
     "text": [
      "[OK] Block 60 | Epoch 10 | Loss: 5.29 | Val Acc: 0.8653 | Time: 22.7s\n"
     ]
    },
    {
     "name": "stderr",
     "output_type": "stream",
     "text": [
      "epoch 11 [train block 60]: 100%|████████████████| 42/42 [00:09<00:00,  4.30it/s]\n"
     ]
    },
    {
     "name": "stdout",
     "output_type": "stream",
     "text": [
      "[OK] Block 60 | Epoch 11 | Loss: 5.25 | Val Acc: 0.8638 | Time: 22.8s\n"
     ]
    },
    {
     "name": "stderr",
     "output_type": "stream",
     "text": [
      "epoch 12 [train block 60]: 100%|████████████████| 42/42 [00:10<00:00,  4.12it/s]\n"
     ]
    },
    {
     "name": "stdout",
     "output_type": "stream",
     "text": [
      "[OK] Block 60 | Epoch 12 | Loss: 5.22 | Val Acc: 0.8610 | Time: 23.2s\n"
     ]
    },
    {
     "name": "stderr",
     "output_type": "stream",
     "text": [
      "epoch 13 [train block 60]: 100%|████████████████| 42/42 [00:09<00:00,  4.30it/s]\n"
     ]
    },
    {
     "name": "stdout",
     "output_type": "stream",
     "text": [
      "[OK] Block 60 | Epoch 13 | Loss: 5.18 | Val Acc: 0.8632 | Time: 22.8s\n"
     ]
    },
    {
     "name": "stderr",
     "output_type": "stream",
     "text": [
      "epoch 14 [train block 60]: 100%|████████████████| 42/42 [00:10<00:00,  4.15it/s]\n"
     ]
    },
    {
     "name": "stdout",
     "output_type": "stream",
     "text": [
      "[OK] Block 60 | Epoch 14 | Loss: 5.15 | Val Acc: 0.8636 | Time: 23.3s\n"
     ]
    },
    {
     "name": "stderr",
     "output_type": "stream",
     "text": [
      "epoch 15 [train block 60]: 100%|████████████████| 42/42 [00:09<00:00,  4.26it/s]\n"
     ]
    },
    {
     "name": "stdout",
     "output_type": "stream",
     "text": [
      "[OK] Block 60 | Epoch 15 | Loss: 5.12 | Val Acc: 0.8631 | Time: 22.8s\n"
     ]
    },
    {
     "name": "stderr",
     "output_type": "stream",
     "text": [
      "epoch 16 [train block 60]: 100%|████████████████| 42/42 [00:10<00:00,  4.11it/s]\n"
     ]
    },
    {
     "name": "stdout",
     "output_type": "stream",
     "text": [
      "[OK] Block 60 | Epoch 16 | Loss: 5.09 | Val Acc: 0.8624 | Time: 23.2s\n"
     ]
    },
    {
     "name": "stderr",
     "output_type": "stream",
     "text": [
      "epoch 17 [train block 60]: 100%|████████████████| 42/42 [00:09<00:00,  4.23it/s]\n"
     ]
    },
    {
     "name": "stdout",
     "output_type": "stream",
     "text": [
      "[OK] Block 60 | Epoch 17 | Loss: 5.07 | Val Acc: 0.8620 | Time: 23.0s\n"
     ]
    },
    {
     "name": "stderr",
     "output_type": "stream",
     "text": [
      "epoch 18 [train block 60]: 100%|████████████████| 42/42 [00:09<00:00,  4.24it/s]\n"
     ]
    },
    {
     "name": "stdout",
     "output_type": "stream",
     "text": [
      "[OK] Block 60 | Epoch 18 | Loss: 5.04 | Val Acc: 0.8604 | Time: 23.3s\n"
     ]
    },
    {
     "name": "stderr",
     "output_type": "stream",
     "text": [
      "epoch 19 [train block 60]: 100%|████████████████| 42/42 [00:09<00:00,  4.23it/s]\n"
     ]
    },
    {
     "name": "stdout",
     "output_type": "stream",
     "text": [
      "[OK] Block 60 | Epoch 19 | Loss: 5.02 | Val Acc: 0.8594 | Time: 23.0s\n"
     ]
    },
    {
     "name": "stderr",
     "output_type": "stream",
     "text": [
      "epoch 20 [train block 60]: 100%|████████████████| 42/42 [00:09<00:00,  4.30it/s]\n"
     ]
    },
    {
     "name": "stdout",
     "output_type": "stream",
     "text": [
      "[OK] Block 60 | Epoch 20 | Loss: 5.00 | Val Acc: 0.8610 | Time: 22.7s\n"
     ]
    },
    {
     "name": "stderr",
     "output_type": "stream",
     "text": [
      "epoch 21 [train block 60]: 100%|████████████████| 42/42 [00:09<00:00,  4.26it/s]\n"
     ]
    },
    {
     "name": "stdout",
     "output_type": "stream",
     "text": [
      "[OK] Block 60 | Epoch 21 | Loss: 4.99 | Val Acc: 0.8582 | Time: 22.9s\n"
     ]
    },
    {
     "name": "stderr",
     "output_type": "stream",
     "text": [
      "epoch 22 [train block 60]: 100%|████████████████| 42/42 [00:10<00:00,  4.06it/s]\n"
     ]
    },
    {
     "name": "stdout",
     "output_type": "stream",
     "text": [
      "[OK] Block 60 | Epoch 22 | Loss: 4.97 | Val Acc: 0.8605 | Time: 23.5s\n"
     ]
    },
    {
     "name": "stderr",
     "output_type": "stream",
     "text": [
      "epoch 23 [train block 60]: 100%|████████████████| 42/42 [00:09<00:00,  4.24it/s]\n"
     ]
    },
    {
     "name": "stdout",
     "output_type": "stream",
     "text": [
      "[OK] Block 60 | Epoch 23 | Loss: 4.95 | Val Acc: 0.8581 | Time: 23.0s\n"
     ]
    },
    {
     "name": "stderr",
     "output_type": "stream",
     "text": [
      "epoch 24 [train block 60]: 100%|████████████████| 42/42 [00:10<00:00,  4.08it/s]\n"
     ]
    },
    {
     "name": "stdout",
     "output_type": "stream",
     "text": [
      "[OK] Block 60 | Epoch 24 | Loss: 4.93 | Val Acc: 0.8579 | Time: 23.3s\n"
     ]
    },
    {
     "name": "stderr",
     "output_type": "stream",
     "text": [
      "epoch 25 [train block 60]: 100%|████████████████| 42/42 [00:10<00:00,  3.94it/s]\n"
     ]
    },
    {
     "name": "stdout",
     "output_type": "stream",
     "text": [
      "[OK] Block 60 | Epoch 25 | Loss: 4.91 | Val Acc: 0.8580 | Time: 23.7s\n"
     ]
    },
    {
     "name": "stderr",
     "output_type": "stream",
     "text": [
      "epoch 26 [train block 60]: 100%|████████████████| 42/42 [00:10<00:00,  4.02it/s]\n"
     ]
    },
    {
     "name": "stdout",
     "output_type": "stream",
     "text": [
      "[OK] Block 60 | Epoch 26 | Loss: 4.89 | Val Acc: 0.8570 | Time: 23.5s\n"
     ]
    },
    {
     "name": "stderr",
     "output_type": "stream",
     "text": [
      "epoch 27 [train block 60]: 100%|████████████████| 42/42 [00:10<00:00,  4.05it/s]\n"
     ]
    },
    {
     "name": "stdout",
     "output_type": "stream",
     "text": [
      "[OK] Block 60 | Epoch 27 | Loss: 4.88 | Val Acc: 0.8589 | Time: 23.4s\n"
     ]
    },
    {
     "name": "stderr",
     "output_type": "stream",
     "text": [
      "epoch 28 [train block 60]: 100%|████████████████| 42/42 [00:09<00:00,  4.24it/s]\n"
     ]
    },
    {
     "name": "stdout",
     "output_type": "stream",
     "text": [
      "[OK] Block 60 | Epoch 28 | Loss: 4.86 | Val Acc: 0.8582 | Time: 22.7s\n"
     ]
    },
    {
     "name": "stderr",
     "output_type": "stream",
     "text": [
      "epoch 29 [train block 60]: 100%|████████████████| 42/42 [00:09<00:00,  4.25it/s]\n"
     ]
    },
    {
     "name": "stdout",
     "output_type": "stream",
     "text": [
      "[OK] Block 60 | Epoch 29 | Loss: 4.85 | Val Acc: 0.8592 | Time: 23.0s\n"
     ]
    },
    {
     "name": "stderr",
     "output_type": "stream",
     "text": [
      "epoch 30 [train block 60]: 100%|████████████████| 42/42 [00:09<00:00,  4.33it/s]\n"
     ]
    },
    {
     "name": "stdout",
     "output_type": "stream",
     "text": [
      "[OK] Block 60 | Epoch 30 | Loss: 4.83 | Val Acc: 0.8607 | Time: 22.7s\n"
     ]
    },
    {
     "name": "stderr",
     "output_type": "stream",
     "text": [
      "epoch 31 [train block 60]: 100%|████████████████| 42/42 [00:09<00:00,  4.24it/s]\n"
     ]
    },
    {
     "name": "stdout",
     "output_type": "stream",
     "text": [
      "[OK] Block 60 | Epoch 31 | Loss: 4.82 | Val Acc: 0.8582 | Time: 22.9s\n"
     ]
    },
    {
     "name": "stderr",
     "output_type": "stream",
     "text": [
      "epoch 32 [train block 60]: 100%|████████████████| 42/42 [00:10<00:00,  4.16it/s]\n"
     ]
    },
    {
     "name": "stdout",
     "output_type": "stream",
     "text": [
      "[OK] Block 60 | Epoch 32 | Loss: 4.81 | Val Acc: 0.8589 | Time: 23.0s\n"
     ]
    },
    {
     "name": "stderr",
     "output_type": "stream",
     "text": [
      "epoch 33 [train block 60]: 100%|████████████████| 42/42 [00:09<00:00,  4.20it/s]\n"
     ]
    },
    {
     "name": "stdout",
     "output_type": "stream",
     "text": [
      "[OK] Block 60 | Epoch 33 | Loss: 4.79 | Val Acc: 0.8600 | Time: 23.0s\n"
     ]
    },
    {
     "name": "stderr",
     "output_type": "stream",
     "text": [
      "epoch 34 [train block 60]: 100%|████████████████| 42/42 [00:10<00:00,  4.17it/s]\n"
     ]
    },
    {
     "name": "stdout",
     "output_type": "stream",
     "text": [
      "[OK] Block 60 | Epoch 34 | Loss: 4.78 | Val Acc: 0.8565 | Time: 23.0s\n"
     ]
    },
    {
     "name": "stderr",
     "output_type": "stream",
     "text": [
      "epoch 35 [train block 60]: 100%|████████████████| 42/42 [00:09<00:00,  4.24it/s]\n"
     ]
    },
    {
     "name": "stdout",
     "output_type": "stream",
     "text": [
      "[OK] Block 60 | Epoch 35 | Loss: 4.76 | Val Acc: 0.8585 | Time: 22.8s\n"
     ]
    },
    {
     "name": "stderr",
     "output_type": "stream",
     "text": [
      "epoch 36 [train block 60]: 100%|████████████████| 42/42 [00:09<00:00,  4.25it/s]\n"
     ]
    },
    {
     "name": "stdout",
     "output_type": "stream",
     "text": [
      "[OK] Block 60 | Epoch 36 | Loss: 4.75 | Val Acc: 0.8585 | Time: 22.9s\n"
     ]
    },
    {
     "name": "stderr",
     "output_type": "stream",
     "text": [
      "epoch 37 [train block 60]: 100%|████████████████| 42/42 [00:09<00:00,  4.23it/s]\n"
     ]
    },
    {
     "name": "stdout",
     "output_type": "stream",
     "text": [
      "[OK] Block 60 | Epoch 37 | Loss: 4.73 | Val Acc: 0.8573 | Time: 22.7s\n"
     ]
    },
    {
     "name": "stderr",
     "output_type": "stream",
     "text": [
      "epoch 38 [train block 60]: 100%|████████████████| 42/42 [00:10<00:00,  4.05it/s]\n"
     ]
    },
    {
     "name": "stdout",
     "output_type": "stream",
     "text": [
      "[OK] Block 60 | Epoch 38 | Loss: 4.71 | Val Acc: 0.8570 | Time: 23.5s\n"
     ]
    },
    {
     "name": "stderr",
     "output_type": "stream",
     "text": [
      "epoch 39 [train block 60]: 100%|████████████████| 42/42 [00:10<00:00,  4.16it/s]\n"
     ]
    },
    {
     "name": "stdout",
     "output_type": "stream",
     "text": [
      "[OK] Block 60 | Epoch 39 | Loss: 4.70 | Val Acc: 0.8563 | Time: 22.9s\n"
     ]
    },
    {
     "name": "stderr",
     "output_type": "stream",
     "text": [
      "epoch 40 [train block 60]: 100%|████████████████| 42/42 [00:10<00:00,  4.04it/s]\n"
     ]
    },
    {
     "name": "stdout",
     "output_type": "stream",
     "text": [
      "[OK] Block 60 | Epoch 40 | Loss: 4.69 | Val Acc: 0.8554 | Time: 23.3s\n",
      "[OK] Best model for block 60 reached Val Acc: 0.8734\n",
      "[GLOBAL BEST] Block 60 | Val Acc: 0.8734\n",
      "[OK] Block 60 completed in 924.0s\n",
      "\n",
      " Training on cubes 72 to 80\n",
      "[info] Loading 9 cubes into RAM...\n",
      "[1/9] [loaded] frt00013d3b_07_if165j_mtr3: 86138 pixels\n",
      "[2/9] [loaded] frt00018dca_07_if166j_mtr3: 22729 pixels\n",
      "[3/9] [loaded] frt00023728_07_if166j_mtr3: 41447 pixels\n",
      "[4/9] [loaded] frt000186fa_07_if166j_mtr3: 97790 pixels\n",
      "[5/9] [loaded] frt00008530_07_if166j_mtr3: 229492 pixels\n",
      "[6/9] [loaded] hrl00010963_07_if183j_mtr3: 74275 pixels\n",
      "[7/9] [loaded] frt0000c5ea_07_if166j_mtr3: 198224 pixels\n",
      "[8/9] [loaded] frt00003fb9_07_if166j_mtr3: 429990 pixels\n",
      "[9/9] [loaded] frt0000aa03_07_if166j_mtr3: 195109 pixels\n",
      "[OK] Total loaded samples: 1375194\n"
     ]
    },
    {
     "name": "stderr",
     "output_type": "stream",
     "text": [
      "epoch 1 [train block 72]: 100%|█████████████████| 34/34 [00:08<00:00,  4.05it/s]\n"
     ]
    },
    {
     "name": "stdout",
     "output_type": "stream",
     "text": [
      "[OK] Block 72 | Epoch 1 | Loss: 14.42 | Val Acc: 0.8574 | Time: 21.4s\n",
      "[BEST] Epoch 1 | Val Acc: 0.8574\n"
     ]
    },
    {
     "name": "stderr",
     "output_type": "stream",
     "text": [
      "epoch 2 [train block 72]: 100%|█████████████████| 34/34 [00:08<00:00,  4.05it/s]\n"
     ]
    },
    {
     "name": "stdout",
     "output_type": "stream",
     "text": [
      "[OK] Block 72 | Epoch 2 | Loss: 12.09 | Val Acc: 0.8606 | Time: 21.4s\n",
      "[BEST] Epoch 2 | Val Acc: 0.8606\n"
     ]
    },
    {
     "name": "stderr",
     "output_type": "stream",
     "text": [
      "epoch 3 [train block 72]: 100%|█████████████████| 34/34 [00:08<00:00,  4.12it/s]\n"
     ]
    },
    {
     "name": "stdout",
     "output_type": "stream",
     "text": [
      "[OK] Block 72 | Epoch 3 | Loss: 11.57 | Val Acc: 0.8598 | Time: 21.3s\n"
     ]
    },
    {
     "name": "stderr",
     "output_type": "stream",
     "text": [
      "epoch 4 [train block 72]: 100%|█████████████████| 34/34 [00:08<00:00,  3.98it/s]\n"
     ]
    },
    {
     "name": "stdout",
     "output_type": "stream",
     "text": [
      "[OK] Block 72 | Epoch 4 | Loss: 11.23 | Val Acc: 0.8635 | Time: 21.8s\n",
      "[BEST] Epoch 4 | Val Acc: 0.8635\n"
     ]
    },
    {
     "name": "stderr",
     "output_type": "stream",
     "text": [
      "epoch 5 [train block 72]: 100%|█████████████████| 34/34 [00:08<00:00,  4.11it/s]\n"
     ]
    },
    {
     "name": "stdout",
     "output_type": "stream",
     "text": [
      "[OK] Block 72 | Epoch 5 | Loss: 10.99 | Val Acc: 0.8602 | Time: 21.3s\n"
     ]
    },
    {
     "name": "stderr",
     "output_type": "stream",
     "text": [
      "epoch 6 [train block 72]: 100%|█████████████████| 34/34 [00:08<00:00,  4.16it/s]\n"
     ]
    },
    {
     "name": "stdout",
     "output_type": "stream",
     "text": [
      "[OK] Block 72 | Epoch 6 | Loss: 10.78 | Val Acc: 0.8586 | Time: 21.2s\n"
     ]
    },
    {
     "name": "stderr",
     "output_type": "stream",
     "text": [
      "epoch 7 [train block 72]: 100%|█████████████████| 34/34 [00:08<00:00,  4.06it/s]\n"
     ]
    },
    {
     "name": "stdout",
     "output_type": "stream",
     "text": [
      "[OK] Block 72 | Epoch 7 | Loss: 10.63 | Val Acc: 0.8567 | Time: 21.7s\n"
     ]
    },
    {
     "name": "stderr",
     "output_type": "stream",
     "text": [
      "epoch 8 [train block 72]: 100%|█████████████████| 34/34 [00:08<00:00,  4.13it/s]\n"
     ]
    },
    {
     "name": "stdout",
     "output_type": "stream",
     "text": [
      "[OK] Block 72 | Epoch 8 | Loss: 10.51 | Val Acc: 0.8573 | Time: 21.1s\n"
     ]
    },
    {
     "name": "stderr",
     "output_type": "stream",
     "text": [
      "epoch 9 [train block 72]: 100%|█████████████████| 34/34 [00:08<00:00,  4.04it/s]\n"
     ]
    },
    {
     "name": "stdout",
     "output_type": "stream",
     "text": [
      "[OK] Block 72 | Epoch 9 | Loss: 10.39 | Val Acc: 0.8582 | Time: 21.8s\n"
     ]
    },
    {
     "name": "stderr",
     "output_type": "stream",
     "text": [
      "epoch 10 [train block 72]: 100%|████████████████| 34/34 [00:08<00:00,  4.11it/s]\n"
     ]
    },
    {
     "name": "stdout",
     "output_type": "stream",
     "text": [
      "[OK] Block 72 | Epoch 10 | Loss: 10.29 | Val Acc: 0.8552 | Time: 21.1s\n"
     ]
    },
    {
     "name": "stderr",
     "output_type": "stream",
     "text": [
      "epoch 11 [train block 72]: 100%|████████████████| 34/34 [00:08<00:00,  4.13it/s]\n"
     ]
    },
    {
     "name": "stdout",
     "output_type": "stream",
     "text": [
      "[OK] Block 72 | Epoch 11 | Loss: 10.18 | Val Acc: 0.8577 | Time: 21.4s\n"
     ]
    },
    {
     "name": "stderr",
     "output_type": "stream",
     "text": [
      "epoch 12 [train block 72]: 100%|████████████████| 34/34 [00:08<00:00,  4.03it/s]\n"
     ]
    },
    {
     "name": "stdout",
     "output_type": "stream",
     "text": [
      "[OK] Block 72 | Epoch 12 | Loss: 10.09 | Val Acc: 0.8573 | Time: 21.3s\n"
     ]
    },
    {
     "name": "stderr",
     "output_type": "stream",
     "text": [
      "epoch 13 [train block 72]: 100%|████████████████| 34/34 [00:08<00:00,  4.14it/s]\n"
     ]
    },
    {
     "name": "stdout",
     "output_type": "stream",
     "text": [
      "[OK] Block 72 | Epoch 13 | Loss: 10.02 | Val Acc: 0.8563 | Time: 21.1s\n"
     ]
    },
    {
     "name": "stderr",
     "output_type": "stream",
     "text": [
      "epoch 14 [train block 72]: 100%|████████████████| 34/34 [00:08<00:00,  4.03it/s]\n"
     ]
    },
    {
     "name": "stdout",
     "output_type": "stream",
     "text": [
      "[OK] Block 72 | Epoch 14 | Loss: 9.95 | Val Acc: 0.8573 | Time: 21.6s\n"
     ]
    },
    {
     "name": "stderr",
     "output_type": "stream",
     "text": [
      "epoch 15 [train block 72]: 100%|████████████████| 34/34 [00:08<00:00,  4.01it/s]\n"
     ]
    },
    {
     "name": "stdout",
     "output_type": "stream",
     "text": [
      "[OK] Block 72 | Epoch 15 | Loss: 9.89 | Val Acc: 0.8570 | Time: 21.3s\n"
     ]
    },
    {
     "name": "stderr",
     "output_type": "stream",
     "text": [
      "epoch 16 [train block 72]: 100%|████████████████| 34/34 [00:08<00:00,  4.07it/s]\n"
     ]
    },
    {
     "name": "stdout",
     "output_type": "stream",
     "text": [
      "[OK] Block 72 | Epoch 16 | Loss: 9.82 | Val Acc: 0.8568 | Time: 21.6s\n"
     ]
    },
    {
     "name": "stderr",
     "output_type": "stream",
     "text": [
      "epoch 17 [train block 72]: 100%|████████████████| 34/34 [00:08<00:00,  3.96it/s]\n"
     ]
    },
    {
     "name": "stdout",
     "output_type": "stream",
     "text": [
      "[OK] Block 72 | Epoch 17 | Loss: 9.76 | Val Acc: 0.8553 | Time: 21.7s\n"
     ]
    },
    {
     "name": "stderr",
     "output_type": "stream",
     "text": [
      "epoch 18 [train block 72]: 100%|████████████████| 34/34 [00:08<00:00,  3.97it/s]\n"
     ]
    },
    {
     "name": "stdout",
     "output_type": "stream",
     "text": [
      "[OK] Block 72 | Epoch 18 | Loss: 9.71 | Val Acc: 0.8568 | Time: 21.5s\n"
     ]
    },
    {
     "name": "stderr",
     "output_type": "stream",
     "text": [
      "epoch 19 [train block 72]: 100%|████████████████| 34/34 [00:08<00:00,  4.14it/s]\n"
     ]
    },
    {
     "name": "stdout",
     "output_type": "stream",
     "text": [
      "[OK] Block 72 | Epoch 19 | Loss: 9.67 | Val Acc: 0.8568 | Time: 21.6s\n"
     ]
    },
    {
     "name": "stderr",
     "output_type": "stream",
     "text": [
      "epoch 20 [train block 72]: 100%|████████████████| 34/34 [00:08<00:00,  3.99it/s]\n"
     ]
    },
    {
     "name": "stdout",
     "output_type": "stream",
     "text": [
      "[OK] Block 72 | Epoch 20 | Loss: 9.63 | Val Acc: 0.8572 | Time: 21.4s\n"
     ]
    },
    {
     "name": "stderr",
     "output_type": "stream",
     "text": [
      "epoch 21 [train block 72]: 100%|████████████████| 34/34 [00:08<00:00,  4.06it/s]\n"
     ]
    },
    {
     "name": "stdout",
     "output_type": "stream",
     "text": [
      "[OK] Block 72 | Epoch 21 | Loss: 9.60 | Val Acc: 0.8577 | Time: 21.4s\n"
     ]
    },
    {
     "name": "stderr",
     "output_type": "stream",
     "text": [
      "epoch 22 [train block 72]: 100%|████████████████| 34/34 [00:08<00:00,  4.03it/s]\n"
     ]
    },
    {
     "name": "stdout",
     "output_type": "stream",
     "text": [
      "[OK] Block 72 | Epoch 22 | Loss: 9.56 | Val Acc: 0.8560 | Time: 21.3s\n"
     ]
    },
    {
     "name": "stderr",
     "output_type": "stream",
     "text": [
      "epoch 23 [train block 72]: 100%|████████████████| 34/34 [00:08<00:00,  4.13it/s]\n"
     ]
    },
    {
     "name": "stdout",
     "output_type": "stream",
     "text": [
      "[OK] Block 72 | Epoch 23 | Loss: 9.53 | Val Acc: 0.8579 | Time: 21.3s\n"
     ]
    },
    {
     "name": "stderr",
     "output_type": "stream",
     "text": [
      "epoch 24 [train block 72]: 100%|████████████████| 34/34 [00:08<00:00,  3.93it/s]\n"
     ]
    },
    {
     "name": "stdout",
     "output_type": "stream",
     "text": [
      "[OK] Block 72 | Epoch 24 | Loss: 9.50 | Val Acc: 0.8557 | Time: 21.6s\n"
     ]
    },
    {
     "name": "stderr",
     "output_type": "stream",
     "text": [
      "epoch 25 [train block 72]: 100%|████████████████| 34/34 [00:08<00:00,  4.12it/s]\n"
     ]
    },
    {
     "name": "stdout",
     "output_type": "stream",
     "text": [
      "[OK] Block 72 | Epoch 25 | Loss: 9.47 | Val Acc: 0.8567 | Time: 21.4s\n"
     ]
    },
    {
     "name": "stderr",
     "output_type": "stream",
     "text": [
      "epoch 26 [train block 72]: 100%|████████████████| 34/34 [00:08<00:00,  3.88it/s]\n"
     ]
    },
    {
     "name": "stdout",
     "output_type": "stream",
     "text": [
      "[OK] Block 72 | Epoch 26 | Loss: 9.43 | Val Acc: 0.8613 | Time: 22.0s\n"
     ]
    },
    {
     "name": "stderr",
     "output_type": "stream",
     "text": [
      "epoch 27 [train block 72]: 100%|████████████████| 34/34 [00:08<00:00,  3.99it/s]\n"
     ]
    },
    {
     "name": "stdout",
     "output_type": "stream",
     "text": [
      "[OK] Block 72 | Epoch 27 | Loss: 9.40 | Val Acc: 0.8576 | Time: 21.6s\n"
     ]
    },
    {
     "name": "stderr",
     "output_type": "stream",
     "text": [
      "epoch 28 [train block 72]: 100%|████████████████| 34/34 [00:08<00:00,  4.12it/s]\n"
     ]
    },
    {
     "name": "stdout",
     "output_type": "stream",
     "text": [
      "[OK] Block 72 | Epoch 28 | Loss: 9.37 | Val Acc: 0.8577 | Time: 21.0s\n"
     ]
    },
    {
     "name": "stderr",
     "output_type": "stream",
     "text": [
      "epoch 29 [train block 72]: 100%|████████████████| 34/34 [00:08<00:00,  4.10it/s]\n"
     ]
    },
    {
     "name": "stdout",
     "output_type": "stream",
     "text": [
      "[OK] Block 72 | Epoch 29 | Loss: 9.34 | Val Acc: 0.8592 | Time: 21.3s\n"
     ]
    },
    {
     "name": "stderr",
     "output_type": "stream",
     "text": [
      "epoch 30 [train block 72]: 100%|████████████████| 34/34 [00:08<00:00,  4.00it/s]\n"
     ]
    },
    {
     "name": "stdout",
     "output_type": "stream",
     "text": [
      "[OK] Block 72 | Epoch 30 | Loss: 9.31 | Val Acc: 0.8603 | Time: 21.5s\n"
     ]
    },
    {
     "name": "stderr",
     "output_type": "stream",
     "text": [
      "epoch 31 [train block 72]: 100%|████████████████| 34/34 [00:08<00:00,  4.07it/s]\n"
     ]
    },
    {
     "name": "stdout",
     "output_type": "stream",
     "text": [
      "[OK] Block 72 | Epoch 31 | Loss: 9.28 | Val Acc: 0.8602 | Time: 21.4s\n"
     ]
    },
    {
     "name": "stderr",
     "output_type": "stream",
     "text": [
      "epoch 32 [train block 72]: 100%|████████████████| 34/34 [00:08<00:00,  4.02it/s]\n"
     ]
    },
    {
     "name": "stdout",
     "output_type": "stream",
     "text": [
      "[OK] Block 72 | Epoch 32 | Loss: 9.25 | Val Acc: 0.8561 | Time: 21.5s\n"
     ]
    },
    {
     "name": "stderr",
     "output_type": "stream",
     "text": [
      "epoch 33 [train block 72]: 100%|████████████████| 34/34 [00:08<00:00,  4.06it/s]\n"
     ]
    },
    {
     "name": "stdout",
     "output_type": "stream",
     "text": [
      "[OK] Block 72 | Epoch 33 | Loss: 9.23 | Val Acc: 0.8611 | Time: 21.3s\n"
     ]
    },
    {
     "name": "stderr",
     "output_type": "stream",
     "text": [
      "epoch 34 [train block 72]: 100%|████████████████| 34/34 [00:08<00:00,  4.03it/s]\n"
     ]
    },
    {
     "name": "stdout",
     "output_type": "stream",
     "text": [
      "[OK] Block 72 | Epoch 34 | Loss: 9.20 | Val Acc: 0.8593 | Time: 21.1s\n"
     ]
    },
    {
     "name": "stderr",
     "output_type": "stream",
     "text": [
      "epoch 35 [train block 72]: 100%|████████████████| 34/34 [00:08<00:00,  3.87it/s]\n"
     ]
    },
    {
     "name": "stdout",
     "output_type": "stream",
     "text": [
      "[OK] Block 72 | Epoch 35 | Loss: 9.18 | Val Acc: 0.8597 | Time: 21.9s\n"
     ]
    },
    {
     "name": "stderr",
     "output_type": "stream",
     "text": [
      "epoch 36 [train block 72]: 100%|████████████████| 34/34 [00:08<00:00,  3.95it/s]\n"
     ]
    },
    {
     "name": "stdout",
     "output_type": "stream",
     "text": [
      "[OK] Block 72 | Epoch 36 | Loss: 9.16 | Val Acc: 0.8611 | Time: 21.6s\n"
     ]
    },
    {
     "name": "stderr",
     "output_type": "stream",
     "text": [
      "epoch 37 [train block 72]: 100%|████████████████| 34/34 [00:08<00:00,  4.03it/s]\n"
     ]
    },
    {
     "name": "stdout",
     "output_type": "stream",
     "text": [
      "[OK] Block 72 | Epoch 37 | Loss: 9.13 | Val Acc: 0.8630 | Time: 21.6s\n"
     ]
    },
    {
     "name": "stderr",
     "output_type": "stream",
     "text": [
      "epoch 38 [train block 72]: 100%|████████████████| 34/34 [00:08<00:00,  3.99it/s]\n"
     ]
    },
    {
     "name": "stdout",
     "output_type": "stream",
     "text": [
      "[OK] Block 72 | Epoch 38 | Loss: 9.11 | Val Acc: 0.8613 | Time: 21.8s\n"
     ]
    },
    {
     "name": "stderr",
     "output_type": "stream",
     "text": [
      "epoch 39 [train block 72]: 100%|████████████████| 34/34 [00:08<00:00,  3.87it/s]\n"
     ]
    },
    {
     "name": "stdout",
     "output_type": "stream",
     "text": [
      "[OK] Block 72 | Epoch 39 | Loss: 9.08 | Val Acc: 0.8623 | Time: 21.8s\n"
     ]
    },
    {
     "name": "stderr",
     "output_type": "stream",
     "text": [
      "epoch 40 [train block 72]: 100%|████████████████| 34/34 [00:08<00:00,  4.00it/s]\n"
     ]
    },
    {
     "name": "stdout",
     "output_type": "stream",
     "text": [
      "[OK] Block 72 | Epoch 40 | Loss: 9.06 | Val Acc: 0.8618 | Time: 21.4s\n",
      "[OK] Best model for block 72 reached Val Acc: 0.8635\n",
      "[OK] Block 72 completed in 858.3s\n",
      "[FINAL] Restored global best model with Val Acc: 0.8734\n",
      "\n",
      "[OK] Total Training Time: 7236.2s\n"
     ]
    }
   ],
   "source": [
    "# training loop over all train cubes\n",
    "\n",
    "# initialize model, optimizer, and loss function\n",
    "model = SpectralCNN().to(device)\n",
    "optimizer = torch.optim.Adam(model.parameters(), lr=1e-3)\n",
    "criterion = nn.CrossEntropyLoss()\n",
    "\n",
    "# training loop\n",
    "epochs_per_block = 40\n",
    "block_size = 12\n",
    "\n",
    "# total training time timer\n",
    "start_total_time = time.time()\n",
    "\n",
    "# global best model tracking (across all blocks)\n",
    "global_best_acc = 0.0\n",
    "global_best_state = None\n",
    "\n",
    "for block_start in range(0, len(train_cubes), block_size):\n",
    "    subset = train_cubes[block_start:block_start + block_size]\n",
    "    print(f\"\\n Training on cubes {block_start} to {block_start + len(subset) - 1}\")\n",
    "    \n",
    "    train_ds = CRISMDatasetSubsetRAM(subset, cube_to_paths)\n",
    "    train_loader = DataLoader(train_ds, batch_size=40960, shuffle=True, num_workers=18, pin_memory=True)\n",
    "\n",
    "    # start block timer\n",
    "    block_start_time = time.time()\n",
    "\n",
    "    # track best epoch\n",
    "    best_val_acc = 0.0\n",
    "    best_model_state = None\n",
    "    \n",
    "    for epoch in range(1, epochs_per_block + 1):\n",
    "        model.train()\n",
    "        total_loss = 0\n",
    "        start_time = time.time()\n",
    "\n",
    "        # tqdm adds a live progress bar with ETA and speed\n",
    "        for X_batch, y_batch in tqdm(train_loader, desc=f\"epoch {epoch} [train block {block_start}]\"):\n",
    "            X_batch = X_batch.to(device)\n",
    "            y_batch = y_batch.to(device)\n",
    "\n",
    "            optimizer.zero_grad()\n",
    "            output = model(X_batch)\n",
    "            loss = criterion(output, y_batch)\n",
    "            loss.backward()\n",
    "            optimizer.step()\n",
    "\n",
    "            total_loss += loss.item()\n",
    "\n",
    "        # run validation\n",
    "        model.eval()\n",
    "        correct = total = 0\n",
    "        with torch.no_grad():\n",
    "            for X_batch, y_batch in val_loader:\n",
    "                X_batch = X_batch.to(device)\n",
    "                y_batch = y_batch.to(device)\n",
    "                preds = model(X_batch).argmax(dim=1)\n",
    "                correct += (preds == y_batch).sum().item()\n",
    "                total += y_batch.size(0)\n",
    "\n",
    "        val_acc = correct / total\n",
    "        duration = time.time() - start_time\n",
    "        print(f\"[OK] Block {block_start} | Epoch {epoch} | Loss: {total_loss:.2f} | Val Acc: {val_acc:.4f} | Time: {duration:.1f}s\")\n",
    "\n",
    "        # update block best model if this epoch is best so far\n",
    "        if val_acc > best_val_acc:\n",
    "            best_val_acc = val_acc\n",
    "            best_model_state = model.state_dict()\n",
    "            print(f\"[BEST] Epoch {epoch} | Val Acc: {val_acc:.4f}\")\n",
    "\n",
    "    # log best accuracy in this block\n",
    "    print(f\"[OK] Best model for block {block_start} reached Val Acc: {best_val_acc:.4f}\")\n",
    "\n",
    "    # update global best model if needed\n",
    "    if best_val_acc > global_best_acc:\n",
    "        global_best_acc = best_val_acc\n",
    "        global_best_state = best_model_state\n",
    "        print(f\"[GLOBAL BEST] Block {block_start} | Val Acc: {best_val_acc:.4f}\")\n",
    "\n",
    "    \n",
    "    # clear memory after block training\n",
    "    # delete dataset and subset references\n",
    "    del train_ds\n",
    "    del subset\n",
    "    # force garbage collection\n",
    "    gc.collect()\n",
    "    \n",
    "    # block timer end\n",
    "    block_end_time = time.time()\n",
    "    block_duration = block_end_time - block_start_time\n",
    "    print(f\"[OK] Block {block_start} completed in {block_duration:.1f}s\")\n",
    "\n",
    "\n",
    "# restore global best model\n",
    "if global_best_state is not None:\n",
    "    model.load_state_dict(global_best_state)\n",
    "    print(f\"[FINAL] Restored global best model with Val Acc: {global_best_acc:.4f}\")\n",
    "\n",
    "# total learning time\n",
    "total_learning_duration = time.time() - start_total_time\n",
    "print(f\"\\n[OK] Total Training Time: {total_learning_duration:.1f}s\")"
   ]
  },
  {
   "cell_type": "code",
   "execution_count": 8,
   "id": "5444119d-d428-4e26-bd2b-10e4e5cda1fb",
   "metadata": {},
   "outputs": [],
   "source": [
    "# clear training and validation data from memory\n",
    "try:\n",
    "    del train_ds\n",
    "    del subset\n",
    "    del train_loader\n",
    "    del val_loader\n",
    "    del val_ds\n",
    "except NameError:\n",
    "    # skip if already deleted or out of scope\n",
    "    pass\n",
    "\n",
    "# force garbage collection\n",
    "import gc\n",
    "gc.collect()\n",
    "# clears cached GPU memory\n",
    "torch.cuda.empty_cache()"
   ]
  },
  {
   "cell_type": "code",
   "execution_count": 9,
   "id": "dc42ba17-c75f-4023-a526-590685898c52",
   "metadata": {},
   "outputs": [
    {
     "name": "stdout",
     "output_type": "stream",
     "text": [
      "[info] Loading 28 cubes into RAM...\n",
      "[1/28] [loaded] frt0000c202_07_if165j_mtr3: 201990 pixels\n",
      "[2/28] [loaded] frt0000d6d6_07_if166j_mtr3: 141886 pixels\n",
      "[3/28] [loaded] frt000161ef_07_if167j_mtr3: 93605 pixels\n",
      "[4/28] [loaded] hrs00012aa7_07_if175j_mtr3: 45132 pixels\n",
      "[5/28] [loaded] hrl0001b769_07_if183j_mtr3: 101887 pixels\n",
      "[6/28] [loaded] frt00021da6_07_if166j_mtr3: 43045 pixels\n",
      "[7/28] [loaded] hrl000116c6_07_if183j_mtr3: 118360 pixels\n",
      "[8/28] [loaded] frt00009c31_07_if166j_mtr3: 212648 pixels\n",
      "[9/28] [loaded] frt0000bfd1_07_if166j_mtr3: 156969 pixels\n",
      "[10/28] [loaded] frt000093be_07_if166j_mtr3: 288048 pixels\n",
      "[11/28] [loaded] frt00008389_07_if166j_mtr3: 380642 pixels\n",
      "[12/28] [loaded] frt000174f4_07_if166j_mtr3: 47459 pixels\n",
      "[13/28] [loaded] frt0000bec0_07_if165j_mtr3: 131165 pixels\n",
      "[14/28] [loaded] frt00011d4c_07_if166j_mtr3: 430661 pixels\n",
      "[15/28] [loaded] hrl0000cc16_07_if184j_mtr3: 122464 pixels\n",
      "[16/28] [loaded] frt0000c968_07_if166j_mtr3: 171121 pixels\n",
      "[17/28] [loaded] hrs00011c01_07_if175j_mtr3: 57649 pixels\n",
      "[18/28] [loaded] frt0000c62b_07_if166j_mtr3: 226878 pixels\n",
      "[19/28] [loaded] frt00007bc8_07_if166j_mtr3: 467483 pixels\n",
      "[20/28] [loaded] frt00017103_07_if165j_mtr3: 27919 pixels\n",
      "[21/28] [loaded] frt00016655_07_if166j_mtr3: 13050 pixels\n",
      "[22/28] [loaded] frt0001487a_07_if166j_mtr3: 115442 pixels\n",
      "[23/28] [loaded] frt0001fd76_07_if166j_mtr3: 161976 pixels\n",
      "[24/28] [loaded] frt00016ed6_07_if165j_mtr3: 82460 pixels\n",
      "[25/28] [loaded] frt00023370_00_if166j_mtr3: 84027 pixels\n",
      "[26/28] [loaded] frt00009c6a_07_if166j_mtr3: 172436 pixels\n",
      "[27/28] [loaded] frt00024c1a_07_if165j_mtr3: 53913 pixels\n",
      "[28/28] [loaded] frt00016a73_07_if166j_mtr3: 31303 pixels\n",
      "[OK] Total loaded samples: 4181618\n",
      "Done: predicted 4,181,618 test pixels in 12.4s\n"
     ]
    }
   ],
   "source": [
    "# test prediction with timing\n",
    "\n",
    "# load all test cubes into RAM\n",
    "test_ds = CRISMDatasetSubsetRAM(test_cubes, cube_to_paths, max_cubes=len(test_cubes))\n",
    "# dataloader for test prediction\n",
    "test_loader = DataLoader(test_ds, batch_size=40960, num_workers=18, pin_memory=True)\n",
    "\n",
    "# evaluate model and store predictions\n",
    "model.eval()\n",
    "predictions = []\n",
    "\n",
    "start_time = time.time()\n",
    "with torch.no_grad():\n",
    "    for X_batch, _ in test_loader:\n",
    "        X_batch = X_batch.to(device)\n",
    "        logits = model(X_batch)\n",
    "        preds = torch.argmax(logits, dim=1).cpu().numpy()\n",
    "        predictions.append(preds)\n",
    "\n",
    "predictions = np.concatenate(predictions)\n",
    "duration = time.time() - start_time\n",
    "print(f\"Done: predicted {len(predictions):,} test pixels in {duration:.1f}s\")"
   ]
  },
  {
   "cell_type": "code",
   "execution_count": 10,
   "id": "703fccfb-aace-457d-9fd8-06842fa5ffff",
   "metadata": {},
   "outputs": [
    {
     "name": "stdout",
     "output_type": "stream",
     "text": [
      "[OK] Saved: frt0000c202_07_if165j_mtr3 labelmap\n",
      "[OK] Saved: frt0000d6d6_07_if166j_mtr3 labelmap\n",
      "[OK] Saved: frt000161ef_07_if167j_mtr3 labelmap\n",
      "[OK] Saved: hrs00012aa7_07_if175j_mtr3 labelmap\n",
      "[OK] Saved: hrl0001b769_07_if183j_mtr3 labelmap\n",
      "[OK] Saved: frt00021da6_07_if166j_mtr3 labelmap\n",
      "[OK] Saved: hrl000116c6_07_if183j_mtr3 labelmap\n",
      "[OK] Saved: frt00009c31_07_if166j_mtr3 labelmap\n",
      "[OK] Saved: frt0000bfd1_07_if166j_mtr3 labelmap\n",
      "[OK] Saved: frt000093be_07_if166j_mtr3 labelmap\n",
      "[OK] Saved: frt00008389_07_if166j_mtr3 labelmap\n",
      "[OK] Saved: frt000174f4_07_if166j_mtr3 labelmap\n",
      "[OK] Saved: frt0000bec0_07_if165j_mtr3 labelmap\n",
      "[OK] Saved: frt00011d4c_07_if166j_mtr3 labelmap\n",
      "[OK] Saved: hrl0000cc16_07_if184j_mtr3 labelmap\n",
      "[OK] Saved: frt0000c968_07_if166j_mtr3 labelmap\n",
      "[OK] Saved: hrs00011c01_07_if175j_mtr3 labelmap\n",
      "[OK] Saved: frt0000c62b_07_if166j_mtr3 labelmap\n",
      "[OK] Saved: frt00007bc8_07_if166j_mtr3 labelmap\n",
      "[OK] Saved: frt00017103_07_if165j_mtr3 labelmap\n",
      "[OK] Saved: frt00016655_07_if166j_mtr3 labelmap\n",
      "[OK] Saved: frt0001487a_07_if166j_mtr3 labelmap\n",
      "[OK] Saved: frt0001fd76_07_if166j_mtr3 labelmap\n",
      "[OK] Saved: frt00016ed6_07_if165j_mtr3 labelmap\n",
      "[OK] Saved: frt00023370_00_if166j_mtr3 labelmap\n",
      "[OK] Saved: frt00009c6a_07_if166j_mtr3 labelmap\n",
      "[OK] Saved: frt00024c1a_07_if165j_mtr3 labelmap\n",
      "[OK] Saved: frt00016a73_07_if166j_mtr3 labelmap\n",
      "All CNN labelmaps saved to: ../outputs/cnn_labelmaps\n"
     ]
    }
   ],
   "source": [
    "# rebuild labelmaps\n",
    "\n",
    "# paths\n",
    "preprocessed_dir = '../data/nili_fossae_preprocessed_spectra'\n",
    "output_dir = '../outputs/cnn_labelmaps'\n",
    "os.makedirs(output_dir, exist_ok=True)\n",
    "\n",
    "# get files\n",
    "test_ids = np.concatenate([np.load(cube_to_paths[cube][2]) for cube in test_cubes])\n",
    "\n",
    "\n",
    "# Reconstruct labelmaps\n",
    "offset = 0\n",
    "for cube in test_cubes:\n",
    "    index_path = os.path.join(preprocessed_dir, f'{cube}_indices.npy')\n",
    "    indices = np.load(index_path)\n",
    "    h, w = indices[:, 0].max()+1, indices[:, 1].max()+1\n",
    "    labelmap = np.full((h, w), -1, dtype=np.int16)\n",
    "\n",
    "    preds_slice = predictions[offset:offset + len(indices)]\n",
    "    for (r, c), label in zip(indices, preds_slice):\n",
    "        labelmap[r, c] = label\n",
    "\n",
    "    offset += len(indices)\n",
    "\n",
    "    # save\n",
    "    np.save(os.path.join(output_dir, f\"{cube}_cnn_labelmap.npy\"), labelmap)\n",
    "\n",
    "    # show PNG\n",
    "    plt.figure(figsize=(6, 6))\n",
    "    plt.imshow(labelmap, cmap='tab10', interpolation='nearest')\n",
    "    plt.axis('off')\n",
    "    plt.title(f\"{cube} - CNN\")\n",
    "    plt.tight_layout()\n",
    "    plt.savefig(os.path.join(output_dir, f\"{cube}_cnn_labelmap.png\"))\n",
    "    plt.close()\n",
    "\n",
    "    print(f\"[OK] Saved: {cube} labelmap\")\n",
    "\n",
    "print(\"All CNN labelmaps saved to:\", output_dir)"
   ]
  },
  {
   "cell_type": "code",
   "execution_count": null,
   "id": "6522409d-5e01-4f25-8728-9d454698672a",
   "metadata": {},
   "outputs": [],
   "source": [
    "# final cleanup\n",
    "try:\n",
    "    del test_ds\n",
    "    del test_loader\n",
    "    del predictions\n",
    "    del model\n",
    "except NameError:\n",
    "    # ignore if already cleared\n",
    "    pass\n",
    "\n",
    "# force full garbage collection\n",
    "import gc\n",
    "gc.collect()\n",
    "torch.cuda.empty_cache()\n",
    "\n",
    "print(\"[OK] All data unloaded. Memory cleared.\")"
   ]
  }
 ],
 "metadata": {
  "kernelspec": {
   "display_name": "Python (hyperenv)",
   "language": "python",
   "name": "hyperenv"
  },
  "language_info": {
   "codemirror_mode": {
    "name": "ipython",
    "version": 3
   },
   "file_extension": ".py",
   "mimetype": "text/x-python",
   "name": "python",
   "nbconvert_exporter": "python",
   "pygments_lexer": "ipython3",
   "version": "3.9.22"
  }
 },
 "nbformat": 4,
 "nbformat_minor": 5
}
